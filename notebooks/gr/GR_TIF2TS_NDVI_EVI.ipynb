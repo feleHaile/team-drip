{
 "cells": [
  {
   "cell_type": "code",
   "execution_count": 2,
   "metadata": {},
   "outputs": [
    {
     "data": {
      "text/plain": [
       "<osgeo.gdal.Dataset; proxy of <Swig Object of type 'GDALDatasetShadow *' at 0x7f016c037db0> >"
      ]
     },
     "execution_count": 2,
     "metadata": {},
     "output_type": "execute_result"
    }
   ],
   "source": [
    "# stack (into time series) and seperate (different bands) the tif images of NDVI EVI from MODIS\n",
    "# \n",
    "from osgeo import gdal\n",
    "import numpy as np\n",
    "\n",
    "ds = gdal.Open('/home/599/rg6346/Downloads/MODIS_NDVI_EVI/MOD13A1_005_NDVI_2000-02-18.tif')\n",
    "ds\n"
   ]
  },
  {
   "cell_type": "code",
   "execution_count": 3,
   "metadata": {},
   "outputs": [
    {
     "name": "stdout",
     "output_type": "stream",
     "text": [
      "Band 1 has type int16\n",
      "Band 2 has type int16\n",
      "Band 3 has type int16\n"
     ]
    }
   ],
   "source": [
    "# loop through each band\n",
    "for bi in range(ds.RasterCount):\n",
    "    band = ds.GetRasterBand(bi + 1)\n",
    "    # Read this band into a 2D NumPy array\n",
    "    ar = band.ReadAsArray()\n",
    "    print('Band %d has type %s'%(bi + 1, ar.dtype))\n",
    "    raw = ar.tostring()"
   ]
  },
  {
   "cell_type": "code",
   "execution_count": 4,
   "metadata": {},
   "outputs": [
    {
     "data": {
      "text/plain": [
       "array([[1014,  967,  967, ...,    0,    0,    0],\n",
       "       [1006,  990,  967, ...,    0,    0,    0],\n",
       "       [1006,  990,  990, ...,    0,    0,    0],\n",
       "       ..., \n",
       "       [   0,    0,    0, ...,    0,    0,    0],\n",
       "       [   0,    0,    0, ...,    0,    0,    0],\n",
       "       [   0,    0,    0, ...,    0,    0,    0]], dtype=int16)"
      ]
     },
     "execution_count": 4,
     "metadata": {},
     "output_type": "execute_result"
    }
   ],
   "source": [
    "ar"
   ]
  },
  {
   "cell_type": "code",
   "execution_count": 42,
   "metadata": {},
   "outputs": [
    {
     "data": {
      "text/plain": [
       "<osgeo.gdal.Dataset; proxy of <Swig Object of type 'GDALDatasetShadow *' at 0x7f015523ff90> >"
      ]
     },
     "execution_count": 42,
     "metadata": {},
     "output_type": "execute_result"
    }
   ],
   "source": [
    "outvrt = '/vsimem/stacked.vrt' #/vsimem is special in-memory virtual \"directory\"\n",
    "outtif = '/tmp/stacked.tif'\n",
    "a = '/home/599/rg6346/Downloads/MODIS_NDVI_EVI/MOD13A1_005_NDVI_2000-02-18.tif'\n",
    "b = '/home/599/rg6346/Downloads/MODIS_NDVI_EVI/MOD13A1_005_NDVI_2000-03-05.tif'\n",
    "c = '/home/599/rg6346/Downloads/MODIS_NDVI_EVI/MOD13A1_005_NDVI_2000-03-21.tif'\n",
    "d = '/home/599/rg6346/Downloads/MODIS_NDVI_EVI/MOD13A1_005_NDVI_2000-02-18.tif'\n",
    "tifs = [a, b, c, d] \n",
    "#or for all tifs in a dir\n",
    "#import glob\n",
    "#tifs = glob.glob('dir/*.tif')\n",
    "\n",
    "outds = gdal.BuildVRT(outvrt, tifs, separate=True)\n",
    "outds = gdal.Translate(outtif, outds)\n",
    "outds"
   ]
  },
  {
   "cell_type": "code",
   "execution_count": 41,
   "metadata": {},
   "outputs": [
    {
     "ename": "AttributeError",
     "evalue": "'str' object has no attribute 'RasterCount'",
     "output_type": "error",
     "traceback": [
      "\u001b[0;31m---------------------------------------------------------------------------\u001b[0m",
      "\u001b[0;31mAttributeError\u001b[0m                            Traceback (most recent call last)",
      "\u001b[0;32m<ipython-input-41-adc14b6435ef>\u001b[0m in \u001b[0;36m<module>\u001b[0;34m()\u001b[0m\n\u001b[0;32m----> 1\u001b[0;31m \u001b[0ma\u001b[0m\u001b[0;34m.\u001b[0m\u001b[0mRasterCount\u001b[0m\u001b[0;34m\u001b[0m\u001b[0m\n\u001b[0m\u001b[1;32m      2\u001b[0m \u001b[0;31m#outds.GetRasterBand\u001b[0m\u001b[0;34m\u001b[0m\u001b[0;34m\u001b[0m\u001b[0m\n",
      "\u001b[0;31mAttributeError\u001b[0m: 'str' object has no attribute 'RasterCount'"
     ]
    }
   ],
   "source": [
    "outds.RasterCount\n",
    "#outds.GetRasterBand"
   ]
  },
  {
   "cell_type": "code",
   "execution_count": 16,
   "metadata": {},
   "outputs": [
    {
     "name": "stdout",
     "output_type": "stream",
     "text": [
      "Band 1 has type int16\n",
      "Band 2 has type int16\n",
      "Band 3 has type int16\n",
      "Band 4 has type int16\n"
     ]
    }
   ],
   "source": [
    "for bi in range(outds.RasterCount):\n",
    "    bandout = outds.GetRasterBand(bi + 1)\n",
    "    # Read this band into a 2D NumPy array\n",
    "    outar = bandout.ReadAsArray()\n",
    "    print('Band %d has type %s'%(bi + 1, ar.dtype))\n",
    "    raw = outar.tostring()"
   ]
  },
  {
   "cell_type": "code",
   "execution_count": 14,
   "metadata": {},
   "outputs": [
    {
     "data": {
      "text/plain": [
       "array([[63, 63, 63, ...,  0,  0,  0],\n",
       "       [63, 63, 63, ...,  0,  0,  0],\n",
       "       [63, 63, 63, ...,  0,  0,  0],\n",
       "       ..., \n",
       "       [ 0,  0,  0, ...,  0,  0,  0],\n",
       "       [ 0,  0,  0, ...,  0,  0,  0],\n",
       "       [ 0,  0,  0, ...,  0,  0,  0]], dtype=int16)"
      ]
     },
     "execution_count": 14,
     "metadata": {},
     "output_type": "execute_result"
    }
   ],
   "source": [
    "outar"
   ]
  },
  {
   "cell_type": "code",
   "execution_count": 44,
   "metadata": {},
   "outputs": [],
   "source": [
    "import rasterio\n",
    "import glob\n",
    "dir = '/home/599/rg6346/Downloads/MODIS_NDVI_EVI'\n",
    "#tifs = glob.glob('dir/*.tif')\n",
    "#file_list = tifs\n",
    "file_list = [a, b, c, d]\n",
    "\n",
    "# Read metadata of first file\n",
    "with rasterio.open(file_list[0]) as src0:\n",
    "    meta = src0.meta\n",
    "\n",
    "# Update meta to reflect the number of layers\n",
    "meta.update(count = len(file_list))\n",
    "\n",
    "# Read each layer and write it to stack\n",
    "with rasterio.open('stack.tif', 'w', **meta) as dst:\n",
    "    for id, layer in enumerate(file_list):\n",
    "        with rasterio.open(layer) as src1:\n",
    "            dst.write_band(id + 1, src1.read(1))"
   ]
  },
  {
   "cell_type": "code",
   "execution_count": 47,
   "metadata": {},
   "outputs": [
    {
     "data": {
      "text/plain": [
       "{'count': 4,\n",
       " 'crs': CRS({'init': 'epsg:4326'}),\n",
       " 'driver': 'GTiff',\n",
       " 'dtype': 'int16',\n",
       " 'height': 3147,\n",
       " 'nodata': None,\n",
       " 'transform': Affine(0.004162008945837755, 0.0, 138.5657638337764,\n",
       "       0.0, -0.004162008945837755, -24.58498684306362),\n",
       " 'width': 3346}"
      ]
     },
     "execution_count": 47,
     "metadata": {},
     "output_type": "execute_result"
    }
   ],
   "source": [
    "meta"
   ]
  },
  {
   "cell_type": "code",
   "execution_count": 46,
   "metadata": {},
   "outputs": [
    {
     "data": {
      "text/plain": [
       "<closed DatasetWriter name='stack.tif' mode='w'>"
      ]
     },
     "execution_count": 46,
     "metadata": {},
     "output_type": "execute_result"
    }
   ],
   "source": [
    "dst\n",
    "#tifs\n",
    "#file_list"
   ]
  },
  {
   "cell_type": "code",
   "execution_count": null,
   "metadata": {},
   "outputs": [],
   "source": []
  }
 ],
 "metadata": {
  "kernelspec": {
   "display_name": "Python 3",
   "language": "python",
   "name": "python3"
  },
  "language_info": {
   "codemirror_mode": {
    "name": "ipython",
    "version": 3
   },
   "file_extension": ".py",
   "mimetype": "text/x-python",
   "name": "python",
   "nbconvert_exporter": "python",
   "pygments_lexer": "ipython3",
   "version": "3.6.3"
  }
 },
 "nbformat": 4,
 "nbformat_minor": 2
}
