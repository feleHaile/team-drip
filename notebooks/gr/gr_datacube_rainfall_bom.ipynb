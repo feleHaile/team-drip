{
 "cells": [
  {
   "cell_type": "markdown",
   "metadata": {},
   "source": [
    "## Accessing Data Cube\n",
    "To begin, run following in terminal:\n",
    "\n",
    "$ module load agdc-py3-prod\n",
    "\n",
    "\n",
    "\n",
    "Then run 'jupyter notebook' from same terminal.\n"
   ]
  },
  {
   "cell_type": "code",
   "execution_count": 23,
   "metadata": {},
   "outputs": [],
   "source": [
    "%matplotlib inline\n",
    "import datacube\n",
    "import pandas\n",
    "pandas.set_option('display.max_colwidth', 200)\n",
    "pandas.set_option('display.max_rows', None)\n",
    "from datacube.storage.masking import mask_invalid_data"
   ]
  },
  {
   "cell_type": "code",
   "execution_count": 24,
   "metadata": {},
   "outputs": [
    {
     "data": {
      "text/plain": [
       "Datacube<index=Index<db=PostgresDb<engine=Engine(postgresql://rg6346@130.56.244.105:6432/datacube)>>>"
      ]
     },
     "execution_count": 24,
     "metadata": {},
     "output_type": "execute_result"
    }
   ],
   "source": [
    "#app is a note to let GA know what we are doing with it, user-defined\n",
    "#when loading data, #make sure data is on same coordinate scale or convert \n",
    "dc=datacube.Datacube(app='learn-data-access')\n",
    "dc"
   ]
  },
  {
   "cell_type": "code",
   "execution_count": 28,
   "metadata": {},
   "outputs": [
    {
     "data": {
      "text/plain": [
       "['name',\n",
       " 'description',\n",
       " 'gqa_cep90',\n",
       " 'gsi',\n",
       " 'time',\n",
       " 'sat_row',\n",
       " 'gqa',\n",
       " 'gqa_stddev_xy',\n",
       " 'format',\n",
       " 'gqa_ref_source',\n",
       " 'gqa_final_gcp_count',\n",
       " 'gqa_iterative_stddev_xy',\n",
       " 'sat_path',\n",
       " 'ancillary_quality',\n",
       " 'product_type',\n",
       " 'orbit',\n",
       " 'gqa_iterative_mean_xy',\n",
       " 'gqa_abs_xy',\n",
       " 'lon',\n",
       " 'lat',\n",
       " 'gqa_mean_xy',\n",
       " 'gqa_error_message',\n",
       " 'instrument',\n",
       " 'gqa_abs_iterative_mean_xy',\n",
       " 'platform',\n",
       " 'crs',\n",
       " 'resolution',\n",
       " 'tile_size',\n",
       " 'spatial_dimensions']"
      ]
     },
     "execution_count": 28,
     "metadata": {},
     "output_type": "execute_result"
    }
   ],
   "source": [
    "products = dc.list_products()\n",
    "products.columns.tolist()\n"
   ]
  },
  {
   "cell_type": "code",
   "execution_count": 31,
   "metadata": {},
   "outputs": [
    {
     "data": {
      "text/plain": [
       "['name',\n",
       " 'discription',\n",
       " 'platform',\n",
       " 'product_type',\n",
       " 'instrument',\n",
       " 'crs',\n",
       " 'resolution']"
      ]
     },
     "execution_count": 31,
     "metadata": {},
     "output_type": "execute_result"
    }
   ],
   "source": [
    "display_columns = ['name','discription','platform','product_type','instrument','crs','resolution']\n",
    "display_columns"
   ]
  },
  {
   "cell_type": "code",
   "execution_count": 38,
   "metadata": {},
   "outputs": [
    {
     "data": {
      "text/plain": [
       "['name',\n",
       " 'description',\n",
       " 'gqa_cep90',\n",
       " 'gsi',\n",
       " 'time',\n",
       " 'sat_row',\n",
       " 'gqa',\n",
       " 'gqa_stddev_xy',\n",
       " 'format',\n",
       " 'gqa_ref_source',\n",
       " 'gqa_final_gcp_count',\n",
       " 'gqa_iterative_stddev_xy',\n",
       " 'sat_path',\n",
       " 'ancillary_quality',\n",
       " 'product_type',\n",
       " 'orbit',\n",
       " 'gqa_iterative_mean_xy',\n",
       " 'gqa_abs_xy',\n",
       " 'lon',\n",
       " 'lat',\n",
       " 'gqa_mean_xy',\n",
       " 'gqa_error_message',\n",
       " 'instrument',\n",
       " 'gqa_abs_iterative_mean_xy',\n",
       " 'platform',\n",
       " 'crs',\n",
       " 'resolution',\n",
       " 'tile_size',\n",
       " 'spatial_dimensions']"
      ]
     },
     "execution_count": 38,
     "metadata": {},
     "output_type": "execute_result"
    }
   ],
   "source": [
    "products = dc.list_products()\n",
    "products.columns.tolist()"
   ]
  },
  {
   "cell_type": "code",
   "execution_count": 44,
   "metadata": {},
   "outputs": [
    {
     "ename": "NameError",
     "evalue": "name 'productlist' is not defined",
     "output_type": "error",
     "traceback": [
      "\u001b[0;31m---------------------------------------------------------------------------\u001b[0m",
      "\u001b[0;31mNameError\u001b[0m                                 Traceback (most recent call last)",
      "\u001b[0;32m<ipython-input-44-3732a472a832>\u001b[0m in \u001b[0;36m<module>\u001b[0;34m()\u001b[0m\n\u001b[1;32m      3\u001b[0m \u001b[0mnbar_list\u001b[0m \u001b[0;34m=\u001b[0m \u001b[0mproducts\u001b[0m\u001b[0;34m[\u001b[0m\u001b[0mproducts\u001b[0m\u001b[0;34m[\u001b[0m\u001b[0;34m'product_type'\u001b[0m\u001b[0;34m]\u001b[0m \u001b[0;34m==\u001b[0m \u001b[0;34m'nbar'\u001b[0m\u001b[0;34m]\u001b[0m\u001b[0;34m[\u001b[0m\u001b[0mdisplay_columns\u001b[0m\u001b[0;34m]\u001b[0m\u001b[0;34m.\u001b[0m\u001b[0mdropna\u001b[0m\u001b[0;34m(\u001b[0m\u001b[0;34m)\u001b[0m\u001b[0;34m\u001b[0m\u001b[0m\n\u001b[1;32m      4\u001b[0m \u001b[0;31m# productlist = products[display_columns].dropna()\u001b[0m\u001b[0;34m\u001b[0m\u001b[0;34m\u001b[0m\u001b[0m\n\u001b[0;32m----> 5\u001b[0;31m \u001b[0mproductlist\u001b[0m\u001b[0;34m\u001b[0m\u001b[0m\n\u001b[0m",
      "\u001b[0;31mNameError\u001b[0m: name 'productlist' is not defined"
     ]
    }
   ],
   "source": [
    "display_columns = ['name', 'description', 'platform', 'product_type', 'instrument', 'crs', 'resolution']\n",
    "# #list only nbar products\n",
    "nbar_list = products[products['product_type'] == 'nbar'][display_columns].dropna()\n",
    "# productlist = products[display_columns].dropna()\n",
    "productlist"
   ]
  },
  {
   "cell_type": "code",
   "execution_count": null,
   "metadata": {},
   "outputs": [],
   "source": [
    "query = {\n",
    "    'time': ('2000-01-01', '2017-12-31'),\n",
    "    'lat': (-35, -36),\n",
    "    'lon': (146.0, 147.0),\n",
    "}"
   ]
  },
  {
   "cell_type": "code",
   "execution_count": 8,
   "metadata": {},
   "outputs": [
    {
     "data": {
      "text/plain": [
       "<xarray.Dataset>\n",
       "Dimensions:  ()\n",
       "Data variables:\n",
       "    *empty*"
      ]
     },
     "execution_count": 8,
     "metadata": {},
     "output_type": "execute_result"
    }
   ],
   "source": [
    "#2 stars unpack the limits of our query, we load specific measurements from a product\n",
    "data = dc.load(product='modis_mcd43a3_tile', measurements=['BRDF_Albedo_Band_Mandatory_Quality_Band1', 'Nadir_reflectance_Band2', 'Nadir_reflectance_Band3'], **query)\n",
    "#mask invalid data removes clouds/shadows\n",
    "data = mask_invalid_data(data)\n",
    "data"
   ]
  },
  {
   "cell_type": "code",
   "execution_count": null,
   "metadata": {
    "collapsed": true
   },
   "outputs": [],
   "source": []
  }
 ],
 "metadata": {
  "kernelspec": {
   "display_name": "Python 3",
   "language": "python",
   "name": "python3"
  },
  "language_info": {
   "codemirror_mode": {
    "name": "ipython",
    "version": 3
   },
   "file_extension": ".py",
   "mimetype": "text/x-python",
   "name": "python",
   "nbconvert_exporter": "python",
   "pygments_lexer": "ipython3",
   "version": "3.6.3"
  }
 },
 "nbformat": 4,
 "nbformat_minor": 2
}
