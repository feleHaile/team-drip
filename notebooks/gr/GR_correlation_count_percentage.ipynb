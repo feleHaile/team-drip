{
 "cells": [
  {
   "cell_type": "code",
   "execution_count": 1,
   "metadata": {},
   "outputs": [],
   "source": [
    "import xarray as xr\n",
    "import pandas as pd\n",
    "import numpy as np\n",
    "\n",
    "import matplotlib.pyplot as plt\n",
    "import seaborn\n",
    "\n",
    "%matplotlib inline\n",
    "seaborn.set_style('dark')\n",
    "from scipy import stats\n",
    "\n",
    "from scipy.stats import linregress, pearsonr, spearmanr"
   ]
  },
  {
   "cell_type": "code",
   "execution_count": 3,
   "metadata": {},
   "outputs": [
    {
     "data": {
      "text/plain": [
       "<xarray.Dataset>\n",
       "Dimensions:     (latitude: 263, longitude: 280)\n",
       "Coordinates:\n",
       "  * latitude    (latitude) float64 -24.55 -24.6 -24.65 -24.7 -24.75 -24.8 ...\n",
       "  * longitude   (longitude) float64 138.5 138.6 138.6 138.7 138.7 138.8 ...\n",
       "Data variables:\n",
       "    pearson_r   (latitude, longitude) float64 ...\n",
       "    pearson_p   (latitude, longitude) float64 ...\n",
       "    spearman_r  (latitude, longitude) float64 ...\n",
       "    spearman_p  (latitude, longitude) float64 ..."
      ]
     },
     "execution_count": 3,
     "metadata": {},
     "output_type": "execute_result"
    }
   ],
   "source": [
    "\n",
    "inpath_ndvi = '/g/data/oe9/project/team-drip/Spatial_temporal_correlation/SPI_VI_before_after/corr_diff_12M_NDVI.nc'\n",
    "inpath_evi = '/g/data/oe9/project/team-drip/Spatial_temporal_correlation/SPI_VI_before_after/corr_diff_12M_NDVI.nc'\n",
    "\n",
    "ndvispi= xr.open_dataset(inpath_ndvi)\n",
    "evispi=xr.open_dataset(inpath_evi)\n",
    "evispi"
   ]
  },
  {
   "cell_type": "code",
   "execution_count": 15,
   "metadata": {},
   "outputs": [
    {
     "ename": "TypeError",
     "evalue": "'type' object is not subscriptable",
     "output_type": "error",
     "traceback": [
      "\u001b[0;31m---------------------------------------------------------------------------\u001b[0m",
      "\u001b[0;31mTypeError\u001b[0m                                 Traceback (most recent call last)",
      "\u001b[0;32m<ipython-input-15-65491be816ef>\u001b[0m in \u001b[0;36m<module>\u001b[0;34m()\u001b[0m\n\u001b[1;32m      4\u001b[0m \u001b[0;31m# group1 = ndvispi.pearson_r.groupby_bins(group, bins=bin1, right= True, labels=None)\u001b[0m\u001b[0;34m\u001b[0m\u001b[0;34m\u001b[0m\u001b[0m\n\u001b[1;32m      5\u001b[0m \u001b[0;31m# group1\u001b[0m\u001b[0;34m\u001b[0m\u001b[0;34m\u001b[0m\u001b[0m\n\u001b[0;32m----> 6\u001b[0;31m \u001b[0mgroup1\u001b[0m \u001b[0;34m=\u001b[0m\u001b[0mndvispi\u001b[0m\u001b[0;34m.\u001b[0m\u001b[0mpearson_r\u001b[0m\u001b[0;34m.\u001b[0m\u001b[0mwhere\u001b[0m\u001b[0;34m(\u001b[0m\u001b[0mrange\u001b[0m\u001b[0;34m[\u001b[0m\u001b[0;36m0.1\u001b[0m\u001b[0;34m,\u001b[0m\u001b[0;36m1\u001b[0m\u001b[0;34m]\u001b[0m\u001b[0;34m)\u001b[0m\u001b[0;34m\u001b[0m\u001b[0m\n\u001b[0m\u001b[1;32m      7\u001b[0m \u001b[0mgroup1\u001b[0m\u001b[0;34m.\u001b[0m\u001b[0mcount\u001b[0m\u001b[0;34m(\u001b[0m\u001b[0;34m)\u001b[0m\u001b[0;34m\u001b[0m\u001b[0m\n\u001b[1;32m      8\u001b[0m \u001b[0;31m# bins = [-1, -0.5, 0, 0.5, 1]\u001b[0m\u001b[0;34m\u001b[0m\u001b[0;34m\u001b[0m\u001b[0m\n",
      "\u001b[0;31mTypeError\u001b[0m: 'type' object is not subscriptable"
     ]
    }
   ],
   "source": [
    "# SIGNIFICANT = 0.05  # Choose your own!\n",
    "# bin1 = [-1, -0.5, 0, 0.5, 1]\n",
    "# group = {'1' '2' '3' '4'}\n",
    "# group1 = ndvispi.pearson_r.groupby_bins(group, bins=bin1, right= True, labels=None)\n",
    "# group1\n",
    "group1 =ndvispi.pearson_r.where(ndvispi.pearson_r=range[0.1,1])\n",
    "group1.count()\n",
    "# bins = [-1, -0.5, 0, 0.5, 1]\n",
    "# groups = df.groupby(pd.cut(df.views, bins))\n",
    "# groups.username.count()"
   ]
  },
  {
   "cell_type": "code",
   "execution_count": null,
   "metadata": {},
   "outputs": [],
   "source": []
  }
 ],
 "metadata": {
  "kernelspec": {
   "display_name": "Python 3",
   "language": "python",
   "name": "python3"
  },
  "language_info": {
   "codemirror_mode": {
    "name": "ipython",
    "version": 3
   },
   "file_extension": ".py",
   "mimetype": "text/x-python",
   "name": "python",
   "nbconvert_exporter": "python",
   "pygments_lexer": "ipython3",
   "version": "3.6.3"
  }
 },
 "nbformat": 4,
 "nbformat_minor": 2
}
