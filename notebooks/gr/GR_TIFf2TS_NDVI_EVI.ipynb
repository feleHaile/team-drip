{
 "cells": [
  {
   "cell_type": "code",
   "execution_count": 86,
   "metadata": {},
   "outputs": [
    {
     "name": "stdout",
     "output_type": "stream",
     "text": [
      "Band 1 has type int16\n",
      "Band 2 has type int16\n",
      "Band 3 has type int16\n"
     ]
    }
   ],
   "source": [
    "# stack (into time series) and seperate (different bands) the tif images of NDVI EVI from MODIS\n",
    "# \n",
    "from osgeo import gdal\n",
    "import numpy as np\n",
    "\n",
    "ds = gdal.Open('/home/599/rg6346/Downloads/MODIS_NDVI_EVI/MOD13A1_005_NDVI_2000-02-18.tif')\n",
    "for bi in range(ds.RasterCount):\n",
    "    band = ds.GetRasterBand(bi + 1)\n",
    "    # Read this band into a 2D NumPy array\n",
    "    ar = band.ReadAsArray()\n",
    "    print('Band %d has type %s'%(bi + 1, ar.dtype))\n",
    "    raw = ar.tostring()\n"
   ]
  },
  {
   "cell_type": "code",
   "execution_count": 67,
   "metadata": {},
   "outputs": [
    {
     "ename": "TypeError",
     "evalue": "'NoneType' object is not callable",
     "output_type": "error",
     "traceback": [
      "\u001b[0;31m---------------------------------------------------------------------------\u001b[0m",
      "\u001b[0;31mTypeError\u001b[0m                                 Traceback (most recent call last)",
      "\u001b[0;32m<ipython-input-67-bb06be8fc390>\u001b[0m in \u001b[0;36m<module>\u001b[0;34m()\u001b[0m\n\u001b[1;32m      5\u001b[0m \u001b[0mbr2\u001b[0m \u001b[0;34m=\u001b[0m \u001b[0mb1\u001b[0m\u001b[0;34m.\u001b[0m\u001b[0mReadAsArray\u001b[0m\u001b[0;34m(\u001b[0m\u001b[0;36m2\u001b[0m\u001b[0;34m)\u001b[0m\u001b[0;34m\u001b[0m\u001b[0m\n\u001b[1;32m      6\u001b[0m \u001b[0;31m# br1\u001b[0m\u001b[0;34m\u001b[0m\u001b[0;34m\u001b[0m\u001b[0m\n\u001b[0;32m----> 7\u001b[0;31m \u001b[0mbr2\u001b[0m\u001b[0;34m(\u001b[0m\u001b[0;34m)\u001b[0m\u001b[0;34m\u001b[0m\u001b[0m\n\u001b[0m\u001b[1;32m      8\u001b[0m \u001b[0;34m\u001b[0m\u001b[0m\n",
      "\u001b[0;31mTypeError\u001b[0m: 'NoneType' object is not callable"
     ]
    }
   ],
   "source": [
    "# loop through each band\n",
    "\n",
    "\n"
   ]
  },
  {
   "cell_type": "code",
   "execution_count": 82,
   "metadata": {},
   "outputs": [
    {
     "data": {
      "text/plain": [
       "<osgeo.gdal.Dataset; proxy of <Swig Object of type 'GDALDatasetShadow *' at 0x7f0154412e40> >"
      ]
     },
     "execution_count": 82,
     "metadata": {},
     "output_type": "execute_result"
    }
   ],
   "source": [
    "outvrt = '/home/599/rg6346/Downloads/stacked.vrt' #/vsimem is special in-memory virtual \"directory\"\n",
    "outtif = '/home/599/rg6346/Downloads/stacked.tif'\n",
    "\n",
    "import glob\n",
    "# dir = '/home/599/rg6346/Downloads'\n",
    "tifs = glob.glob('/home/599/rg6346/Downloads/MODIS_NDVI_EVI/*.tif')\n",
    "\n",
    "outds = gdal.BuildVRT(outvrt, tifs, separate=True)\n",
    "outds = gdal.Translate(outtif, outds)\n",
    "outds"
   ]
  },
  {
   "cell_type": "code",
   "execution_count": 90,
   "metadata": {},
   "outputs": [
    {
     "data": {
      "text/plain": [
       "7"
      ]
     },
     "execution_count": 90,
     "metadata": {},
     "output_type": "execute_result"
    }
   ],
   "source": [
    "outds.RasterCount\n",
    "#outds.GetRasterBand"
   ]
  },
  {
   "cell_type": "code",
   "execution_count": 88,
   "metadata": {},
   "outputs": [
    {
     "name": "stdout",
     "output_type": "stream",
     "text": [
      "Band 1 has type int16\n",
      "Band 2 has type int16\n",
      "Band 3 has type int16\n",
      "Band 4 has type int16\n",
      "Band 5 has type int16\n",
      "Band 6 has type int16\n",
      "Band 7 has type int16\n"
     ]
    }
   ],
   "source": [
    "for bi in range(outds.RasterCount):\n",
    "    bandout = outds.GetRasterBand(bi + 1)\n",
    "    # Read this band into a 2D NumPy array\n",
    "    outar = bandout.ReadAsArray()\n",
    "    print('Band %d has type %s'%(bi + 1, ar.dtype))\n",
    "    raw = outar.tostring()"
   ]
  },
  {
   "cell_type": "code",
   "execution_count": 85,
   "metadata": {},
   "outputs": [
    {
     "data": {
      "text/plain": [
       "array([[129, 129, 129, ...,   0,   0,   0],\n",
       "       [129, 129, 129, ...,   0,   0,   0],\n",
       "       [129, 129, 129, ...,   0,   0,   0],\n",
       "       ..., \n",
       "       [  0,   0,   0, ...,   0,   0,   0],\n",
       "       [  0,   0,   0, ...,   0,   0,   0],\n",
       "       [  0,   0,   0, ...,   0,   0,   0]], dtype=int16)"
      ]
     },
     "execution_count": 85,
     "metadata": {},
     "output_type": "execute_result"
    }
   ],
   "source": [
    "outar"
   ]
  },
  {
   "cell_type": "code",
   "execution_count": null,
   "metadata": {},
   "outputs": [],
   "source": []
  },
  {
   "cell_type": "code",
   "execution_count": 70,
   "metadata": {},
   "outputs": [
    {
     "data": {
      "text/plain": [
       "[]"
      ]
     },
     "execution_count": 70,
     "metadata": {},
     "output_type": "execute_result"
    }
   ],
   "source": [
    "# Update meta to reflect the number of layers\n",
    "meta.update(count = len(file_list))\n",
    "\n",
    "# Read each layer and write it to stack\n",
    "with rasterio.open('stack.tif', 'w', **meta) as dst:\n",
    "    for id, layer in enumerate(file_list):\n",
    "        with rasterio.open(layer) as src1:\n",
    "            dst.write_band(id + 1, src1.read(1))"
   ]
  },
  {
   "cell_type": "code",
   "execution_count": 46,
   "metadata": {},
   "outputs": [
    {
     "data": {
      "text/plain": [
       "<closed DatasetWriter name='stack.tif' mode='w'>"
      ]
     },
     "execution_count": 46,
     "metadata": {},
     "output_type": "execute_result"
    }
   ],
   "source": [
    "dst\n",
    "#tifs\n",
    "#file_list"
   ]
  },
  {
   "cell_type": "code",
   "execution_count": 91,
   "metadata": {},
   "outputs": [],
   "source": [
    "import xarray as xr"
   ]
  },
  {
   "cell_type": "code",
   "execution_count": 93,
   "metadata": {},
   "outputs": [
    {
     "name": "stderr",
     "output_type": "stream",
     "text": [
      "/g/data/v10/public/modules/agdc-py3-env/20171214/envs/agdc/lib/python3.6/site-packages/ipykernel_launcher.py:1: FutureWarning: the `dim` argument to `concat` will be required in a future version of xarray; for now, setting it to the old default of 'concat_dim'\n",
      "  \"\"\"Entry point for launching an IPython kernel.\n"
     ]
    },
    {
     "data": {
      "text/plain": [
       "<xarray.DataArray (concat_dims: 7, band: 3, y: 3147, x: 3346)>\n",
       "array([[[[  63, ...,    0],\n",
       "         ..., \n",
       "         [   0, ...,    0]],\n",
       "\n",
       "        ..., \n",
       "        [[1014, ...,    0],\n",
       "         ..., \n",
       "         [   0, ...,    0]]],\n",
       "\n",
       "\n",
       "       ..., \n",
       "       [[[ 129, ...,    0],\n",
       "         ..., \n",
       "         [   0, ...,    0]],\n",
       "\n",
       "        ..., \n",
       "        [[1097, ...,    0],\n",
       "         ..., \n",
       "         [   0, ...,    0]]]], dtype=int16)\n",
       "Coordinates:\n",
       "  * band     (band) int64 1 2 3\n",
       "  * y        (y) float64 -24.59 -24.59 -24.6 -24.6 -24.6 -24.61 -24.61 ...\n",
       "  * x        (x) float64 138.6 138.6 138.6 138.6 138.6 138.6 138.6 138.6 ...\n",
       "Dimensions without coordinates: concat_dims\n",
       "Attributes:\n",
       "    crs:        +init=epsg:4326\n",
       "    res:        (0.004162008945837755, 0.004162008945837755)\n",
       "    is_tiled:   1\n",
       "    transform:  (0.004162008945837755, 0.0, 138.5657638337764, 0.0, -0.004162..."
      ]
     },
     "execution_count": 93,
     "metadata": {},
     "output_type": "execute_result"
    }
   ],
   "source": [
    "all_tifs = xr.concat(xr.open_rasterio(tif) for tif in tifs)\n",
    "all_tifs"
   ]
  },
  {
   "cell_type": "code",
   "execution_count": 94,
   "metadata": {},
   "outputs": [
    {
     "data": {
      "text/plain": [
       "['/home/599/rg6346/Downloads/MODIS_NDVI_EVI/MOD13A1_005_NDVI_2000-02-18.tif',\n",
       " '/home/599/rg6346/Downloads/MODIS_NDVI_EVI/MOD13A1_005_NDVI_2000-03-05.tif',\n",
       " '/home/599/rg6346/Downloads/MODIS_NDVI_EVI/MOD13A1_005_NDVI_2000-03-21.tif',\n",
       " '/home/599/rg6346/Downloads/MODIS_NDVI_EVI/MOD13A1_005_NDVI_2000-04-06.tif',\n",
       " '/home/599/rg6346/Downloads/MODIS_NDVI_EVI/MOD13A1_005_NDVI_2000-04-22.tif',\n",
       " '/home/599/rg6346/Downloads/MODIS_NDVI_EVI/MOD13A1_005_NDVI_2000-05-24.tif',\n",
       " '/home/599/rg6346/Downloads/MODIS_NDVI_EVI/MOD13A1_005_NDVI_2000-05-08.tif']"
      ]
     },
     "execution_count": 94,
     "metadata": {},
     "output_type": "execute_result"
    }
   ],
   "source": [
    "tifs"
   ]
  },
  {
   "cell_type": "code",
   "execution_count": 96,
   "metadata": {},
   "outputs": [],
   "source": [
    "import pandas as pd"
   ]
  },
  {
   "cell_type": "code",
   "execution_count": 102,
   "metadata": {},
   "outputs": [
    {
     "data": {
      "text/plain": [
       "DatetimeIndex(['2000-02-18', '2000-03-05', '2000-03-21', '2000-04-06',\n",
       "               '2000-04-22', '2000-05-24', '2000-05-08'],\n",
       "              dtype='datetime64[ns]', name='time', freq=None)"
      ]
     },
     "execution_count": 102,
     "metadata": {},
     "output_type": "execute_result"
    }
   ],
   "source": [
    "dates = [f.rstrip('.tif')[-10:] for f in tifs]\n",
    "dates = pd.to_datetime(dates, format='%Y-%m-%d')\n",
    "dates.name = 'time'\n",
    "dates"
   ]
  },
  {
   "cell_type": "code",
   "execution_count": 103,
   "metadata": {},
   "outputs": [
    {
     "data": {
      "text/plain": [
       "<xarray.DataArray (time: 7, band: 3, y: 3147, x: 3346)>\n",
       "array([[[[  63, ...,    0],\n",
       "         ..., \n",
       "         [   0, ...,    0]],\n",
       "\n",
       "        ..., \n",
       "        [[1014, ...,    0],\n",
       "         ..., \n",
       "         [   0, ...,    0]]],\n",
       "\n",
       "\n",
       "       ..., \n",
       "       [[[ 129, ...,    0],\n",
       "         ..., \n",
       "         [   0, ...,    0]],\n",
       "\n",
       "        ..., \n",
       "        [[1097, ...,    0],\n",
       "         ..., \n",
       "         [   0, ...,    0]]]], dtype=int16)\n",
       "Coordinates:\n",
       "  * band     (band) int64 1 2 3\n",
       "  * y        (y) float64 -24.59 -24.59 -24.6 -24.6 -24.6 -24.61 -24.61 ...\n",
       "  * x        (x) float64 138.6 138.6 138.6 138.6 138.6 138.6 138.6 138.6 ...\n",
       "  * time     (time) datetime64[ns] 2000-02-18 2000-03-05 2000-03-21 ...\n",
       "Attributes:\n",
       "    crs:        +init=epsg:4326\n",
       "    res:        (0.004162008945837755, 0.004162008945837755)\n",
       "    is_tiled:   1\n",
       "    transform:  (0.004162008945837755, 0.0, 138.5657638337764, 0.0, -0.004162..."
      ]
     },
     "execution_count": 103,
     "metadata": {},
     "output_type": "execute_result"
    }
   ],
   "source": [
    "all_tifs = xr.concat([xr.open_rasterio(tif) for tif in tifs], dim=dates)\n",
    "all_tifs"
   ]
  },
  {
   "cell_type": "code",
   "execution_count": 107,
   "metadata": {},
   "outputs": [
    {
     "ename": "SyntaxError",
     "evalue": "invalid syntax (phenology.py, line 94)",
     "output_type": "error",
     "traceback": [
      "Traceback \u001b[0;36m(most recent call last)\u001b[0m:\n",
      "  File \u001b[1;32m\"/g/data/v10/public/modules/agdc-py3-env/20171214/envs/agdc/lib/python3.6/site-packages/IPython/core/interactiveshell.py\"\u001b[0m, line \u001b[1;32m2910\u001b[0m, in \u001b[1;35mrun_code\u001b[0m\n    exec(code_obj, self.user_global_ns, self.user_ns)\n",
      "\u001b[0;36m  File \u001b[0;32m\"<ipython-input-107-66abe39ab9ea>\"\u001b[0;36m, line \u001b[0;32m1\u001b[0;36m, in \u001b[0;35m<module>\u001b[0;36m\u001b[0m\n\u001b[0;31m    import phenology\u001b[0m\n",
      "\u001b[0;36m  File \u001b[0;32m\"/home/599/rg6346/Documents/team-drip/notebooks/gr/phenology.py\"\u001b[0;36m, line \u001b[0;32m94\u001b[0m\n\u001b[0;31m    raise TypeError: \"year has to be a scalar or  list\"\u001b[0m\n\u001b[0m                   ^\u001b[0m\n\u001b[0;31mSyntaxError\u001b[0m\u001b[0;31m:\u001b[0m invalid syntax\n"
     ]
    }
   ],
   "source": [
    "import phenology"
   ]
  },
  {
   "cell_type": "code",
   "execution_count": 110,
   "metadata": {},
   "outputs": [],
   "source": [
    "from PIL import Image, ImageOps\n",
    "import numpy as np\n",
    "import matplotlib.pyplot as plt\n",
    "from datetime import datetime, timedelta"
   ]
  },
  {
   "cell_type": "code",
   "execution_count": null,
   "metadata": {},
   "outputs": [],
   "source": []
  }
 ],
 "metadata": {
  "kernelspec": {
   "display_name": "Python 3",
   "language": "python",
   "name": "python3"
  },
  "language_info": {
   "codemirror_mode": {
    "name": "ipython",
    "version": 3
   },
   "file_extension": ".py",
   "mimetype": "text/x-python",
   "name": "python",
   "nbconvert_exporter": "python",
   "pygments_lexer": "ipython3",
   "version": "3.6.3"
  }
 },
 "nbformat": 4,
 "nbformat_minor": 2
}
