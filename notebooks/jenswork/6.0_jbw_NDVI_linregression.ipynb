{
 "cells": [
  {
   "cell_type": "code",
   "execution_count": 3,
   "metadata": {},
   "outputs": [],
   "source": [
    "import xarray as xr\n",
    "import pandas as pd\n",
    "import numpy as np\n",
    "import warnings\n",
    "from scipy import stats\n",
    "\n",
    "import matplotlib.pyplot as plt\n",
    "%matplotlib inline"
   ]
  },
  {
   "cell_type": "code",
   "execution_count": 4,
   "metadata": {
    "scrolled": true
   },
   "outputs": [
    {
     "data": {
      "text/plain": [
       "<xarray.Dataset>\n",
       "Dimensions:  (lat: 3147, long: 3344, time: 388)\n",
       "Coordinates:\n",
       "  * lat      (lat) float64 -24.59 -24.59 -24.6 -24.6 -24.6 -24.61 -24.61 ...\n",
       "  * long     (long) float64 138.6 138.6 138.6 138.6 138.6 138.6 138.6 138.6 ...\n",
       "  * time     (time) datetime64[ns] 2000-02-18 2000-03-05 2000-03-21 ...\n",
       "Data variables:\n",
       "    ndvi     (time, lat, long) float64 dask.array<shape=(388, 3147, 3344), chunksize=(20, 3147, 176)>"
      ]
     },
     "execution_count": 4,
     "metadata": {},
     "output_type": "execute_result"
    }
   ],
   "source": [
    "ds=xr.open_mfdataset(\n",
    "    '/g/data/oe9/user/rg6346/VI_mask_nc/NDVI/NDVI_????.nc',\n",
    "    chunks=dict(long=176)) \n",
    "ds=ds.rename({'ndvi_evi':'ndvi'})\n",
    "ds=ds.drop('band')\n",
    "ds['ndvi']=ds.ndvi/10000;\n",
    "ds"
   ]
  },
  {
   "cell_type": "markdown",
   "metadata": {},
   "source": [
    "## Subset data for testing"
   ]
  },
  {
   "cell_type": "code",
   "execution_count": 5,
   "metadata": {},
   "outputs": [
    {
     "data": {
      "text/plain": [
       "<xarray.Dataset>\n",
       "Dimensions:  (lat: 216, long: 408, time: 388)\n",
       "Coordinates:\n",
       "  * lat      (lat) float64 -30.1 -30.11 -30.11 -30.11 -30.12 -30.12 -30.13 ...\n",
       "  * long     (long) float64 148.9 148.9 148.9 148.9 148.9 148.9 148.9 148.9 ...\n",
       "  * time     (time) datetime64[ns] 2000-02-18 2000-03-05 2000-03-21 ...\n",
       "Data variables:\n",
       "    ndvi     (time, lat, long) float64 0.3499 0.3152 0.2693 0.2616 0.2476 ..."
      ]
     },
     "execution_count": 5,
     "metadata": {},
     "output_type": "execute_result"
    }
   ],
   "source": [
    "sub=ds.sel(lat=slice(-30.1, -31),long=slice(148.9,150.6)) ##yarrie\n",
    "sub.load()"
   ]
  },
  {
   "cell_type": "code",
   "execution_count": 6,
   "metadata": {},
   "outputs": [
    {
     "name": "stderr",
     "output_type": "stream",
     "text": [
      "/g/data/oe9/software/anaconda/envs/geo/lib/python3.6/site-packages/xarray/core/common.py:594: FutureWarning: pd.TimeGrouper is deprecated and will be removed; Please use pd.Grouper(freq=...)\n",
      "  label=label, base=base)\n",
      "/g/data/oe9/software/anaconda/envs/geo/lib/python3.6/site-packages/xarray/core/dtypes.py:23: FutureWarning: Conversion of the second argument of issubdtype from `float` to `np.floating` is deprecated. In future, it will be treated as `np.float64 == np.dtype(float).type`.\n",
      "  if np.issubdtype(dtype, float):\n",
      "/g/data/oe9/software/anaconda/envs/geo/lib/python3.6/site-packages/xarray/core/dtypes.py:23: FutureWarning: Conversion of the second argument of issubdtype from `float` to `np.floating` is deprecated. In future, it will be treated as `np.float64 == np.dtype(float).type`.\n",
      "  if np.issubdtype(dtype, float):\n"
     ]
    }
   ],
   "source": [
    "ndvi_q=sub.ndvi.resample(time='Q-FEB').mean(dim='time')\n",
    "ndvi_jja=ndvi_q.where(ndvi_q['time.season']=='JJA',drop=True)\n",
    "ndvi_djf=ndvi_q.where(ndvi_q['time.season']=='DJF',drop=True)"
   ]
  },
  {
   "cell_type": "markdown",
   "metadata": {},
   "source": [
    "## Linear regression"
   ]
  },
  {
   "cell_type": "code",
   "execution_count": 74,
   "metadata": {},
   "outputs": [
    {
     "data": {
      "text/plain": [
       "1.8931191638644213e-20"
      ]
     },
     "execution_count": 74,
     "metadata": {},
     "output_type": "execute_result"
    }
   ],
   "source": [
    "data=sub.ndvi.isel(lat=5,long=10)\n",
    "def linregress_slope(data):\n",
    "    data['days_since'] = (data.time - data.time[0] ).astype(np.float)\n",
    "    mask = ~np.isnan(data) & ~np.isnan(data.days_since)\n",
    "    slope, intercept, r_sq, p_values, std_err = stats.linregress(data.days_since[mask],data[mask])\n",
    "    out=slope\n"
   ]
  },
  {
   "cell_type": "code",
   "execution_count": null,
   "metadata": {},
   "outputs": [],
   "source": []
  },
  {
   "cell_type": "code",
   "execution_count": null,
   "metadata": {},
   "outputs": [],
   "source": []
  }
 ],
 "metadata": {
  "kernelspec": {
   "display_name": "Python 3",
   "language": "python",
   "name": "python3"
  },
  "language_info": {
   "codemirror_mode": {
    "name": "ipython",
    "version": 3
   },
   "file_extension": ".py",
   "mimetype": "text/x-python",
   "name": "python",
   "nbconvert_exporter": "python",
   "pygments_lexer": "ipython3",
   "version": "3.6.4"
  }
 },
 "nbformat": 4,
 "nbformat_minor": 2
}
