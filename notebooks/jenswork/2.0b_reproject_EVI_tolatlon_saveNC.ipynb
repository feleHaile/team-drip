{
 "cells": [
  {
   "cell_type": "code",
   "execution_count": 1,
   "metadata": {},
   "outputs": [],
   "source": [
    "import xarray as xr\n",
    "import collections, math\n",
    "import numpy as np\n",
    "import pandas as pd\n",
    "import os\n",
    "from osgeo import gdal, gdal_array, osr\n",
    "%matplotlib inline"
   ]
  },
  {
   "cell_type": "markdown",
   "metadata": {},
   "source": [
    "## Read in MODIS reflectance (all bands), rename bands, calculate NDVI"
   ]
  },
  {
   "cell_type": "code",
   "execution_count": 3,
   "metadata": {},
   "outputs": [
    {
     "name": "stderr",
     "output_type": "stream",
     "text": [
      "/g/data/oe9/software/anaconda/envs/geo/lib/python3.6/site-packages/xarray/core/dtypes.py:23: FutureWarning: Conversion of the second argument of issubdtype from `float` to `np.floating` is deprecated. In future, it will be treated as `np.float64 == np.dtype(float).type`.\n",
      "  if np.issubdtype(dtype, float):\n"
     ]
    },
    {
     "data": {
      "text/plain": [
       "<xarray.Dataset>\n",
       "Dimensions:          (time: 1564, x: 2400, y: 2400)\n",
       "Coordinates:\n",
       "  * y                (y) float64 -4.448e+06 -4.447e+06 -4.447e+06 -4.446e+06 ...\n",
       "  * x                (x) float64 1.334e+07 1.334e+07 1.334e+07 1.334e+07 ...\n",
       "  * time             (time) datetime64[ns] 2001-01-01 2001-01-05 2001-01-09 ...\n",
       "Data variables:\n",
       "    red_630_690      (time, y, x) float64 dask.array<shape=(1564, 2400, 2400), chunksize=(12, 720, 1200)>\n",
       "    nir1_780_900     (time, y, x) float64 dask.array<shape=(1564, 2400, 2400), chunksize=(12, 720, 1200)>\n",
       "    blue_450_520     (time, y, x) float64 dask.array<shape=(1564, 2400, 2400), chunksize=(12, 720, 1200)>\n",
       "    green_530_610    (time, y, x) float64 dask.array<shape=(1564, 2400, 2400), chunksize=(12, 720, 1200)>\n",
       "    nir2_1230_1250   (time, y, x) float64 dask.array<shape=(1564, 2400, 2400), chunksize=(12, 720, 1200)>\n",
       "    swir1_1550_1750  (time, y, x) float64 dask.array<shape=(1564, 2400, 2400), chunksize=(12, 720, 1200)>\n",
       "    swir2_2090_2350  (time, y, x) float64 dask.array<shape=(1564, 2400, 2400), chunksize=(12, 720, 1200)>"
      ]
     },
     "execution_count": 3,
     "metadata": {},
     "output_type": "execute_result"
    }
   ],
   "source": [
    "ds_all=xr.open_mfdataset(\n",
    "    '/g/data/oe9/project/team-drip/modis_h30v12_reflectance/h30v12_reflectance_????.nc',\n",
    "    chunks=dict(time=12, x=1200), #chunks should be in multiples of saved chunk size\n",
    ")\n",
    "ds_all"
   ]
  },
  {
   "cell_type": "code",
   "execution_count": 4,
   "metadata": {},
   "outputs": [],
   "source": [
    "#function for reprojecting modis sinusoidal to lat/lon\n",
    "AffineGeoTransform = collections.namedtuple(\n",
    "    'GeoTransform', ['origin_x', 'pixel_width', 'x_rot',\n",
    "                     'origin_y', 'y_rot', 'pixel_height'])\n",
    "\n",
    "\n",
    "def get_geot(ds):\n",
    "    \"\"\"Take an Xarray object with x and y coords; return geotransform.\"\"\"\n",
    "    return AffineGeoTransform(*map(float, (\n",
    "        # Affine matrix - start/step/rotation, start/rotation/step - in 1D\n",
    "        ds.x[0], (ds.x[-1] - ds.x[0]) / ds.x.size, 0,\n",
    "        ds.y[0], 0, (ds.y[-1] - ds.y[0]) / ds.y.size\n",
    "    )))\n",
    "\n",
    "\n",
    "## set bounding box around data (can be larger than data area\n",
    "class aus:\n",
    "    start_lat = -30\n",
    "    stop_lat = -37\n",
    "    start_lon = 138\n",
    "    stop_lon = 153\n",
    "\n",
    "out_res_degrees = 0.005\n",
    "\n",
    "ll_geot = AffineGeoTransform(\n",
    "    origin_x=aus.start_lon, pixel_width=out_res_degrees, x_rot=0,\n",
    "    origin_y=aus.start_lat, y_rot=0, pixel_height=-out_res_degrees\n",
    ")\n",
    "\n",
    "new_shape = (\n",
    "    math.ceil((aus.start_lat - aus.stop_lat) / out_res_degrees),\n",
    "    math.ceil((aus.stop_lon - aus.start_lon) / out_res_degrees),\n",
    ")\n",
    "\n",
    "ll_coords = dict(\n",
    "    latitude=np.arange(new_shape[0]) * ll_geot.pixel_height + ll_geot.origin_y,\n",
    "    longitude=np.arange(new_shape[1]) * ll_geot.pixel_width + ll_geot.origin_x,\n",
    "    )\n",
    "\n",
    "# MAGIC - describes the MODIS projection\n",
    "wkt_str = (\n",
    "    'PROJCS[\"Sinusoidal\",GEOGCS[\"GCS_Undefined\",DATUM[\"Undefined\",'\n",
    "    'SPHEROID[\"User_Defined_Spheroid\",6371007.181,0.0]],PRIMEM[\"Greenwich\",0.0],'\n",
    "    'UNIT[\"Degree\",0.0174532925199433]],PROJECTION[\"Sinusoidal\"],'\n",
    "    'PARAMETER[\"False_Easting\",0.0],PARAMETER[\"False_Northing\",0.0],'\n",
    "    'PARAMETER[\"Central_Meridian\",0.0],UNIT[\"Meter\",1.0]]\"'\n",
    ")\n",
    "\n",
    "\n",
    "# Next, define some generically useful functions:\n",
    "\n",
    "\n",
    "def project_array(array, geot=None):\n",
    "    \"\"\"Reproject a tile from Modis Sinusoidal to WGS84 Lat/Lon coordinates.\n",
    "    Metadata is handled by the calling function.\n",
    "    \"\"\"\n",
    "    # Takes around seven seconds per layer for in-memory Australia mosaics\n",
    "    if geot is None:\n",
    "        geot = get_geot(array)\n",
    "    assert isinstance(geot, AffineGeoTransform)\n",
    "\n",
    "    def array_to_raster(array, geot):\n",
    "        ysize, xsize = array.shape  # unintuitive order, but correct!\n",
    "        dataset = gdal.GetDriverByName('MEM').Create(\n",
    "            '', xsize, ysize,\n",
    "            eType=gdal_array.NumericTypeCodeToGDALTypeCode(array.dtype))\n",
    "        dataset.SetGeoTransform(geot)\n",
    "        dataset.SetProjection(wkt_str)\n",
    "        dataset.GetRasterBand(1).WriteArray(array)\n",
    "        return dataset\n",
    "\n",
    "    if isinstance(array, xr.DataArray):\n",
    "        array = array.values\n",
    "    input_data = array_to_raster(array, geot)\n",
    "\n",
    "    # Set up the reference systems and transformation\n",
    "    from_sr = osr.SpatialReference()\n",
    "    from_sr.ImportFromWkt(wkt_str)\n",
    "    to_sr = osr.SpatialReference()\n",
    "    to_sr.SetWellKnownGeogCS(\"WGS84\")\n",
    "\n",
    "    # Get new geotransform and create destination raster\n",
    "    dest_arr = np.empty(new_shape)\n",
    "    dest_arr[:] = np.nan\n",
    "    dest = array_to_raster(dest_arr, ll_geot)\n",
    "\n",
    "    # Perform the projection/resampling\n",
    "    gdal.ReprojectImage(\n",
    "        input_data, dest,\n",
    "        wkt_str, to_sr.ExportToWkt(),\n",
    "        gdal.GRA_NearestNeighbour)\n",
    "    \n",
    "    return xr.DataArray(\n",
    "        dest.GetRasterBand(1).ReadAsArray(),\n",
    "        dims=('latitude', 'longitude'),\n",
    "        coords=ll_coords)"
   ]
  },
  {
   "cell_type": "code",
   "execution_count": 5,
   "metadata": {
    "scrolled": true
   },
   "outputs": [
    {
     "data": {
      "text/plain": [
       "<xarray.DataArray (time: 1564, y: 2400, x: 2400)>\n",
       "dask.array<shape=(1564, 2400, 2400), dtype=float64, chunksize=(12, 720, 1200)>\n",
       "Coordinates:\n",
       "  * y        (y) float64 -4.448e+06 -4.447e+06 -4.447e+06 -4.446e+06 ...\n",
       "  * x        (x) float64 1.334e+07 1.334e+07 1.334e+07 1.334e+07 1.335e+07 ...\n",
       "  * time     (time) datetime64[ns] 2001-01-01 2001-01-05 2001-01-09 ..."
      ]
     },
     "execution_count": 5,
     "metadata": {},
     "output_type": "execute_result"
    }
   ],
   "source": [
    "# rename vars for simple calcs\n",
    "blue = ds_all.blue_450_520\n",
    "green = ds_all.green_530_610\n",
    "red = ds_all.red_630_690\n",
    "nir1 = ds_all.nir1_780_900\n",
    "nir2 = ds_all.nir2_1230_1250\n",
    "ndvi = (nir1 - red) / (nir1 + red)\n",
    "ndvi\n",
    "# Using the MODIS-EVI coefficients\n",
    "L, C1, C2, G = 1, 6, 7.5, 2.5\n",
    "evi = G * ((nir1 - red) / (nir1 + C1 * red - C2 * blue + L))\n",
    "evi"
   ]
  },
  {
   "cell_type": "code",
   "execution_count": 14,
   "metadata": {},
   "outputs": [
    {
     "data": {
      "text/plain": [
       "<xarray.DataArray 'evi' (time: 1564, y: 2400, x: 2400)>\n",
       "dask.array<shape=(1564, 2400, 2400), dtype=float64, chunksize=(12, 720, 1200)>\n",
       "Coordinates:\n",
       "  * y        (y) float64 -4.448e+06 -4.447e+06 -4.447e+06 -4.446e+06 ...\n",
       "  * x        (x) float64 1.334e+07 1.334e+07 1.334e+07 1.334e+07 1.335e+07 ...\n",
       "  * time     (time) datetime64[ns] 2001-01-01 2001-01-05 2001-01-09 ..."
      ]
     },
     "execution_count": 14,
     "metadata": {},
     "output_type": "execute_result"
    }
   ],
   "source": [
    "evi.rename('evi')"
   ]
  },
  {
   "cell_type": "markdown",
   "metadata": {},
   "source": [
    "## Generate .ncs\n"
   ]
  },
  {
   "cell_type": "code",
   "execution_count": 15,
   "metadata": {},
   "outputs": [
    {
     "ename": "MemoryError",
     "evalue": "",
     "output_type": "error",
     "traceback": [
      "\u001b[0;31m---------------------------------------------------------------------------\u001b[0m",
      "\u001b[0;31mMemoryError\u001b[0m                               Traceback (most recent call last)",
      "\u001b[0;32m<ipython-input-15-ae2260133cec>\u001b[0m in \u001b[0;36m<module>\u001b[0;34m()\u001b[0m\n\u001b[1;32m      9\u001b[0m     out = xr.concat(\n\u001b[1;32m     10\u001b[0m     \u001b[0;34m[\u001b[0m\u001b[0mproject_array\u001b[0m\u001b[0;34m(\u001b[0m\u001b[0msome_evi\u001b[0m\u001b[0;34m.\u001b[0m\u001b[0msel\u001b[0m\u001b[0;34m(\u001b[0m\u001b[0mtime\u001b[0m\u001b[0;34m=\u001b[0m\u001b[0mstep\u001b[0m\u001b[0;34m)\u001b[0m\u001b[0;34m)\u001b[0m \u001b[0;32mfor\u001b[0m \u001b[0mstep\u001b[0m \u001b[0;32min\u001b[0m \u001b[0msome_evi\u001b[0m\u001b[0;34m.\u001b[0m\u001b[0mtime\u001b[0m\u001b[0;34m]\u001b[0m\u001b[0;34m,\u001b[0m\u001b[0;34m\u001b[0m\u001b[0m\n\u001b[0;32m---> 11\u001b[0;31m     dim=some_evi.time)\n\u001b[0m\u001b[1;32m     12\u001b[0m \u001b[0;34m\u001b[0m\u001b[0m\n\u001b[1;32m     13\u001b[0m \u001b[0;34m\u001b[0m\u001b[0m\n",
      "\u001b[0;32m/g/data/oe9/software/anaconda/envs/geo/lib/python3.6/site-packages/xarray/core/combine.py\u001b[0m in \u001b[0;36mconcat\u001b[0;34m(objs, dim, data_vars, coords, compat, positions, indexers, mode, concat_over)\u001b[0m\n\u001b[1;32m    118\u001b[0m         raise TypeError('can only concatenate xarray Dataset and DataArray '\n\u001b[1;32m    119\u001b[0m                         'objects, got %s' % type(first_obj))\n\u001b[0;32m--> 120\u001b[0;31m     \u001b[0;32mreturn\u001b[0m \u001b[0mf\u001b[0m\u001b[0;34m(\u001b[0m\u001b[0mobjs\u001b[0m\u001b[0;34m,\u001b[0m \u001b[0mdim\u001b[0m\u001b[0;34m,\u001b[0m \u001b[0mdata_vars\u001b[0m\u001b[0;34m,\u001b[0m \u001b[0mcoords\u001b[0m\u001b[0;34m,\u001b[0m \u001b[0mcompat\u001b[0m\u001b[0;34m,\u001b[0m \u001b[0mpositions\u001b[0m\u001b[0;34m)\u001b[0m\u001b[0;34m\u001b[0m\u001b[0m\n\u001b[0m\u001b[1;32m    121\u001b[0m \u001b[0;34m\u001b[0m\u001b[0m\n\u001b[1;32m    122\u001b[0m \u001b[0;34m\u001b[0m\u001b[0m\n",
      "\u001b[0;32m/g/data/oe9/software/anaconda/envs/geo/lib/python3.6/site-packages/xarray/core/combine.py\u001b[0m in \u001b[0;36m_dataarray_concat\u001b[0;34m(arrays, dim, data_vars, coords, compat, positions)\u001b[0m\n\u001b[1;32m    337\u001b[0m \u001b[0;34m\u001b[0m\u001b[0m\n\u001b[1;32m    338\u001b[0m     ds = _dataset_concat(datasets, dim, data_vars, coords, compat,\n\u001b[0;32m--> 339\u001b[0;31m                          positions)\n\u001b[0m\u001b[1;32m    340\u001b[0m     \u001b[0;32mreturn\u001b[0m \u001b[0marrays\u001b[0m\u001b[0;34m[\u001b[0m\u001b[0;36m0\u001b[0m\u001b[0;34m]\u001b[0m\u001b[0;34m.\u001b[0m\u001b[0m_from_temp_dataset\u001b[0m\u001b[0;34m(\u001b[0m\u001b[0mds\u001b[0m\u001b[0;34m,\u001b[0m \u001b[0mname\u001b[0m\u001b[0;34m)\u001b[0m\u001b[0;34m\u001b[0m\u001b[0m\n\u001b[1;32m    341\u001b[0m \u001b[0;34m\u001b[0m\u001b[0m\n",
      "\u001b[0;32m/g/data/oe9/software/anaconda/envs/geo/lib/python3.6/site-packages/xarray/core/combine.py\u001b[0m in \u001b[0;36m_dataset_concat\u001b[0;34m(datasets, dim, data_vars, coords, compat, positions)\u001b[0m\n\u001b[1;32m    303\u001b[0m         \u001b[0;32mif\u001b[0m \u001b[0mk\u001b[0m \u001b[0;32min\u001b[0m \u001b[0mconcat_over\u001b[0m\u001b[0;34m:\u001b[0m\u001b[0;34m\u001b[0m\u001b[0m\n\u001b[1;32m    304\u001b[0m             \u001b[0mvars\u001b[0m \u001b[0;34m=\u001b[0m \u001b[0mensure_common_dims\u001b[0m\u001b[0;34m(\u001b[0m\u001b[0;34m[\u001b[0m\u001b[0mds\u001b[0m\u001b[0;34m.\u001b[0m\u001b[0mvariables\u001b[0m\u001b[0;34m[\u001b[0m\u001b[0mk\u001b[0m\u001b[0;34m]\u001b[0m \u001b[0;32mfor\u001b[0m \u001b[0mds\u001b[0m \u001b[0;32min\u001b[0m \u001b[0mdatasets\u001b[0m\u001b[0;34m]\u001b[0m\u001b[0;34m)\u001b[0m\u001b[0;34m\u001b[0m\u001b[0m\n\u001b[0;32m--> 305\u001b[0;31m             \u001b[0mcombined\u001b[0m \u001b[0;34m=\u001b[0m \u001b[0mconcat_vars\u001b[0m\u001b[0;34m(\u001b[0m\u001b[0mvars\u001b[0m\u001b[0;34m,\u001b[0m \u001b[0mdim\u001b[0m\u001b[0;34m,\u001b[0m \u001b[0mpositions\u001b[0m\u001b[0;34m)\u001b[0m\u001b[0;34m\u001b[0m\u001b[0m\n\u001b[0m\u001b[1;32m    306\u001b[0m             \u001b[0minsert_result_variable\u001b[0m\u001b[0;34m(\u001b[0m\u001b[0mk\u001b[0m\u001b[0;34m,\u001b[0m \u001b[0mcombined\u001b[0m\u001b[0;34m)\u001b[0m\u001b[0;34m\u001b[0m\u001b[0m\n\u001b[1;32m    307\u001b[0m \u001b[0;34m\u001b[0m\u001b[0m\n",
      "\u001b[0;32m/g/data/oe9/software/anaconda/envs/geo/lib/python3.6/site-packages/xarray/core/variable.py\u001b[0m in \u001b[0;36mconcat\u001b[0;34m(variables, dim, positions, shortcut)\u001b[0m\n\u001b[1;32m   1685\u001b[0m         \u001b[0;32mreturn\u001b[0m \u001b[0mIndexVariable\u001b[0m\u001b[0;34m.\u001b[0m\u001b[0mconcat\u001b[0m\u001b[0;34m(\u001b[0m\u001b[0mvariables\u001b[0m\u001b[0;34m,\u001b[0m \u001b[0mdim\u001b[0m\u001b[0;34m,\u001b[0m \u001b[0mpositions\u001b[0m\u001b[0;34m,\u001b[0m \u001b[0mshortcut\u001b[0m\u001b[0;34m)\u001b[0m\u001b[0;34m\u001b[0m\u001b[0m\n\u001b[1;32m   1686\u001b[0m     \u001b[0;32melse\u001b[0m\u001b[0;34m:\u001b[0m\u001b[0;34m\u001b[0m\u001b[0m\n\u001b[0;32m-> 1687\u001b[0;31m         \u001b[0;32mreturn\u001b[0m \u001b[0mVariable\u001b[0m\u001b[0;34m.\u001b[0m\u001b[0mconcat\u001b[0m\u001b[0;34m(\u001b[0m\u001b[0mvariables\u001b[0m\u001b[0;34m,\u001b[0m \u001b[0mdim\u001b[0m\u001b[0;34m,\u001b[0m \u001b[0mpositions\u001b[0m\u001b[0;34m,\u001b[0m \u001b[0mshortcut\u001b[0m\u001b[0;34m)\u001b[0m\u001b[0;34m\u001b[0m\u001b[0m\n\u001b[0m\u001b[1;32m   1688\u001b[0m \u001b[0;34m\u001b[0m\u001b[0m\n\u001b[1;32m   1689\u001b[0m \u001b[0;34m\u001b[0m\u001b[0m\n",
      "\u001b[0;32m/g/data/oe9/software/anaconda/envs/geo/lib/python3.6/site-packages/xarray/core/variable.py\u001b[0m in \u001b[0;36mconcat\u001b[0;34m(cls, variables, dim, positions, shortcut)\u001b[0m\n\u001b[1;32m   1234\u001b[0m             \u001b[0maxis\u001b[0m \u001b[0;34m=\u001b[0m \u001b[0mfirst_var\u001b[0m\u001b[0;34m.\u001b[0m\u001b[0mget_axis_num\u001b[0m\u001b[0;34m(\u001b[0m\u001b[0mdim\u001b[0m\u001b[0;34m)\u001b[0m\u001b[0;34m\u001b[0m\u001b[0m\n\u001b[1;32m   1235\u001b[0m             \u001b[0mdims\u001b[0m \u001b[0;34m=\u001b[0m \u001b[0mfirst_var\u001b[0m\u001b[0;34m.\u001b[0m\u001b[0mdims\u001b[0m\u001b[0;34m\u001b[0m\u001b[0m\n\u001b[0;32m-> 1236\u001b[0;31m             \u001b[0mdata\u001b[0m \u001b[0;34m=\u001b[0m \u001b[0mduck_array_ops\u001b[0m\u001b[0;34m.\u001b[0m\u001b[0mconcatenate\u001b[0m\u001b[0;34m(\u001b[0m\u001b[0marrays\u001b[0m\u001b[0;34m,\u001b[0m \u001b[0maxis\u001b[0m\u001b[0;34m=\u001b[0m\u001b[0maxis\u001b[0m\u001b[0;34m)\u001b[0m\u001b[0;34m\u001b[0m\u001b[0m\n\u001b[0m\u001b[1;32m   1237\u001b[0m             \u001b[0;32mif\u001b[0m \u001b[0mpositions\u001b[0m \u001b[0;32mis\u001b[0m \u001b[0;32mnot\u001b[0m \u001b[0;32mNone\u001b[0m\u001b[0;34m:\u001b[0m\u001b[0;34m\u001b[0m\u001b[0m\n\u001b[1;32m   1238\u001b[0m                 \u001b[0;31m# TODO: deprecate this option -- we don't need it for groupby\u001b[0m\u001b[0;34m\u001b[0m\u001b[0;34m\u001b[0m\u001b[0m\n",
      "\u001b[0;32m/g/data/oe9/software/anaconda/envs/geo/lib/python3.6/site-packages/xarray/core/duck_array_ops.py\u001b[0m in \u001b[0;36mf\u001b[0;34m(*args, **kwargs)\u001b[0m\n\u001b[1;32m     49\u001b[0m             \u001b[0;32melse\u001b[0m\u001b[0;34m:\u001b[0m\u001b[0;34m\u001b[0m\u001b[0m\n\u001b[1;32m     50\u001b[0m                 \u001b[0mmodule\u001b[0m \u001b[0;34m=\u001b[0m \u001b[0meager_module\u001b[0m\u001b[0;34m\u001b[0m\u001b[0m\n\u001b[0;32m---> 51\u001b[0;31m             \u001b[0;32mreturn\u001b[0m \u001b[0mgetattr\u001b[0m\u001b[0;34m(\u001b[0m\u001b[0mmodule\u001b[0m\u001b[0;34m,\u001b[0m \u001b[0mname\u001b[0m\u001b[0;34m)\u001b[0m\u001b[0;34m(\u001b[0m\u001b[0;34m*\u001b[0m\u001b[0margs\u001b[0m\u001b[0;34m,\u001b[0m \u001b[0;34m**\u001b[0m\u001b[0mkwargs\u001b[0m\u001b[0;34m)\u001b[0m\u001b[0;34m\u001b[0m\u001b[0m\n\u001b[0m\u001b[1;32m     52\u001b[0m     \u001b[0;32melse\u001b[0m\u001b[0;34m:\u001b[0m\u001b[0;34m\u001b[0m\u001b[0m\n\u001b[1;32m     53\u001b[0m         \u001b[0;32mdef\u001b[0m \u001b[0mf\u001b[0m\u001b[0;34m(\u001b[0m\u001b[0mdata\u001b[0m\u001b[0;34m,\u001b[0m \u001b[0;34m*\u001b[0m\u001b[0margs\u001b[0m\u001b[0;34m,\u001b[0m \u001b[0;34m**\u001b[0m\u001b[0mkwargs\u001b[0m\u001b[0;34m)\u001b[0m\u001b[0;34m:\u001b[0m\u001b[0;34m\u001b[0m\u001b[0m\n",
      "\u001b[0;31mMemoryError\u001b[0m: "
     ]
    }
   ],
   "source": [
    "for year in range(2003,2018):\n",
    "    some_evi=evi.sel(time=str(year))\n",
    "         \n",
    "    fname = '/g/data/oe9/project/team-drip/h30v12_evi_ll_{}.nc'.format(year)\n",
    "    if os.path.isfile(fname):\n",
    "        print('already done', fname)\n",
    "        continue        \n",
    "  \n",
    "    out = xr.concat(\n",
    "    [project_array(some_evi.sel(time=step)) for step in some_evi.time], \n",
    "    dim=some_evi.time)\n",
    "    \n",
    "   \n",
    "    try:\n",
    "        out.to_netcdf(fname)\n",
    "    except Exception as e:\n",
    "        print('Year {} failed with {}'.format(year, type(e)))\n",
    "        print(e)"
   ]
  },
  {
   "cell_type": "code",
   "execution_count": 17,
   "metadata": {},
   "outputs": [
    {
     "data": {
      "text/plain": [
       "<xarray.DataArray (time: 5, latitude: 1400, longitude: 3000)>\n",
       "array([[[nan, nan, ..., nan, nan],\n",
       "        [nan, nan, ..., nan, nan],\n",
       "        ...,\n",
       "        [nan, nan, ..., nan, nan],\n",
       "        [nan, nan, ..., nan, nan]],\n",
       "\n",
       "       [[nan, nan, ..., nan, nan],\n",
       "        [nan, nan, ..., nan, nan],\n",
       "        ...,\n",
       "        [nan, nan, ..., nan, nan],\n",
       "        [nan, nan, ..., nan, nan]],\n",
       "\n",
       "       ...,\n",
       "\n",
       "       [[nan, nan, ..., nan, nan],\n",
       "        [nan, nan, ..., nan, nan],\n",
       "        ...,\n",
       "        [nan, nan, ..., nan, nan],\n",
       "        [nan, nan, ..., nan, nan]],\n",
       "\n",
       "       [[nan, nan, ..., nan, nan],\n",
       "        [nan, nan, ..., nan, nan],\n",
       "        ...,\n",
       "        [nan, nan, ..., nan, nan],\n",
       "        [nan, nan, ..., nan, nan]]])\n",
       "Coordinates:\n",
       "  * time       (time) datetime64[ns] 2001-01-01 2001-01-05 2001-01-09 ...\n",
       "  * latitude   (latitude) float64 -30.0 -30.0 -30.01 -30.02 -30.02 -30.02 ...\n",
       "  * longitude  (longitude) float64 138.0 138.0 138.0 138.0 138.0 138.0 138.0 ..."
      ]
     },
     "execution_count": 17,
     "metadata": {},
     "output_type": "execute_result"
    }
   ],
   "source": [
    "i_evi=evi[:5]\n",
    "out = xr.concat(\n",
    "    [project_array(i_evi.sel(time=step)) for step in i_evi.time], \n",
    "    dim=i_evi.time)\n",
    "out"
   ]
  },
  {
   "cell_type": "code",
   "execution_count": 16,
   "metadata": {},
   "outputs": [
    {
     "data": {
      "text/plain": [
       "<xarray.DataArray (time: 92, latitude: 1400, longitude: 3000)>\n",
       "array([[[nan, nan, ..., nan, nan],\n",
       "        [nan, nan, ..., nan, nan],\n",
       "        ...,\n",
       "        [nan, nan, ..., nan, nan],\n",
       "        [nan, nan, ..., nan, nan]],\n",
       "\n",
       "       [[nan, nan, ..., nan, nan],\n",
       "        [nan, nan, ..., nan, nan],\n",
       "        ...,\n",
       "        [nan, nan, ..., nan, nan],\n",
       "        [nan, nan, ..., nan, nan]],\n",
       "\n",
       "       ...,\n",
       "\n",
       "       [[nan, nan, ..., nan, nan],\n",
       "        [nan, nan, ..., nan, nan],\n",
       "        ...,\n",
       "        [nan, nan, ..., nan, nan],\n",
       "        [nan, nan, ..., nan, nan]],\n",
       "\n",
       "       [[nan, nan, ..., nan, nan],\n",
       "        [nan, nan, ..., nan, nan],\n",
       "        ...,\n",
       "        [nan, nan, ..., nan, nan],\n",
       "        [nan, nan, ..., nan, nan]]])\n",
       "Coordinates:\n",
       "  * time       (time) datetime64[ns] 2002-01-01 2002-01-05 2002-01-09 ...\n",
       "  * latitude   (latitude) float64 -30.0 -30.0 -30.01 -30.02 -30.02 -30.02 ...\n",
       "  * longitude  (longitude) float64 138.0 138.0 138.0 138.0 138.0 138.0 138.0 ..."
      ]
     },
     "execution_count": 16,
     "metadata": {},
     "output_type": "execute_result"
    }
   ],
   "source": [
    "out"
   ]
  },
  {
   "cell_type": "code",
   "execution_count": null,
   "metadata": {},
   "outputs": [],
   "source": []
  }
 ],
 "metadata": {
  "kernelspec": {
   "display_name": "Python 3",
   "language": "python",
   "name": "python3"
  },
  "language_info": {
   "codemirror_mode": {
    "name": "ipython",
    "version": 3
   },
   "file_extension": ".py",
   "mimetype": "text/x-python",
   "name": "python",
   "nbconvert_exporter": "python",
   "pygments_lexer": "ipython3",
   "version": "3.6.4"
  }
 },
 "nbformat": 4,
 "nbformat_minor": 2
}
