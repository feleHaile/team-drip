{
 "cells": [
  {
   "cell_type": "code",
   "execution_count": 218,
   "metadata": {},
   "outputs": [],
   "source": [
    "import xarray as xr\n",
    "import collections, math\n",
    "import numpy as np\n",
    "import pandas as pd\n",
    "import os\n",
    "from osgeo import gdal, gdal_array, osr\n",
    "%matplotlib inline"
   ]
  },
  {
   "cell_type": "code",
   "execution_count": 10,
   "metadata": {},
   "outputs": [],
   "source": [
    "ds_all=xr.open_mfdataset(\n",
    "    '/g/data/oe9/project/team-drip/h30v12_reflectance_????.nc',\n",
    "    chunks=dict(time=12, x=1200), #chunks should be in multiples of saved chunk size\n",
    ")"
   ]
  },
  {
   "cell_type": "code",
   "execution_count": 102,
   "metadata": {},
   "outputs": [],
   "source": [
    "#function for reprojecting modis sinusoidal to lat/lon\n",
    "AffineGeoTransform = collections.namedtuple(\n",
    "    'GeoTransform', ['origin_x', 'pixel_width', 'x_rot',\n",
    "                     'origin_y', 'y_rot', 'pixel_height'])\n",
    "\n",
    "\n",
    "def get_geot(ds):\n",
    "    \"\"\"Take an Xarray object with x and y coords; return geotransform.\"\"\"\n",
    "    return AffineGeoTransform(*map(float, (\n",
    "        # Affine matrix - start/step/rotation, start/rotation/step - in 1D\n",
    "        ds.x[0], (ds.x[-1] - ds.x[0]) / ds.x.size, 0,\n",
    "        ds.y[0], 0, (ds.y[-1] - ds.y[0]) / ds.y.size\n",
    "    )))\n",
    "\n",
    "\n",
    "## set bounding box around data (can be larger than data area\n",
    "class aus:\n",
    "    start_lat = -30\n",
    "    stop_lat = -37\n",
    "    start_lon = 138\n",
    "    stop_lon = 153\n",
    "\n",
    "out_res_degrees = 0.005\n",
    "\n",
    "ll_geot = AffineGeoTransform(\n",
    "    origin_x=aus.start_lon, pixel_width=out_res_degrees, x_rot=0,\n",
    "    origin_y=aus.start_lat, y_rot=0, pixel_height=-out_res_degrees\n",
    ")\n",
    "\n",
    "new_shape = (\n",
    "    math.ceil((aus.start_lat - aus.stop_lat) / out_res_degrees),\n",
    "    math.ceil((aus.stop_lon - aus.start_lon) / out_res_degrees),\n",
    ")\n",
    "\n",
    "ll_coords = dict(\n",
    "    latitude=np.arange(new_shape[0]) * ll_geot.pixel_height + ll_geot.origin_y,\n",
    "    longitude=np.arange(new_shape[1]) * ll_geot.pixel_width + ll_geot.origin_x,\n",
    "    )\n",
    "\n",
    "# MAGIC - describes the MODIS projection\n",
    "wkt_str = (\n",
    "    'PROJCS[\"Sinusoidal\",GEOGCS[\"GCS_Undefined\",DATUM[\"Undefined\",'\n",
    "    'SPHEROID[\"User_Defined_Spheroid\",6371007.181,0.0]],PRIMEM[\"Greenwich\",0.0],'\n",
    "    'UNIT[\"Degree\",0.0174532925199433]],PROJECTION[\"Sinusoidal\"],'\n",
    "    'PARAMETER[\"False_Easting\",0.0],PARAMETER[\"False_Northing\",0.0],'\n",
    "    'PARAMETER[\"Central_Meridian\",0.0],UNIT[\"Meter\",1.0]]\"'\n",
    ")\n",
    "\n",
    "\n",
    "# Next, define some generically useful functions:\n",
    "\n",
    "\n",
    "def project_array(array, geot=None):\n",
    "    \"\"\"Reproject a tile from Modis Sinusoidal to WGS84 Lat/Lon coordinates.\n",
    "    Metadata is handled by the calling function.\n",
    "    \"\"\"\n",
    "    # Takes around seven seconds per layer for in-memory Australia mosaics\n",
    "    if geot is None:\n",
    "        geot = get_geot(array)\n",
    "    assert isinstance(geot, AffineGeoTransform)\n",
    "\n",
    "    def array_to_raster(array, geot):\n",
    "        ysize, xsize = array.shape  # unintuitive order, but correct!\n",
    "        dataset = gdal.GetDriverByName('MEM').Create(\n",
    "            '', xsize, ysize,\n",
    "            eType=gdal_array.NumericTypeCodeToGDALTypeCode(array.dtype))\n",
    "        dataset.SetGeoTransform(geot)\n",
    "        dataset.SetProjection(wkt_str)\n",
    "        dataset.GetRasterBand(1).WriteArray(array)\n",
    "        return dataset\n",
    "\n",
    "    if isinstance(array, xr.DataArray):\n",
    "        array = array.values\n",
    "    input_data = array_to_raster(array, geot)\n",
    "\n",
    "    # Set up the reference systems and transformation\n",
    "    from_sr = osr.SpatialReference()\n",
    "    from_sr.ImportFromWkt(wkt_str)\n",
    "    to_sr = osr.SpatialReference()\n",
    "    to_sr.SetWellKnownGeogCS(\"WGS84\")\n",
    "\n",
    "    # Get new geotransform and create destination raster\n",
    "    dest_arr = np.empty(new_shape)\n",
    "    dest_arr[:] = np.nan\n",
    "    dest = array_to_raster(dest_arr, ll_geot)\n",
    "\n",
    "    # Perform the projection/resampling\n",
    "    gdal.ReprojectImage(\n",
    "        input_data, dest,\n",
    "        wkt_str, to_sr.ExportToWkt(),\n",
    "        gdal.GRA_NearestNeighbour)\n",
    "    \n",
    "    return xr.DataArray(\n",
    "        dest.GetRasterBand(1).ReadAsArray(),\n",
    "        dims=('latitude', 'longitude'),\n",
    "        coords=ll_coords)"
   ]
  },
  {
   "cell_type": "code",
   "execution_count": 29,
   "metadata": {},
   "outputs": [
    {
     "data": {
      "text/plain": [
       "<xarray.DataArray (time: 1564, y: 1680, x: 2400)>\n",
       "dask.array<shape=(1564, 1680, 2400), dtype=float32, chunksize=(12, 1680, 1200)>\n",
       "Coordinates:\n",
       "  * x        (x) float64 1.334e+07 1.334e+07 1.334e+07 1.334e+07 1.335e+07 ...\n",
       "  * y        (y) float64 -3.336e+06 -3.336e+06 -3.337e+06 -3.337e+06 ...\n",
       "  * time     (time) datetime64[ns] 2001-01-01 2001-01-05 2001-01-09 ..."
      ]
     },
     "execution_count": 29,
     "metadata": {},
     "output_type": "execute_result"
    }
   ],
   "source": [
    "# rename vars for simple calcs\n",
    "blue = ds_all.blue_450_520\n",
    "green = ds_all.green_530_610\n",
    "red = ds_all.red_630_690\n",
    "nir1 = ds_all.nir1_780_900\n",
    "nir2 = ds_all.nir2_1230_1250\n",
    "ndvi = (nir1 - red) / (nir1 + red)\n",
    "ndvi"
   ]
  },
  {
   "cell_type": "markdown",
   "metadata": {},
   "source": [
    "## Generate .ncs\n"
   ]
  },
  {
   "cell_type": "code",
   "execution_count": 215,
   "metadata": {
    "scrolled": true
   },
   "outputs": [
    {
     "name": "stderr",
     "output_type": "stream",
     "text": [
      "/g/data/oe9/software/anaconda/envs/geo/lib/python3.6/site-packages/dask/local.py:271: RuntimeWarning: invalid value encountered in true_divide\n",
      "  return func(*args2)\n"
     ]
    },
    {
     "ename": "NameError",
     "evalue": "name 'os' is not defined",
     "output_type": "error",
     "traceback": [
      "\u001b[0;31m---------------------------------------------------------------------------\u001b[0m",
      "\u001b[0;31mNameError\u001b[0m                                 Traceback (most recent call last)",
      "\u001b[0;32m<timed exec>\u001b[0m in \u001b[0;36m<module>\u001b[0;34m()\u001b[0m\n",
      "\u001b[0;31mNameError\u001b[0m: name 'os' is not defined"
     ]
    }
   ],
   "source": [
    "%%time\n",
    "for year in range(2001, 2018):\n",
    "    some_ndvi=ndvi.sel(time=str(year))\n",
    "     \n",
    "    out = xr.concat(\n",
    "    [project_array(some_ndvi.sel(time=step)) for step in some_ndvi.time], \n",
    "    dim=some_ndvi.time)\n",
    "    \n",
    "    fname = '/g/data/oe9/project/team-drip/modis_h30v12_ndvi_latlon/h30v12_ndvi_ll_{}.nc'.format(year)\n",
    "    if os.path.isfile(fname):\n",
    "        print('already done', fname)\n",
    "        continue        \n",
    "    try:\n",
    "        out.to_netcdf(fname)\n",
    "    except Exception as e:\n",
    "        print('Year {} failed with {}'.format(year, type(e)))\n",
    "        print(e)\n"
   ]
  },
  {
   "cell_type": "code",
   "execution_count": 225,
   "metadata": {},
   "outputs": [
    {
     "name": "stdout",
     "output_type": "stream",
     "text": [
      "Year 2001 failed with <class 'PermissionError'>\n",
      "[Errno 13] Permission denied: b'/g/data/oe9/project/team-drip/modis_h30v12_ndvi_latlon/h30v12_ndvi_ll_2001.nc'\n"
     ]
    }
   ],
   "source": []
  },
  {
   "cell_type": "code",
   "execution_count": null,
   "metadata": {},
   "outputs": [],
   "source": []
  }
 ],
 "metadata": {
  "kernelspec": {
   "display_name": "Python 3",
   "language": "python",
   "name": "python3"
  },
  "language_info": {
   "codemirror_mode": {
    "name": "ipython",
    "version": 3
   },
   "file_extension": ".py",
   "mimetype": "text/x-python",
   "name": "python",
   "nbconvert_exporter": "python",
   "pygments_lexer": "ipython3",
   "version": "3.6.4"
  }
 },
 "nbformat": 4,
 "nbformat_minor": 2
}
