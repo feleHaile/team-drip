{
 "cells": [
  {
   "cell_type": "code",
   "execution_count": 1,
   "metadata": {},
   "outputs": [],
   "source": [
    "import os\n",
    "import re\n",
    "import glob\n",
    "import datetime\n",
    "import warnings\n",
    "\n",
    "import numpy as np\n",
    "import pandas as pd\n",
    "import xarray as xr\n",
    "from netCDF4 import Dataset\n",
    "\n",
    "import collections, math\n",
    "from osgeo import gdal, gdal_array, osr\n",
    "\n",
    "%matplotlib inline"
   ]
  },
  {
   "cell_type": "markdown",
   "metadata": {},
   "source": [
    "## 1) Read MODIS data (all bands) from NCI"
   ]
  },
  {
   "cell_type": "code",
   "execution_count": 2,
   "metadata": {},
   "outputs": [],
   "source": [
    "## Rename the bands to something useful and define tile coordinate function\n",
    "modis_band_map = {\n",
    "    'Nadir_Reflectance_Band1': 'red_630_690',\n",
    "    'Nadir_Reflectance_Band2': 'nir1_780_900',\n",
    "    'Nadir_Reflectance_Band3': 'blue_450_520',\n",
    "    'Nadir_Reflectance_Band4': 'green_530_610',\n",
    "    'Nadir_Reflectance_Band5': 'nir2_1230_1250',\n",
    "    'Nadir_Reflectance_Band6': 'swir1_1550_1750',\n",
    "    'Nadir_Reflectance_Band7': 'swir2_2090_2350',\n",
    "}\n",
    "def add_tile_coords(tile, dataset):\n",
    "    scale = 1111950.5196669996\n",
    "\n",
    "    # regex to match string\n",
    "    regex = re.compile('h\\d+v\\d+')\n",
    "    matches = regex.findall(tile)\n",
    "\n",
    "    # extract values from string\n",
    "    extract = re.compile('\\d+')\n",
    "    h, v = extract.findall(matches[0])\n",
    "    h = int(h)\n",
    "    v = int(v)\n",
    "\n",
    "    # calculate start and end values\n",
    "    x_start = scale * (h - 18)\n",
    "    x_end = scale * (h - 17)\n",
    "\n",
    "    y_start = -scale * (v - 9)\n",
    "    y_end = -scale * (v - 8)\n",
    "\n",
    "    dataset['x'] = xr.IndexVariable('x', np.linspace(x_start, x_end, 2400))\n",
    "    dataset['y'] = xr.IndexVariable('y', np.linspace(y_start, y_end, 2400))\n",
    "    return dataset\n"
   ]
  },
  {
   "cell_type": "code",
   "execution_count": 5,
   "metadata": {},
   "outputs": [
    {
     "data": {
      "text/plain": [
       "92"
      ]
     },
     "execution_count": 5,
     "metadata": {},
     "output_type": "execute_result"
    }
   ],
   "source": [
    "reflectance_file_cache = sorted(glob.glob(\n",
    "            '/g/data/u39/public/data/modis/lpdaac-tiles-c6/MCD43A4.006/' +\n",
    "            '2014.??.??/MCD43A4.A2014???.h30v12.006.*.hdf'         \n",
    "        ))\n",
    "\n",
    "len(reflectance_file_cache)"
   ]
  },
  {
   "cell_type": "code",
   "execution_count": 6,
   "metadata": {},
   "outputs": [],
   "source": [
    "## define function 'get_reflectance' whose input is tile ID 'h__v__'\n",
    "## This function searches the cached list for filenames which contain tile 'h__v__\n",
    "## outputs data as a concatenated dataset with dimensions, time, x ,y \n",
    "def get_reflectance(tile):\n",
    "    assert re.match(r'h\\d\\dv\\d\\d', tile), 'tile must be string \"h__v__\"'\n",
    "    files = [f for f in reflectance_file_cache if tile in os.path.basename(f)]\n",
    "    pattern = re.compile(r'MCD43A4.A(?P<year>\\d{4})(?P<day>\\d{3}).h\\d\\dv\\d\\d.006.\\d+.hdf')\n",
    "    dates, parts = [], []\n",
    "    for f in files:\n",
    "        assert os.path.isfile(f)\n",
    "        parts.append(xr.open_dataset(f, chunks=2400,autoclose=True))\n",
    "        year, day = pattern.match(os.path.basename(f)).groups()\n",
    "        dates.append(datetime.date(int(year), 1, 1) +\n",
    "                     datetime.timedelta(days=int(day) - 1))\n",
    "\n",
    "    dates = pd.to_datetime(dates)\n",
    "    dates.name = 'time'\n",
    "\n",
    "    ds = xr.concat(parts, dates)\n",
    "    out = xr.Dataset()\n",
    "    for i in map(str, range(1, 8)):\n",
    "        key = 'Nadir_Reflectance_Band' + i\n",
    "        data_ok = ds['BRDF_Albedo_Band_Mandatory_Quality_Band' + i] == 0\n",
    "        out[modis_band_map[key]] = ds[key].where(data_ok).astype('f4')\n",
    "\n",
    "    out.rename({'YDim:MOD_Grid_BRDF': 'y',\n",
    "                'XDim:MOD_Grid_BRDF': 'x'}, inplace=True)\n",
    "    out.time.encoding.update(dict(\n",
    "        units='days since 1900-01-01', calendar='gregorian', dtype='i4'))\n",
    "    for var in out.data_vars:\n",
    "        out[var].encoding.update(dict(\n",
    "            shuffle=True, zlib=True, chunks=dict(x=240, y=240, time=6), dtype='f4',\n",
    "        ))\n",
    "    return add_tile_coords(tile, out)"
   ]
  },
  {
   "cell_type": "code",
   "execution_count": 7,
   "metadata": {},
   "outputs": [
    {
     "name": "stdout",
     "output_type": "stream",
     "text": [
      "CPU times: user 2.8 s, sys: 2.02 s, total: 4.82 s\n",
      "Wall time: 16.6 s\n"
     ]
    },
    {
     "name": "stderr",
     "output_type": "stream",
     "text": [
      "/g/data/oe9/software/anaconda/envs/geo/lib/python3.6/site-packages/xarray/core/dtypes.py:23: FutureWarning: Conversion of the second argument of issubdtype from `float` to `np.floating` is deprecated. In future, it will be treated as `np.float64 == np.dtype(float).type`.\n",
      "  if np.issubdtype(dtype, float):\n",
      "/g/data/oe9/software/anaconda/envs/geo/lib/python3.6/site-packages/xarray/core/dtypes.py:23: FutureWarning: Conversion of the second argument of issubdtype from `float` to `np.floating` is deprecated. In future, it will be treated as `np.float64 == np.dtype(float).type`.\n",
      "  if np.issubdtype(dtype, float):\n",
      "/g/data/oe9/software/anaconda/envs/geo/lib/python3.6/site-packages/xarray/core/dtypes.py:23: FutureWarning: Conversion of the second argument of issubdtype from `float` to `np.floating` is deprecated. In future, it will be treated as `np.float64 == np.dtype(float).type`.\n",
      "  if np.issubdtype(dtype, float):\n",
      "/g/data/oe9/software/anaconda/envs/geo/lib/python3.6/site-packages/xarray/core/dtypes.py:23: FutureWarning: Conversion of the second argument of issubdtype from `float` to `np.floating` is deprecated. In future, it will be treated as `np.float64 == np.dtype(float).type`.\n",
      "  if np.issubdtype(dtype, float):\n",
      "/g/data/oe9/software/anaconda/envs/geo/lib/python3.6/site-packages/xarray/core/dtypes.py:23: FutureWarning: Conversion of the second argument of issubdtype from `float` to `np.floating` is deprecated. In future, it will be treated as `np.float64 == np.dtype(float).type`.\n",
      "  if np.issubdtype(dtype, float):\n",
      "/g/data/oe9/software/anaconda/envs/geo/lib/python3.6/site-packages/xarray/core/dtypes.py:23: FutureWarning: Conversion of the second argument of issubdtype from `float` to `np.floating` is deprecated. In future, it will be treated as `np.float64 == np.dtype(float).type`.\n",
      "  if np.issubdtype(dtype, float):\n",
      "/g/data/oe9/software/anaconda/envs/geo/lib/python3.6/site-packages/xarray/core/dtypes.py:23: FutureWarning: Conversion of the second argument of issubdtype from `float` to `np.floating` is deprecated. In future, it will be treated as `np.float64 == np.dtype(float).type`.\n",
      "  if np.issubdtype(dtype, float):\n"
     ]
    }
   ],
   "source": [
    "%%time\n",
    "ds14 = get_reflectance('h30v12')"
   ]
  },
  {
   "cell_type": "code",
   "execution_count": 8,
   "metadata": {},
   "outputs": [
    {
     "data": {
      "text/plain": [
       "<xarray.Dataset>\n",
       "Dimensions:          (time: 92, x: 2400, y: 2400)\n",
       "Coordinates:\n",
       "  * time             (time) datetime64[ns] 2014-01-01 2014-01-05 2014-01-09 ...\n",
       "  * x                (x) float64 1.334e+07 1.334e+07 1.334e+07 1.334e+07 ...\n",
       "  * y                (y) float64 -3.336e+06 -3.336e+06 -3.337e+06 -3.337e+06 ...\n",
       "Data variables:\n",
       "    red_630_690      (time, y, x) float32 dask.array<shape=(92, 2400, 2400), chunksize=(1, 2400, 2400)>\n",
       "    nir1_780_900     (time, y, x) float32 dask.array<shape=(92, 2400, 2400), chunksize=(1, 2400, 2400)>\n",
       "    blue_450_520     (time, y, x) float32 dask.array<shape=(92, 2400, 2400), chunksize=(1, 2400, 2400)>\n",
       "    green_530_610    (time, y, x) float32 dask.array<shape=(92, 2400, 2400), chunksize=(1, 2400, 2400)>\n",
       "    nir2_1230_1250   (time, y, x) float32 dask.array<shape=(92, 2400, 2400), chunksize=(1, 2400, 2400)>\n",
       "    swir1_1550_1750  (time, y, x) float32 dask.array<shape=(92, 2400, 2400), chunksize=(1, 2400, 2400)>\n",
       "    swir2_2090_2350  (time, y, x) float32 dask.array<shape=(92, 2400, 2400), chunksize=(1, 2400, 2400)>"
      ]
     },
     "execution_count": 8,
     "metadata": {},
     "output_type": "execute_result"
    }
   ],
   "source": [
    "ds14"
   ]
  },
  {
   "cell_type": "markdown",
   "metadata": {},
   "source": [
    "## 2) Write MODIS data to NetCDF (all bands)"
   ]
  },
  {
   "cell_type": "code",
   "execution_count": 9,
   "metadata": {},
   "outputs": [
    {
     "name": "stdout",
     "output_type": "stream",
     "text": [
      "CPU times: user 1h 44min 58s, sys: 3min 51s, total: 1h 48min 49s\n",
      "Wall time: 1h 48min 35s\n"
     ]
    }
   ],
   "source": [
    "%%time\n",
    "for year in range(2014, 2015):\n",
    "    fname = '/g/data/oe9/project/team-drip/h30v12_reflectance_{}.nc'.format(year)\n",
    "    if os.path.isfile(fname):\n",
    "        print('already done', fname)\n",
    "        continue\n",
    "    try:\n",
    "        ds14.sel(time=str(year)).to_netcdf(fname)\n",
    "    except Exception as e:\n",
    "        print('Year {} failed with {}'.format(year, type(e)))\n",
    "        print(e)"
   ]
  },
  {
   "cell_type": "markdown",
   "metadata": {},
   "source": [
    "## 3) Open MODIS NetCDFs, create index"
   ]
  },
  {
   "cell_type": "code",
   "execution_count": 10,
   "metadata": {},
   "outputs": [
    {
     "data": {
      "text/plain": [
       "<xarray.Dataset>\n",
       "Dimensions:          (time: 92, x: 2400, y: 2400)\n",
       "Coordinates:\n",
       "  * time             (time) datetime64[ns] 2014-01-01 2014-01-05 2014-01-09 ...\n",
       "  * x                (x) float64 1.334e+07 1.334e+07 1.334e+07 1.334e+07 ...\n",
       "  * y                (y) float64 -3.336e+06 -3.336e+06 -3.337e+06 -3.337e+06 ...\n",
       "Data variables:\n",
       "    red_630_690      (time, y, x) float32 dask.array<shape=(92, 2400, 2400), chunksize=(12, 2400, 1200)>\n",
       "    nir1_780_900     (time, y, x) float32 dask.array<shape=(92, 2400, 2400), chunksize=(12, 2400, 1200)>\n",
       "    blue_450_520     (time, y, x) float32 dask.array<shape=(92, 2400, 2400), chunksize=(12, 2400, 1200)>\n",
       "    green_530_610    (time, y, x) float32 dask.array<shape=(92, 2400, 2400), chunksize=(12, 2400, 1200)>\n",
       "    nir2_1230_1250   (time, y, x) float32 dask.array<shape=(92, 2400, 2400), chunksize=(12, 2400, 1200)>\n",
       "    swir1_1550_1750  (time, y, x) float32 dask.array<shape=(92, 2400, 2400), chunksize=(12, 2400, 1200)>\n",
       "    swir2_2090_2350  (time, y, x) float32 dask.array<shape=(92, 2400, 2400), chunksize=(12, 2400, 1200)>"
      ]
     },
     "execution_count": 10,
     "metadata": {},
     "output_type": "execute_result"
    }
   ],
   "source": [
    "ds_all=xr.open_dataset(\n",
    "    '/g/data/oe9/project/team-drip/modis_h30v12_reflectance/h30v12_reflectance_2014.nc',\n",
    "    chunks=dict(time=12, x=1200), #chunks should be in multiples of saved chunk size\n",
    ")\n",
    "ds_all"
   ]
  },
  {
   "cell_type": "code",
   "execution_count": 11,
   "metadata": {},
   "outputs": [
    {
     "data": {
      "text/plain": [
       "<xarray.DataArray (time: 92, y: 2400, x: 2400)>\n",
       "dask.array<shape=(92, 2400, 2400), dtype=float32, chunksize=(12, 2400, 1200)>\n",
       "Coordinates:\n",
       "  * time     (time) datetime64[ns] 2014-01-01 2014-01-05 2014-01-09 ...\n",
       "  * x        (x) float64 1.334e+07 1.334e+07 1.334e+07 1.334e+07 1.335e+07 ...\n",
       "  * y        (y) float64 -3.336e+06 -3.336e+06 -3.337e+06 -3.337e+06 ..."
      ]
     },
     "execution_count": 11,
     "metadata": {},
     "output_type": "execute_result"
    }
   ],
   "source": [
    "# rename vars for simple calcs\n",
    "blue = ds_all.blue_450_520\n",
    "green = ds_all.green_530_610\n",
    "red = ds_all.red_630_690\n",
    "nir1 = ds_all.nir1_780_900\n",
    "nir2 = ds_all.nir2_1230_1250\n",
    "ndvi = (nir1 - red) / (nir1 + red)\n",
    "ndvi\n"
   ]
  },
  {
   "cell_type": "markdown",
   "metadata": {},
   "source": [
    "## Reproject index for 2014 and Generate NetCDF"
   ]
  },
  {
   "cell_type": "code",
   "execution_count": 12,
   "metadata": {},
   "outputs": [],
   "source": [
    "#function for reprojecting modis sinusoidal to lat/lon\n",
    "AffineGeoTransform = collections.namedtuple(\n",
    "    'GeoTransform', ['origin_x', 'pixel_width', 'x_rot',\n",
    "                     'origin_y', 'y_rot', 'pixel_height'])\n",
    "\n",
    "\n",
    "def get_geot(ds):\n",
    "    \"\"\"Take an Xarray object with x and y coords; return geotransform.\"\"\"\n",
    "    return AffineGeoTransform(*map(float, (\n",
    "        # Affine matrix - start/step/rotation, start/rotation/step - in 1D\n",
    "        ds.x[0], (ds.x[-1] - ds.x[0]) / ds.x.size, 0,\n",
    "        ds.y[0], 0, (ds.y[-1] - ds.y[0]) / ds.y.size\n",
    "    )))\n",
    "\n",
    "\n",
    "## set bounding box around data (can be larger than data area\n",
    "class aus:\n",
    "    start_lat = -30\n",
    "    stop_lat = -37\n",
    "    start_lon = 138\n",
    "    stop_lon = 153\n",
    "\n",
    "out_res_degrees = 0.005\n",
    "\n",
    "ll_geot = AffineGeoTransform(\n",
    "    origin_x=aus.start_lon, pixel_width=out_res_degrees, x_rot=0,\n",
    "    origin_y=aus.start_lat, y_rot=0, pixel_height=-out_res_degrees\n",
    ")\n",
    "\n",
    "new_shape = (\n",
    "    math.ceil((aus.start_lat - aus.stop_lat) / out_res_degrees),\n",
    "    math.ceil((aus.stop_lon - aus.start_lon) / out_res_degrees),\n",
    ")\n",
    "\n",
    "ll_coords = dict(\n",
    "    latitude=np.arange(new_shape[0]) * ll_geot.pixel_height + ll_geot.origin_y,\n",
    "    longitude=np.arange(new_shape[1]) * ll_geot.pixel_width + ll_geot.origin_x,\n",
    "    )\n",
    "\n",
    "# MAGIC - describes the MODIS projection\n",
    "wkt_str = (\n",
    "    'PROJCS[\"Sinusoidal\",GEOGCS[\"GCS_Undefined\",DATUM[\"Undefined\",'\n",
    "    'SPHEROID[\"User_Defined_Spheroid\",6371007.181,0.0]],PRIMEM[\"Greenwich\",0.0],'\n",
    "    'UNIT[\"Degree\",0.0174532925199433]],PROJECTION[\"Sinusoidal\"],'\n",
    "    'PARAMETER[\"False_Easting\",0.0],PARAMETER[\"False_Northing\",0.0],'\n",
    "    'PARAMETER[\"Central_Meridian\",0.0],UNIT[\"Meter\",1.0]]\"'\n",
    ")\n",
    "\n",
    "\n",
    "# Next, define some generically useful functions:\n",
    "\n",
    "\n",
    "def project_array(array, geot=None):\n",
    "    \"\"\"Reproject a tile from Modis Sinusoidal to WGS84 Lat/Lon coordinates.\n",
    "    Metadata is handled by the calling function.\n",
    "    \"\"\"\n",
    "    # Takes around seven seconds per layer for in-memory Australia mosaics\n",
    "    if geot is None:\n",
    "        geot = get_geot(array)\n",
    "    assert isinstance(geot, AffineGeoTransform)\n",
    "\n",
    "    def array_to_raster(array, geot):\n",
    "        ysize, xsize = array.shape  # unintuitive order, but correct!\n",
    "        dataset = gdal.GetDriverByName('MEM').Create(\n",
    "            '', xsize, ysize,\n",
    "            eType=gdal_array.NumericTypeCodeToGDALTypeCode(array.dtype))\n",
    "        dataset.SetGeoTransform(geot)\n",
    "        dataset.SetProjection(wkt_str)\n",
    "        dataset.GetRasterBand(1).WriteArray(array)\n",
    "        return dataset\n",
    "\n",
    "    if isinstance(array, xr.DataArray):\n",
    "        array = array.values\n",
    "    input_data = array_to_raster(array, geot)\n",
    "\n",
    "    # Set up the reference systems and transformation\n",
    "    from_sr = osr.SpatialReference()\n",
    "    from_sr.ImportFromWkt(wkt_str)\n",
    "    to_sr = osr.SpatialReference()\n",
    "    to_sr.SetWellKnownGeogCS(\"WGS84\")\n",
    "\n",
    "    # Get new geotransform and create destination raster\n",
    "    dest_arr = np.empty(new_shape)\n",
    "    dest_arr[:] = np.nan\n",
    "    dest = array_to_raster(dest_arr, ll_geot)\n",
    "\n",
    "    # Perform the projection/resampling\n",
    "    gdal.ReprojectImage(\n",
    "        input_data, dest,\n",
    "        wkt_str, to_sr.ExportToWkt(),\n",
    "        gdal.GRA_NearestNeighbour)\n",
    "    \n",
    "    return xr.DataArray(\n",
    "        dest.GetRasterBand(1).ReadAsArray(),\n",
    "        dims=('latitude', 'longitude'),\n",
    "        coords=ll_coords)"
   ]
  },
  {
   "cell_type": "code",
   "execution_count": 13,
   "metadata": {},
   "outputs": [
    {
     "name": "stderr",
     "output_type": "stream",
     "text": [
      "/g/data/oe9/software/anaconda/envs/geo/lib/python3.6/site-packages/dask/local.py:271: RuntimeWarning: invalid value encountered in true_divide\n",
      "  return func(*args2)\n"
     ]
    }
   ],
   "source": [
    "for year in range(2014,2015):\n",
    "    some_ndvi=ndvi.sel(time=str(year))\n",
    "         \n",
    "    fname = '/g/data/oe9/project/team-drip/h30v12_ndvi_ll_{}.nc'.format(year)\n",
    "    if os.path.isfile(fname):\n",
    "        print('already done', fname)\n",
    "        continue        \n",
    "  \n",
    "    out = xr.concat(\n",
    "    [project_array(some_ndvi.sel(time=step)) for step in some_ndvi.time], \n",
    "    dim=some_ndvi.time)\n",
    "    \n",
    "   \n",
    "    try:\n",
    "        out.to_netcdf(fname)\n",
    "    except Exception as e:\n",
    "        print('Year {} failed with {}'.format(year, type(e)))\n",
    "        print(e)"
   ]
  },
  {
   "cell_type": "code",
   "execution_count": null,
   "metadata": {},
   "outputs": [],
   "source": []
  }
 ],
 "metadata": {
  "kernelspec": {
   "display_name": "Python 3",
   "language": "python",
   "name": "python3"
  },
  "language_info": {
   "codemirror_mode": {
    "name": "ipython",
    "version": 3
   },
   "file_extension": ".py",
   "mimetype": "text/x-python",
   "name": "python",
   "nbconvert_exporter": "python",
   "pygments_lexer": "ipython3",
   "version": "3.6.4"
  }
 },
 "nbformat": 4,
 "nbformat_minor": 2
}
