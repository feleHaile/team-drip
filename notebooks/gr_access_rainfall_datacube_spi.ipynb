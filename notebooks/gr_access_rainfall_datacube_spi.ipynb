{
 "cells": [
  {
   "cell_type": "code",
   "execution_count": 45,
   "metadata": {},
   "outputs": [],
   "source": [
    "# Pre-setup in command line in vdi (nci) to run this code\n",
    "\n",
    "## install sandard_precip for SPI calculation\n",
    "## load python and datacube moduels\n",
    "\n",
    "# 0. pip install --user ./standard_precip/ \n",
    "# 1. source /g/data/oe9/login_script.sh\n",
    "# 2. module load agdc-py3-prod\n",
    "# 3. jupyter notebook\n",
    "\n",
    "import datacube\n",
    "import xarray as xr\n",
    "import pandas as pd\n",
    "%matplotlib inline"
   ]
  },
  {
   "cell_type": "code",
   "execution_count": 46,
   "metadata": {},
   "outputs": [],
   "source": [
    "from datacube.storage.masking import mask_invalid_data"
   ]
  },
  {
   "cell_type": "code",
   "execution_count": 47,
   "metadata": {},
   "outputs": [
    {
     "data": {
      "text/plain": [
       "Datacube<index=Index<db=PostgresDb<engine=Engine(postgresql://rg6346@130.56.244.105:6432/datacube)>>>"
      ]
     },
     "execution_count": 47,
     "metadata": {},
     "output_type": "execute_result"
    }
   ],
   "source": [
    "#app is a note to let GA know what we are doing with it, user-defined\n",
    "#when loading data, #make sure data is on same coordinate scale or convert \n",
    "dc=datacube.Datacube(app='learn-data-access')\n",
    "dc"
   ]
  },
  {
   "cell_type": "code",
   "execution_count": 48,
   "metadata": {},
   "outputs": [
    {
     "data": {
      "text/plain": [
       "['name',\n",
       " 'description',\n",
       " 'gqa_iterative_mean_xy',\n",
       " 'gqa_abs_iterative_mean_xy',\n",
       " 'time',\n",
       " 'sat_path',\n",
       " 'instrument',\n",
       " 'gqa',\n",
       " 'gsi',\n",
       " 'format',\n",
       " 'gqa_ref_source',\n",
       " 'gqa_abs_xy',\n",
       " 'sat_row',\n",
       " 'ancillary_quality',\n",
       " 'orbit',\n",
       " 'gqa_final_gcp_count',\n",
       " 'gqa_cep90',\n",
       " 'gqa_error_message',\n",
       " 'gqa_stddev_xy',\n",
       " 'lat',\n",
       " 'gqa_iterative_stddev_xy',\n",
       " 'lon',\n",
       " 'gqa_mean_xy',\n",
       " 'platform',\n",
       " 'product_type',\n",
       " 'crs',\n",
       " 'resolution',\n",
       " 'tile_size',\n",
       " 'spatial_dimensions']"
      ]
     },
     "execution_count": 48,
     "metadata": {},
     "output_type": "execute_result"
    }
   ],
   "source": [
    "products = dc.list_products()\n",
    "products.columns.tolist()"
   ]
  },
  {
   "cell_type": "code",
   "execution_count": 49,
   "metadata": {},
   "outputs": [
    {
     "data": {
      "text/plain": [
       "['name', 'description', 'platform', 'product_type', 'instrument', 'resolution']"
      ]
     },
     "execution_count": 49,
     "metadata": {},
     "output_type": "execute_result"
    }
   ],
   "source": [
    "display_columns = ['name', 'description', 'platform', 'product_type', 'instrument', 'resolution']\n",
    "display_columns"
   ]
  },
  {
   "cell_type": "code",
   "execution_count": 50,
   "metadata": {},
   "outputs": [
    {
     "data": {
      "text/html": [
       "<div>\n",
       "<style scoped>\n",
       "    .dataframe tbody tr th:only-of-type {\n",
       "        vertical-align: middle;\n",
       "    }\n",
       "\n",
       "    .dataframe tbody tr th {\n",
       "        vertical-align: top;\n",
       "    }\n",
       "\n",
       "    .dataframe thead th {\n",
       "        text-align: right;\n",
       "    }\n",
       "</style>\n",
       "<table border=\"1\" class=\"dataframe\">\n",
       "  <thead>\n",
       "    <tr style=\"text-align: right;\">\n",
       "      <th></th>\n",
       "      <th>name</th>\n",
       "      <th>description</th>\n",
       "      <th>platform</th>\n",
       "      <th>product_type</th>\n",
       "      <th>instrument</th>\n",
       "      <th>resolution</th>\n",
       "    </tr>\n",
       "    <tr>\n",
       "      <th>id</th>\n",
       "      <th></th>\n",
       "      <th></th>\n",
       "      <th></th>\n",
       "      <th></th>\n",
       "      <th></th>\n",
       "      <th></th>\n",
       "    </tr>\n",
       "  </thead>\n",
       "  <tbody>\n",
       "    <tr>\n",
       "      <th>36</th>\n",
       "      <td>bom_rainfall_grids</td>\n",
       "      <td>Interpolated Rain Gauge Precipitation 1-Day Au...</td>\n",
       "      <td>BoM</td>\n",
       "      <td>rainfall</td>\n",
       "      <td>rain gauge</td>\n",
       "      <td>[-0.05, 0.05]</td>\n",
       "    </tr>\n",
       "  </tbody>\n",
       "</table>\n",
       "</div>"
      ],
      "text/plain": [
       "                  name                                        description  \\\n",
       "id                                                                          \n",
       "36  bom_rainfall_grids  Interpolated Rain Gauge Precipitation 1-Day Au...   \n",
       "\n",
       "   platform product_type  instrument     resolution  \n",
       "id                                                   \n",
       "36      BoM     rainfall  rain gauge  [-0.05, 0.05]  "
      ]
     },
     "execution_count": 50,
     "metadata": {},
     "output_type": "execute_result"
    }
   ],
   "source": [
    "# #list only nbar products\n",
    "Rainfall_list = products[products['product_type'] == 'rainfall'][display_columns].dropna()\n",
    "# productlist = products[display_columns].dropna()\n",
    "Rainfall_list"
   ]
  },
  {
   "cell_type": "code",
   "execution_count": 51,
   "metadata": {},
   "outputs": [
    {
     "data": {
      "text/plain": [
       "['aliases',\n",
       " 'dtype',\n",
       " 'flags_definition',\n",
       " 'name',\n",
       " 'nodata',\n",
       " 'spectral_definition',\n",
       " 'units']"
      ]
     },
     "execution_count": 51,
     "metadata": {},
     "output_type": "execute_result"
    }
   ],
   "source": [
    "measurements = dc.list_measurements()\n",
    "measurements.columns.tolist()"
   ]
  },
  {
   "cell_type": "code",
   "execution_count": 52,
   "metadata": {},
   "outputs": [
    {
     "data": {
      "text/html": [
       "<div>\n",
       "<style scoped>\n",
       "    .dataframe tbody tr th:only-of-type {\n",
       "        vertical-align: middle;\n",
       "    }\n",
       "\n",
       "    .dataframe tbody tr th {\n",
       "        vertical-align: top;\n",
       "    }\n",
       "\n",
       "    .dataframe thead th {\n",
       "        text-align: right;\n",
       "    }\n",
       "</style>\n",
       "<table border=\"1\" class=\"dataframe\">\n",
       "  <thead>\n",
       "    <tr style=\"text-align: right;\">\n",
       "      <th></th>\n",
       "      <th>units</th>\n",
       "      <th>nodata</th>\n",
       "      <th>aliases</th>\n",
       "    </tr>\n",
       "    <tr>\n",
       "      <th>measurement</th>\n",
       "      <th></th>\n",
       "      <th></th>\n",
       "      <th></th>\n",
       "    </tr>\n",
       "  </thead>\n",
       "  <tbody>\n",
       "    <tr>\n",
       "      <th>rainfall</th>\n",
       "      <td>mm</td>\n",
       "      <td>-999</td>\n",
       "      <td>NaN</td>\n",
       "    </tr>\n",
       "  </tbody>\n",
       "</table>\n",
       "</div>"
      ],
      "text/plain": [
       "            units nodata aliases\n",
       "measurement                     \n",
       "rainfall       mm   -999     NaN"
      ]
     },
     "execution_count": 52,
     "metadata": {},
     "output_type": "execute_result"
    }
   ],
   "source": [
    "display_columns = ['units', 'nodata', 'aliases']\n",
    "# display meausrements for one product\n",
    "measurements[display_columns].loc['bom_rainfall_grids']"
   ]
  },
  {
   "cell_type": "code",
   "execution_count": 53,
   "metadata": {},
   "outputs": [],
   "source": [
    "query = {\n",
    "    'time': ('2000-01-01', '2013-12-31'),\n",
    "    'lat': (-24.585618, -37.682084), # Bounding Lat\n",
    "    'lon': (138.568467, 152.488546), # Bongding Long\n",
    "}\n",
    "# attempt BoM rainfall \n",
    "#2 stars unpack the limits of our query, we load specific measurements from a product\n",
    "Rainfall_data = dc.load(product='bom_rainfall_grids', measurements=['rainfall'], **query)"
   ]
  },
  {
   "cell_type": "code",
   "execution_count": 54,
   "metadata": {},
   "outputs": [
    {
     "data": {
      "text/plain": [
       "<xarray.Dataset>\n",
       "Dimensions:    (latitude: 263, longitude: 279, time: 5113)\n",
       "Coordinates:\n",
       "  * time       (time) datetime64[ns] 2000-01-01 2000-01-02 2000-01-03 ...\n",
       "  * latitude   (latitude) float64 -24.57 -24.62 -24.68 -24.72 -24.77 -24.82 ...\n",
       "  * longitude  (longitude) float64 138.6 138.6 138.7 138.7 138.8 138.8 138.9 ...\n",
       "Data variables:\n",
       "    rainfall   (time, latitude, longitude) float32 0.0 0.0 0.0 0.0 0.0 0.0 ...\n",
       "Attributes:\n",
       "    crs:      EPSG:4326"
      ]
     },
     "execution_count": 54,
     "metadata": {},
     "output_type": "execute_result"
    }
   ],
   "source": [
    "\n",
    "Rainfalldata = mask_invalid_data(Rainfall_data)\n",
    "Rainfalldata"
   ]
  },
  {
   "cell_type": "code",
   "execution_count": 34,
   "metadata": {},
   "outputs": [
    {
     "data": {
      "text/plain": [
       "<xarray.Dataset>\n",
       "Dimensions:    (latitude: 263, longitude: 279, time: 730)\n",
       "Coordinates:\n",
       "  * time       (time) datetime64[ns] 2000-01-01 2000-01-02 2000-01-03 ...\n",
       "  * latitude   (latitude) float64 -24.57 -24.62 -24.68 -24.72 -24.77 -24.82 ...\n",
       "  * longitude  (longitude) float64 138.6 138.6 138.7 138.7 138.8 138.8 138.9 ...\n",
       "Data variables:\n",
       "    rainfall   (time, latitude, longitude) float32 0.0 0.0 0.0 0.0 0.0 0.0 ...\n",
       "Attributes:\n",
       "    crs:      EPSG:4326"
      ]
     },
     "execution_count": 34,
     "metadata": {},
     "output_type": "execute_result"
    }
   ],
   "source": [
    "#Rainfalldata.squeeze(dim = None, drop = False)\n",
    "#rain = Rainfalldata.drop(labels = 'Attributes', dim = None)\n",
    "#Rainfalldata.to_netcdf('/g/data/oe9/project/team-drip/rainfall5km4mMDB.nc')\n",
    "#from netCDF import Dataset\n"
   ]
  },
  {
   "cell_type": "code",
   "execution_count": 55,
   "metadata": {},
   "outputs": [
    {
     "data": {
      "text/plain": [
       "<xarray.Dataset>\n",
       "Dimensions:    (latitude: 263, longitude: 279, time: 5113)\n",
       "Coordinates:\n",
       "  * time       (time) datetime64[ns] 2000-01-01 2000-01-02 2000-01-03 ...\n",
       "  * latitude   (latitude) float64 -24.57 -24.62 -24.68 -24.72 -24.77 -24.82 ...\n",
       "  * longitude  (longitude) float64 138.6 138.6 138.7 138.7 138.8 138.8 138.9 ...\n",
       "Data variables:\n",
       "    rainfall   (time, latitude, longitude) float32 0.0 0.0 0.0 0.0 0.0 0.0 ...\n",
       "Attributes:\n",
       "    crs:      EPSG:4326"
      ]
     },
     "execution_count": 55,
     "metadata": {},
     "output_type": "execute_result"
    }
   ],
   "source": [
    "Rainfalldata = mask_invalid_data(Rainfall_data)\n",
    "Rainfalldata"
   ]
  },
  {
   "cell_type": "code",
   "execution_count": 69,
   "metadata": {},
   "outputs": [
    {
     "data": {
      "text/plain": [
       "<matplotlib.image.AxesImage at 0x7fdc212aed30>"
      ]
     },
     "execution_count": 69,
     "metadata": {},
     "output_type": "execute_result"
    },
    {
     "data": {
      "image/png": "[encoded data removed]",
      "text/plain": [
       "<matplotlib.figure.Figure at 0x7fdc1ea2d6a0>"
      ]
     },
     "metadata": {},
     "output_type": "display_data"
    }
   ],
   "source": [
    "Rimg = Rainfalldata.isel(time=0).rainfall\n",
    "Rimg.load()\n",
    "Rimg.plot.imshow(robust=True)"
   ]
  },
  {
   "cell_type": "code",
   "execution_count": 12,
   "metadata": {},
   "outputs": [
    {
     "data": {
      "text/plain": [
       "<xarray.DataArray 'time' (time: 5113)>\n",
       "array(['2000-01-01T00:00:00.000000000', '2000-01-02T00:00:00.000000000',\n",
       "       '2000-01-03T00:00:00.000000000', ..., '2013-12-28T00:00:00.000000000',\n",
       "       '2013-12-29T00:00:00.000000000', '2013-12-30T00:00:00.000000000'], dtype='datetime64[ns]')\n",
       "Coordinates:\n",
       "  * time     (time) datetime64[ns] 2000-01-01 2000-01-02 2000-01-03 ...\n",
       "Attributes:\n",
       "    units:    seconds since 1970-01-01 00:00:00"
      ]
     },
     "execution_count": 12,
     "metadata": {},
     "output_type": "execute_result"
    }
   ],
   "source": [
    "# daily rainfall data\n",
    "Rainfalldata.time"
   ]
  },
  {
   "cell_type": "code",
   "execution_count": 70,
   "metadata": {},
   "outputs": [
    {
     "name": "stderr",
     "output_type": "stream",
     "text": [
      "/g/data/v10/public/modules/agdc-py3-env/20171214/envs/agdc/lib/python3.6/site-packages/xarray/core/common.py:594: FutureWarning: pd.TimeGrouper is deprecated and will be removed; Please use pd.Grouper(freq=...)\n",
      "  label=label, base=base)\n"
     ]
    },
    {
     "data": {
      "text/plain": [
       "<xarray.Dataset>\n",
       "Dimensions:    (latitude: 263, longitude: 279, time: 640)\n",
       "Coordinates:\n",
       "  * time       (time) datetime64[ns] 2000-01-01 2000-01-09 2000-01-17 ...\n",
       "  * latitude   (latitude) float64 -24.57 -24.62 -24.68 -24.72 -24.77 -24.82 ...\n",
       "  * longitude  (longitude) float64 138.6 138.6 138.7 138.7 138.8 138.8 138.9 ...\n",
       "Data variables:\n",
       "    rainfall   (time, latitude, longitude) float32 2.7887e-06 2.74994e-06 ..."
      ]
     },
     "execution_count": 70,
     "metadata": {},
     "output_type": "execute_result"
    }
   ],
   "source": [
    "# get monthly averaged rainfall\n",
    "Rainmonth=Rainfalldata.resample(time=\"8D\").sum() # monthly\n",
    "Rainmonth"
   ]
  },
  {
   "cell_type": "code",
   "execution_count": 71,
   "metadata": {},
   "outputs": [],
   "source": [
    "# install standard_precip module and save under /home/599/rg6346 or your own dir\n",
    "import sys\n",
    "sys.path.append('/home/599/rg6346/standard_precip/')\n",
    "import standard_precip\n",
    "from standard_precip.plot_index import plot_index\n",
    "from standard_precip.spi import SPI \n",
    "\n",
    "from __future__ import absolute_import, division, print_function, unicode_literals\n",
    "import datetime as dt\n",
    "from dateutil.relativedelta import relativedelta\n",
    "import numpy as np\n",
    "\n",
    "def create_datelist(start_date, n_months):\n",
    "    \n",
    "    dates = [start_date + relativedelta(months=i) \n",
    "              for i in range(0, n_months)]\n",
    "    \n",
    "    return np.array(dates)"
   ]
  },
  {
   "cell_type": "code",
   "execution_count": 89,
   "metadata": {},
   "outputs": [
    {
     "data": {
      "text/plain": [
       "(640, 263, 279)"
      ]
     },
     "execution_count": 89,
     "metadata": {},
     "output_type": "execute_result"
    }
   ],
   "source": [
    "rainfall_x = Rainmonth.rainfall.data\n",
    "rainfall_data = np.squeeze(rainfall_x) # to tidy up the rainfall data \n",
    "rainfall_data.shape"
   ]
  },
  {
   "cell_type": "code",
   "execution_count": 76,
   "metadata": {},
   "outputs": [
    {
     "ename": "ValueError",
     "evalue": "shape mismatch: value array of shape (15066,) could not be broadcast to indexing result of shape (54,279)",
     "output_type": "error",
     "traceback": [
      "\u001b[0;31m---------------------------------------------------------------------------\u001b[0m",
      "\u001b[0;31mValueError\u001b[0m                                Traceback (most recent call last)",
      "\u001b[0;32m<ipython-input-76-88a2a19577d9>\u001b[0m in \u001b[0;36m<module>\u001b[0;34m()\u001b[0m\n\u001b[1;32m     17\u001b[0m \u001b[0;34m\u001b[0m\u001b[0m\n\u001b[1;32m     18\u001b[0m     \u001b[0;31m# Calculate SPI\u001b[0m\u001b[0;34m\u001b[0m\u001b[0;34m\u001b[0m\u001b[0m\n\u001b[0;32m---> 19\u001b[0;31m     \u001b[0mdata\u001b[0m \u001b[0;34m=\u001b[0m \u001b[0mspi\u001b[0m\u001b[0;34m.\u001b[0m\u001b[0mcalculate\u001b[0m\u001b[0;34m(\u001b[0m\u001b[0mrainfall_data\u001b[0m\u001b[0;34m,\u001b[0m \u001b[0mstarting_month\u001b[0m\u001b[0;34m=\u001b[0m\u001b[0;36m1\u001b[0m\u001b[0;34m)\u001b[0m\u001b[0;34m\u001b[0m\u001b[0m\n\u001b[0m\u001b[1;32m     20\u001b[0m \u001b[0;34m\u001b[0m\u001b[0m\n",
      "\u001b[0;32m~/standard_precip/standard_precip/base_sp.py\u001b[0m in \u001b[0;36mcalculate\u001b[0;34m(self, data, starting_month)\u001b[0m\n\u001b[1;32m    177\u001b[0m \u001b[0;34m\u001b[0m\u001b[0m\n\u001b[1;32m    178\u001b[0m         \u001b[0;32melse\u001b[0m\u001b[0;34m:\u001b[0m\u001b[0;34m\u001b[0m\u001b[0m\n\u001b[0;32m--> 179\u001b[0;31m             \u001b[0mspi\u001b[0m \u001b[0;34m=\u001b[0m \u001b[0mself\u001b[0m\u001b[0;34m.\u001b[0m\u001b[0mcalculate_over_full_series\u001b[0m\u001b[0;34m(\u001b[0m\u001b[0mdata\u001b[0m\u001b[0;34m,\u001b[0m \u001b[0mstarting_month\u001b[0m\u001b[0;34m)\u001b[0m\u001b[0;34m\u001b[0m\u001b[0m\n\u001b[0m\u001b[1;32m    180\u001b[0m \u001b[0;34m\u001b[0m\u001b[0m\n\u001b[1;32m    181\u001b[0m         \u001b[0;32mreturn\u001b[0m \u001b[0mspi\u001b[0m\u001b[0;34m\u001b[0m\u001b[0m\n",
      "\u001b[0;32m~/standard_precip/standard_precip/base_sp.py\u001b[0m in \u001b[0;36mcalculate_over_full_series\u001b[0;34m(self, data, starting_month)\u001b[0m\n\u001b[1;32m    230\u001b[0m \u001b[0;34m\u001b[0m\u001b[0m\n\u001b[1;32m    231\u001b[0m                 \u001b[0;31m# Calculate SPI/SPEI\u001b[0m\u001b[0;34m\u001b[0m\u001b[0;34m\u001b[0m\u001b[0m\n\u001b[0;32m--> 232\u001b[0;31m                 \u001b[0mspi\u001b[0m\u001b[0;34m[\u001b[0m\u001b[0mmnth_inds\u001b[0m\u001b[0;34m,\u001b[0m\u001b[0mi\u001b[0m\u001b[0;34m]\u001b[0m \u001b[0;34m=\u001b[0m \u001b[0mself\u001b[0m\u001b[0;34m.\u001b[0m\u001b[0mcdf_to_ppf\u001b[0m\u001b[0;34m(\u001b[0m\u001b[0mdata_month\u001b[0m\u001b[0;34m,\u001b[0m \u001b[0mparams\u001b[0m\u001b[0;34m)\u001b[0m\u001b[0;34m\u001b[0m\u001b[0m\n\u001b[0m\u001b[1;32m    233\u001b[0m \u001b[0;34m\u001b[0m\u001b[0m\n\u001b[1;32m    234\u001b[0m         \u001b[0;32mreturn\u001b[0m \u001b[0mspi\u001b[0m\u001b[0;34m\u001b[0m\u001b[0m\n",
      "\u001b[0;31mValueError\u001b[0m: shape mismatch: value array of shape (15066,) could not be broadcast to indexing result of shape (54,279)"
     ]
    }
   ],
   "source": [
    "if __name__=='__main__':\n",
    "    # Read precip data from csv\n",
    "   # crnt_path = os.path.dirname(os.path.abspath('/home/599/rg6346/standard_precip/'))\n",
    "    #precip_file = os.path.join(crnt_path,'standard_precip','data','rainfall_test.csv')\n",
    "    #rainfall_data = np.genfromtxt(precip_file, delimiter=',')\n",
    "    \n",
    "    # Initialize SPI class\n",
    "    spi = SPI() \n",
    "    \n",
    "    # Set rolling window parameters\n",
    "    spi.set_rolling_window_params(\n",
    "        span=1, window_type=None, center=True\n",
    "    )\n",
    "    \n",
    "    # Set distribution parameters\n",
    "    spi.set_distribution_params(dist_type='gengamma')\n",
    "    \n",
    "    # Calculate SPI\n",
    "    data = spi.calculate(rainfall_data, starting_month=1)\n",
    "    \n"
   ]
  },
  {
   "cell_type": "code",
   "execution_count": 74,
   "metadata": {},
   "outputs": [
    {
     "ename": "NameError",
     "evalue": "name 'data' is not defined",
     "output_type": "error",
     "traceback": [
      "\u001b[0;31m---------------------------------------------------------------------------\u001b[0m",
      "\u001b[0;31mNameError\u001b[0m                                 Traceback (most recent call last)",
      "\u001b[0;32m<ipython-input-74-7e0a84882cea>\u001b[0m in \u001b[0;36m<module>\u001b[0;34m()\u001b[0m\n\u001b[1;32m      1\u001b[0m \u001b[0;31m# Create date list for plotting\u001b[0m\u001b[0;34m\u001b[0m\u001b[0;34m\u001b[0m\u001b[0m\n\u001b[0;32m----> 2\u001b[0;31m \u001b[0mn_dates\u001b[0m \u001b[0;34m=\u001b[0m \u001b[0mnp\u001b[0m\u001b[0;34m.\u001b[0m\u001b[0mshape\u001b[0m\u001b[0;34m(\u001b[0m\u001b[0mdata\u001b[0m\u001b[0;34m)\u001b[0m\u001b[0;34m[\u001b[0m\u001b[0;36m0\u001b[0m\u001b[0;34m]\u001b[0m\u001b[0;34m\u001b[0m\u001b[0m\n\u001b[0m\u001b[1;32m      3\u001b[0m \u001b[0mdate_list\u001b[0m \u001b[0;34m=\u001b[0m \u001b[0mcreate_datelist\u001b[0m\u001b[0;34m(\u001b[0m\u001b[0mdt\u001b[0m\u001b[0;34m.\u001b[0m\u001b[0mdate\u001b[0m\u001b[0;34m(\u001b[0m\u001b[0;36m2000\u001b[0m\u001b[0;34m,\u001b[0m\u001b[0;36m1\u001b[0m\u001b[0;34m,\u001b[0m\u001b[0;36m31\u001b[0m\u001b[0;34m)\u001b[0m\u001b[0;34m,\u001b[0m \u001b[0mn_dates\u001b[0m\u001b[0;34m)\u001b[0m\u001b[0;34m\u001b[0m\u001b[0m\n\u001b[1;32m      4\u001b[0m \u001b[0;34m\u001b[0m\u001b[0m\n\u001b[1;32m      5\u001b[0m \u001b[0;31m# Plot SPI\u001b[0m\u001b[0;34m\u001b[0m\u001b[0;34m\u001b[0m\u001b[0m\n",
      "\u001b[0;31mNameError\u001b[0m: name 'data' is not defined"
     ]
    }
   ],
   "source": [
    "    # Create date list for plotting\n",
    "    n_dates = np.shape(data)[0]\n",
    "    date_list = create_datelist(dt.date(2000,1,31), n_dates)\n",
    "    \n",
    "    # Plot SPI\n",
    "    plot_index(date_list, data)\n",
    "    print (np.squeeze(data))"
   ]
  },
  {
   "cell_type": "code",
   "execution_count": 25,
   "metadata": {},
   "outputs": [
    {
     "name": "stderr",
     "output_type": "stream",
     "text": [
      "/g/data/v10/public/modules/agdc-py3-env/20171214/envs/agdc/lib/python3.6/site-packages/scipy/stats/_distn_infrastructure.py:1037: RuntimeWarning: invalid value encountered in subtract\n",
      "  mu2 = mu2p - mu * mu\n",
      "/g/data/v10/public/modules/agdc-py3-env/20171214/envs/agdc/lib/python3.6/site-packages/scipy/stats/_distn_infrastructure.py:2306: RuntimeWarning: invalid value encountered in double_scalars\n",
      "  Lhat = muhat - Shat*mu\n"
     ]
    },
    {
     "name": "stdout",
     "output_type": "stream",
     "text": [
      "distribution = gamma; SSE = 0.008787939357579483\n",
      "distribution = gengamma; SSE = 0.00881718791873679\n",
      "distribution = fisk; SSE = 0.00840974700939302\n",
      "distribution = dweibull; SSE = 0.008912655455487355\n",
      "distribution = logistic; SSE = 0.009906939098303855\n"
     ]
    },
    {
     "data": {
      "image/png": "[encoded data removed]",
      "text/plain": [
       "<matplotlib.figure.Figure at 0x7f3e2495b128>"
      ]
     },
     "metadata": {},
     "output_type": "display_data"
    }
   ],
   "source": [
    "# Test find best distribution fit\n",
    "import scipy.stats\n",
    "dist_list = ['gamma', 'gengamma', 'fisk', 'dweibull', 'logistic']\n",
    "\n",
    "test_data = scipy.stats.gamma.rvs(10., size=100)\n",
    "sse = spi.best_fit_distribution(test_data, dist_list, bins=20, \n",
    "                                save_file='test.jpg')\n",
    "\n",
    "for k in sse:\n",
    "    print (\"distribution = {0:}; SSE = {1:}\".format(k, sse[k]))"
   ]
  },
  {
   "cell_type": "code",
   "execution_count": null,
   "metadata": {
    "collapsed": true
   },
   "outputs": [],
   "source": []
  }
 ],
 "metadata": {
  "kernelspec": {
   "display_name": "Python 3",
   "language": "python",
   "name": "python3"
  },
  "language_info": {
   "codemirror_mode": {
    "name": "ipython",
    "version": 3
   },
   "file_extension": ".py",
   "mimetype": "text/x-python",
   "name": "python",
   "nbconvert_exporter": "python",
   "pygments_lexer": "ipython3",
   "version": "3.6.3"
  }
 },
 "nbformat": 4,
 "nbformat_minor": 2
}
