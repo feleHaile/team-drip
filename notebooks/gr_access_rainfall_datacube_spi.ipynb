{
 "cells": [
  {
   "cell_type": "code",
   "execution_count": 62,
   "metadata": {},
   "outputs": [],
   "source": [
    "import datacube\n",
    "import xarray as xr\n",
    "import pandas as pd\n",
    "%matplotlib inline\n",
    "# % "
   ]
  },
  {
   "cell_type": "code",
   "execution_count": 63,
   "metadata": {},
   "outputs": [],
   "source": [
    "from datacube.storage.masking import mask_invalid_data"
   ]
  },
  {
   "cell_type": "code",
   "execution_count": 64,
   "metadata": {},
   "outputs": [
    {
     "data": {
      "text/plain": [
       "Datacube<index=Index<db=PostgresDb<engine=Engine(postgresql://rg6346@130.56.244.105:6432/datacube)>>>"
      ]
     },
     "execution_count": 64,
     "metadata": {},
     "output_type": "execute_result"
    }
   ],
   "source": [
    "#app is a note to let GA know what we are doing with it, user-defined\n",
    "#when loading data, #make sure data is on same coordinate scale or convert \n",
    "dc=datacube.Datacube(app='learn-data-access')\n",
    "dc"
   ]
  },
  {
   "cell_type": "code",
   "execution_count": 65,
   "metadata": {},
   "outputs": [
    {
     "data": {
      "text/plain": [
       "['name',\n",
       " 'description',\n",
       " 'time',\n",
       " 'ancillary_quality',\n",
       " 'gqa_stddev_xy',\n",
       " 'gqa_ref_source',\n",
       " 'gqa_iterative_mean_xy',\n",
       " 'gqa_cep90',\n",
       " 'platform',\n",
       " 'gqa_mean_xy',\n",
       " 'gqa_abs_xy',\n",
       " 'instrument',\n",
       " 'sat_path',\n",
       " 'gqa_final_gcp_count',\n",
       " 'gsi',\n",
       " 'lon',\n",
       " 'gqa',\n",
       " 'orbit',\n",
       " 'sat_row',\n",
       " 'gqa_abs_iterative_mean_xy',\n",
       " 'product_type',\n",
       " 'lat',\n",
       " 'format',\n",
       " 'gqa_error_message',\n",
       " 'gqa_iterative_stddev_xy',\n",
       " 'crs',\n",
       " 'resolution',\n",
       " 'tile_size',\n",
       " 'spatial_dimensions']"
      ]
     },
     "execution_count": 65,
     "metadata": {},
     "output_type": "execute_result"
    }
   ],
   "source": [
    "products = dc.list_products()\n",
    "products.columns.tolist()"
   ]
  },
  {
   "cell_type": "code",
   "execution_count": 66,
   "metadata": {},
   "outputs": [
    {
     "data": {
      "text/plain": [
       "['name',\n",
       " 'description',\n",
       " 'platform',\n",
       " 'product_type',\n",
       " 'instrument',\n",
       " 'crs',\n",
       " 'resolution']"
      ]
     },
     "execution_count": 66,
     "metadata": {},
     "output_type": "execute_result"
    }
   ],
   "source": [
    "display_columns = ['name', 'description', 'platform', 'product_type', 'instrument', 'crs', 'resolution']\n",
    "display_columns"
   ]
  },
  {
   "cell_type": "code",
   "execution_count": 67,
   "metadata": {},
   "outputs": [
    {
     "data": {
      "text/html": [
       "<div>\n",
       "<style scoped>\n",
       "    .dataframe tbody tr th:only-of-type {\n",
       "        vertical-align: middle;\n",
       "    }\n",
       "\n",
       "    .dataframe tbody tr th {\n",
       "        vertical-align: top;\n",
       "    }\n",
       "\n",
       "    .dataframe thead th {\n",
       "        text-align: right;\n",
       "    }\n",
       "</style>\n",
       "<table border=\"1\" class=\"dataframe\">\n",
       "  <thead>\n",
       "    <tr style=\"text-align: right;\">\n",
       "      <th></th>\n",
       "      <th>name</th>\n",
       "      <th>description</th>\n",
       "      <th>platform</th>\n",
       "      <th>product_type</th>\n",
       "      <th>instrument</th>\n",
       "      <th>crs</th>\n",
       "      <th>resolution</th>\n",
       "    </tr>\n",
       "    <tr>\n",
       "      <th>id</th>\n",
       "      <th></th>\n",
       "      <th></th>\n",
       "      <th></th>\n",
       "      <th></th>\n",
       "      <th></th>\n",
       "      <th></th>\n",
       "      <th></th>\n",
       "    </tr>\n",
       "  </thead>\n",
       "  <tbody>\n",
       "    <tr>\n",
       "      <th>36</th>\n",
       "      <td>bom_rainfall_grids</td>\n",
       "      <td>Interpolated Rain Gauge Precipitation 1-Day Au...</td>\n",
       "      <td>BoM</td>\n",
       "      <td>rainfall</td>\n",
       "      <td>rain gauge</td>\n",
       "      <td>EPSG:4326</td>\n",
       "      <td>[-0.05, 0.05]</td>\n",
       "    </tr>\n",
       "  </tbody>\n",
       "</table>\n",
       "</div>"
      ],
      "text/plain": [
       "                  name                                        description  \\\n",
       "id                                                                          \n",
       "36  bom_rainfall_grids  Interpolated Rain Gauge Precipitation 1-Day Au...   \n",
       "\n",
       "   platform product_type  instrument        crs     resolution  \n",
       "id                                                              \n",
       "36      BoM     rainfall  rain gauge  EPSG:4326  [-0.05, 0.05]  "
      ]
     },
     "execution_count": 67,
     "metadata": {},
     "output_type": "execute_result"
    }
   ],
   "source": [
    "# #list only nbar products\n",
    "Rainfall_list = products[products['product_type'] == 'rainfall'][display_columns].dropna()\n",
    "# productlist = products[display_columns].dropna()\n",
    "Rainfall_list"
   ]
  },
  {
   "cell_type": "code",
   "execution_count": 68,
   "metadata": {},
   "outputs": [
    {
     "data": {
      "text/plain": [
       "['aliases',\n",
       " 'dtype',\n",
       " 'flags_definition',\n",
       " 'name',\n",
       " 'nodata',\n",
       " 'spectral_definition',\n",
       " 'units']"
      ]
     },
     "execution_count": 68,
     "metadata": {},
     "output_type": "execute_result"
    }
   ],
   "source": [
    "measurements = dc.list_measurements()\n",
    "measurements.columns.tolist()"
   ]
  },
  {
   "cell_type": "code",
   "execution_count": 69,
   "metadata": {},
   "outputs": [
    {
     "data": {
      "text/html": [
       "<div>\n",
       "<style scoped>\n",
       "    .dataframe tbody tr th:only-of-type {\n",
       "        vertical-align: middle;\n",
       "    }\n",
       "\n",
       "    .dataframe tbody tr th {\n",
       "        vertical-align: top;\n",
       "    }\n",
       "\n",
       "    .dataframe thead th {\n",
       "        text-align: right;\n",
       "    }\n",
       "</style>\n",
       "<table border=\"1\" class=\"dataframe\">\n",
       "  <thead>\n",
       "    <tr style=\"text-align: right;\">\n",
       "      <th></th>\n",
       "      <th>units</th>\n",
       "      <th>nodata</th>\n",
       "      <th>aliases</th>\n",
       "    </tr>\n",
       "    <tr>\n",
       "      <th>measurement</th>\n",
       "      <th></th>\n",
       "      <th></th>\n",
       "      <th></th>\n",
       "    </tr>\n",
       "  </thead>\n",
       "  <tbody>\n",
       "    <tr>\n",
       "      <th>rainfall</th>\n",
       "      <td>mm</td>\n",
       "      <td>-999</td>\n",
       "      <td>NaN</td>\n",
       "    </tr>\n",
       "  </tbody>\n",
       "</table>\n",
       "</div>"
      ],
      "text/plain": [
       "            units nodata aliases\n",
       "measurement                     \n",
       "rainfall       mm   -999     NaN"
      ]
     },
     "execution_count": 69,
     "metadata": {},
     "output_type": "execute_result"
    }
   ],
   "source": [
    "display_columns = ['units', 'nodata', 'aliases']\n",
    "# display meausrements for one product\n",
    "measurements[display_columns].loc['bom_rainfall_grids']"
   ]
  },
  {
   "cell_type": "code",
   "execution_count": 70,
   "metadata": {},
   "outputs": [],
   "source": [
    "query = {\n",
    "    'time': ('2000-01-01', '2013-12-31'),\n",
    "    'lat': (-31, -31),\n",
    "    'lon': (149, 149),\n",
    "}\n",
    "# attempt BoM rainfall \n",
    "#2 stars unpack the limits of our query, we load specific measurements from a product\n",
    "Rainfall_data = dc.load(product='bom_rainfall_grids', measurements=['rainfall'], **query)"
   ]
  },
  {
   "cell_type": "code",
   "execution_count": 71,
   "metadata": {},
   "outputs": [
    {
     "data": {
      "text/plain": [
       "<xarray.Dataset>\n",
       "Dimensions:    (latitude: 1, longitude: 1, time: 5113)\n",
       "Coordinates:\n",
       "  * time       (time) datetime64[ns] 2000-01-01 2000-01-02 2000-01-03 ...\n",
       "  * latitude   (latitude) float64 -31.02\n",
       "  * longitude  (longitude) float64 149.0\n",
       "Data variables:\n",
       "    rainfall   (time, latitude, longitude) float32 2.94406e-05 3.87305e-05 ...\n",
       "Attributes:\n",
       "    crs:      EPSG:4326"
      ]
     },
     "execution_count": 71,
     "metadata": {},
     "output_type": "execute_result"
    }
   ],
   "source": [
    "Rainfalldata = mask_invalid_data(Rainfall_data)\n",
    "Rainfalldata"
   ]
  },
  {
   "cell_type": "code",
   "execution_count": 72,
   "metadata": {},
   "outputs": [
    {
     "data": {
      "text/plain": [
       "<xarray.DataArray 'time' (time: 5113)>\n",
       "array(['2000-01-01T00:00:00.000000000', '2000-01-02T00:00:00.000000000',\n",
       "       '2000-01-03T00:00:00.000000000', ..., '2013-12-28T00:00:00.000000000',\n",
       "       '2013-12-29T00:00:00.000000000', '2013-12-30T00:00:00.000000000'], dtype='datetime64[ns]')\n",
       "Coordinates:\n",
       "  * time     (time) datetime64[ns] 2000-01-01 2000-01-02 2000-01-03 ...\n",
       "Attributes:\n",
       "    units:    seconds since 1970-01-01 00:00:00"
      ]
     },
     "execution_count": 72,
     "metadata": {},
     "output_type": "execute_result"
    }
   ],
   "source": [
    "Rainfalldata.time"
   ]
  },
  {
   "cell_type": "code",
   "execution_count": 73,
   "metadata": {},
   "outputs": [],
   "source": [
    "#Rainfalldata.rainfall.isel(time=1).plot.imshow() # selection of time = 0 for red variable"
   ]
  },
  {
   "cell_type": "code",
   "execution_count": 74,
   "metadata": {},
   "outputs": [],
   "source": [
    "#Rainfalldata.rainfall.plot.imshow(col='time', robust = True, col_wrap=3, cmap = 'RdYlGn')"
   ]
  },
  {
   "cell_type": "code",
   "execution_count": 75,
   "metadata": {},
   "outputs": [
    {
     "name": "stderr",
     "output_type": "stream",
     "text": [
      "/g/data/v10/public/modules/agdc-py3-env/20171214/envs/agdc/lib/python3.6/site-packages/xarray/core/common.py:594: FutureWarning: pd.TimeGrouper is deprecated and will be removed; Please use pd.Grouper(freq=...)\n",
      "  label=label, base=base)\n"
     ]
    },
    {
     "data": {
      "text/plain": [
       "<xarray.Dataset>\n",
       "Dimensions:    (latitude: 1, longitude: 1, time: 168)\n",
       "Coordinates:\n",
       "  * time       (time) datetime64[ns] 2000-01-31 2000-02-29 2000-03-31 ...\n",
       "  * latitude   (latitude) float64 -31.02\n",
       "  * longitude  (longitude) float64 149.0\n",
       "Data variables:\n",
       "    rainfall   (time, latitude, longitude) float32 44.2171 12.7233 86.0932 ..."
      ]
     },
     "execution_count": 75,
     "metadata": {},
     "output_type": "execute_result"
    }
   ],
   "source": [
    "Rainmonth=Rainfalldata.resample(time=\"1M\").sum()\n",
    "Rainmonth"
   ]
  },
  {
   "cell_type": "code",
   "execution_count": 76,
   "metadata": {},
   "outputs": [],
   "source": [
    "import sys\n",
    "sys.path.append('~/standard_precip/')\n",
    "import standard_precip\n",
    "from standard_precip.plot_index import plot_index\n",
    "from standard_precip.spi import SPI \n",
    "\n",
    "from __future__ import absolute_import, division, print_function, unicode_literals\n",
    "import datetime as dt\n",
    "from dateutil.relativedelta import relativedelta\n",
    "import numpy as np\n",
    "\n",
    "def create_datelist(start_date, n_months):\n",
    "    \n",
    "    dates = [start_date + relativedelta(months=i) \n",
    "              for i in range(0, n_months)]\n",
    "    \n",
    "    return np.array(dates)"
   ]
  },
  {
   "cell_type": "code",
   "execution_count": 77,
   "metadata": {},
   "outputs": [
    {
     "data": {
      "text/plain": [
       "array([  44.21709061,   12.72330379,   86.09316254,   39.42591095,\n",
       "        104.57004547,   41.96711349,   37.86081696,   38.75136566,\n",
       "         11.70495701,  122.81396484,  152.92483521,   21.37288857,\n",
       "         35.56732178,   57.06085968,   43.79828262,   24.22360611,\n",
       "         21.1147213 ,   41.09676361,  114.64081573,   10.30725098,\n",
       "         19.35280037,   55.17821884,  124.42420959,   22.86315727,\n",
       "         13.01889038,   55.89009094,   16.81484222,   24.75821877,\n",
       "          3.69136   ,   24.90822029,    1.82897222,    2.50342274,\n",
       "         34.72764587,    7.62750721,   15.3604517 ,   50.95214081,\n",
       "         24.50102043,   50.21434021,   15.57896423,  106.67299652,\n",
       "          6.25969744,   40.6536026 ,   40.19612885,   82.1264801 ,\n",
       "          1.48499751,   40.91105652,   34.84056854,   18.27364159,\n",
       "         81.05177307,  164.13505554,   70.73784637,   17.85037041,\n",
       "         20.91540146,   26.67974854,   57.05172729,   30.42542839,\n",
       "         27.82072258,   30.75894356,   72.9491272 ,  136.89820862,\n",
       "         40.55292892,   24.56754303,   26.6257267 ,    0.9804318 ,\n",
       "         26.98337555,  191.87011719,   28.69128609,   25.52238655,\n",
       "         70.33387756,   58.80334473,   84.24628448,   40.44987869,\n",
       "         51.019104  ,   35.10733795,   32.53798294,   30.47773552,\n",
       "          1.33718491,   46.89668274,   89.2512207 ,    5.43507767,\n",
       "         21.49417877,   14.74344063,   52.10103607,   27.95858192,\n",
       "         53.58895111,   41.9777832 ,   43.4719162 ,   17.61694336,\n",
       "         72.74783325,   88.54093933,    7.72174263,    9.44361496,\n",
       "          0.56348491,   29.16519547,   81.12189484,  234.98019409,\n",
       "         65.97085571,   96.96182251,   13.41113853,    4.80628014,\n",
       "         24.17918777,   54.21759033,   33.42009354,   31.1497612 ,\n",
       "         51.90505219,   38.53269196,  148.38887024,   93.11753082,\n",
       "         22.34553528,  119.05984497,    3.71535158,   70.68868256,\n",
       "         24.81290817,   48.8982811 ,   23.35445023,    2.68803716,\n",
       "         56.99476624,   60.19787216,    8.88504696,  175.14865112,\n",
       "        110.52419281,  149.89305115,   72.4070282 ,   29.01765633,\n",
       "         43.50328064,   41.11888504,  121.53215027,   63.55157852,\n",
       "         53.01284027,   70.52272034,  139.22000122,  185.03936768,\n",
       "         41.96666336,   36.7853241 ,   25.15117455,   15.46382046,\n",
       "         49.87953949,   13.40629959,    6.64393234,   35.1351738 ,\n",
       "         70.44480896,   45.45540619,  103.10733032,   98.95045471,\n",
       "         96.72518921,  127.50518799,   88.59411621,    8.92289257,\n",
       "         49.93606567,   40.67473221,   57.89980316,    4.83289433,\n",
       "         36.98086548,    3.38409853,   31.215868  ,   28.00533867,\n",
       "         70.13106537,   57.37120056,   62.27914429,    0.5910151 ,\n",
       "         29.20013237,   81.69597626,   29.03793907,    4.57504034,\n",
       "         26.02113914,    7.14420891,   12.04202271,   11.81069374], dtype=float32)"
      ]
     },
     "execution_count": 77,
     "metadata": {},
     "output_type": "execute_result"
    }
   ],
   "source": [
    "rainfall_x = Rainmonth.rainfall.data\n",
    "rainfall_data = np.squeeze(rainfall_x)\n",
    "rainfall_data\n",
    "#rainfall_data"
   ]
  },
  {
   "cell_type": "code",
   "execution_count": 78,
   "metadata": {},
   "outputs": [],
   "source": [
    "if __name__=='__main__':\n",
    "    # Read precip data from csv\n",
    "   # crnt_path = os.path.dirname(os.path.abspath('/home/599/rg6346/standard_precip/'))\n",
    "    #precip_file = os.path.join(crnt_path,'standard_precip','data','rainfall_test.csv')\n",
    "    #rainfall_data = np.genfromtxt(precip_file, delimiter=',')\n",
    "    \n",
    "    # Initialize SPI class\n",
    "    spi = SPI() \n",
    "    \n",
    "    # Set rolling window parameters\n",
    "    spi.set_rolling_window_params(\n",
    "        span=1, window_type=None, center=True\n",
    "    )\n",
    "    \n",
    "    # Set distribution parameters\n",
    "    spi.set_distribution_params(dist_type='gengamma')\n",
    "    \n",
    "    # Calculate SPI\n",
    "    data = spi.calculate(rainfall_data, starting_month=1)\n",
    "    \n"
   ]
  },
  {
   "cell_type": "code",
   "execution_count": 79,
   "metadata": {},
   "outputs": [
    {
     "data": {
      "image/png": "[encoded data removed]",
      "text/plain": [
       "<matplotlib.figure.Figure at 0x7f492cbb8b00>"
      ]
     },
     "metadata": {},
     "output_type": "display_data"
    },
    {
     "name": "stdout",
     "output_type": "stream",
     "text": [
      "[ 0.39760298 -2.11996201  1.44172309  0.64674169  1.80450219 -0.11344056\n",
      "  0.56684451  1.03255835 -1.01575521  1.86859648  1.17284851 -0.29127114\n",
      "  0.17180823 -0.06541768  0.46497402  0.39845531 -0.21966154 -0.14620587\n",
      "  1.7499644   0.26804681 -0.61310758  0.91542647  0.91999036 -0.23359568\n",
      " -3.47578228 -0.09428669 -0.47356238  0.40926522 -1.54957672 -0.95602775\n",
      " -3.99950115 -3.2982098   0.10777111 -0.59306119 -1.34933042  0.37028579\n",
      " -0.20218614 -0.24243906 -0.53776552  1.2080618  -1.24037304 -0.16317616\n",
      "  0.617253    1.51453973 -1.6161237   0.63691847 -0.50077349 -0.43846803\n",
      "  1.17835494  1.51834942  1.11543709  0.25008921 -0.22930399 -0.84027477\n",
      "  0.93782601  0.88772234 -0.20335076  0.39830321  0.29840481  1.17644783\n",
      "  0.30604945 -1.20558463 -0.06271499 -1.14688035  0.03891761  2.30307406\n",
      "  0.34728782  0.7848622   1.47799529  0.97911917  0.46172571  0.20109691\n",
      "  0.5566099  -0.72815353  0.13646171  0.51363044 -1.93712097  0.05951582\n",
      "  1.4266578  -0.12795521 -0.50621342 -0.13826464 -0.07276604 -0.07304201\n",
      "  0.61392189 -0.48711756  0.4561215   0.24380488  1.2724451   1.04700263\n",
      " -0.49380436  0.21737791 -1.67453745  0.35618298  0.41857183  1.73028462\n",
      "  0.87634398  0.69835696 -0.66207586 -0.34410233 -0.07898107  0.28434466\n",
      "  0.46535828  0.90163428  0.81048249  0.58485714  1.13544802  0.83851256\n",
      " -0.29974705  1.00985989 -4.32490401  0.96629386 -0.05150577  0.12438067\n",
      "  0.19725052 -0.99719972  1.00263924  1.0030163  -1.94745844  1.41559702\n",
      "  1.75086793  1.37177063  1.15204526  0.48873781  0.59440511 -0.14536372\n",
      "  1.83147915  1.34370552  0.85286268  1.17096451  1.0567806   1.47181861\n",
      "  0.34197314 -0.66541876 -0.1166676   0.18203621  0.76645132 -2.18910006\n",
      " -0.58109834  0.97340025  1.48179296  0.73130373  0.69608027  0.88929452\n",
      "  1.48377245  1.11611409  1.49291613 -0.07039734  0.76790078 -0.16236244\n",
      "  0.95240269 -0.21284937  0.20535393 -3.83993785 -0.61542813 -0.07175972\n",
      "  0.96100072 -0.05785398  0.92462324 -4.03326239  0.12597178  0.92089045\n",
      "  0.3563581  -0.25510306 -0.28763824 -0.64172687 -1.60753491 -3.27104701]\n"
     ]
    }
   ],
   "source": [
    "    # Create date list for plotting\n",
    "    n_dates = np.shape(data)[0]\n",
    "    date_list = create_datelist(dt.date(2000,1,31), n_dates)\n",
    "    \n",
    "    # Plot SPI\n",
    "    plot_index(date_list, data)\n",
    "    print (np.squeeze(data))"
   ]
  },
  {
   "cell_type": "code",
   "execution_count": 81,
   "metadata": {},
   "outputs": [
    {
     "name": "stderr",
     "output_type": "stream",
     "text": [
      "/g/data/v10/public/modules/agdc-py3-env/20171214/envs/agdc/lib/python3.6/site-packages/scipy/stats/_distn_infrastructure.py:1037: RuntimeWarning: invalid value encountered in subtract\n",
      "  mu2 = mu2p - mu * mu\n",
      "/g/data/v10/public/modules/agdc-py3-env/20171214/envs/agdc/lib/python3.6/site-packages/scipy/stats/_distn_infrastructure.py:2306: RuntimeWarning: invalid value encountered in double_scalars\n",
      "  Lhat = muhat - Shat*mu\n"
     ]
    },
    {
     "name": "stdout",
     "output_type": "stream",
     "text": [
      "distribution = gamma; SSE = 0.012164031567660187\n",
      "distribution = gengamma; SSE = 0.012170942141385711\n",
      "distribution = fisk; SSE = 0.013197750992788559\n",
      "distribution = dweibull; SSE = 0.01312167061304482\n",
      "distribution = logistic; SSE = 0.015595877289064596\n"
     ]
    },
    {
     "data": {
      "image/png": "[encoded data removed]",
      "text/plain": [
       "<matplotlib.figure.Figure at 0x7f492c932978>"
      ]
     },
     "metadata": {},
     "output_type": "display_data"
    }
   ],
   "source": [
    "# Test find best distribution fit\n",
    "import scipy.stats\n",
    "dist_list = ['gamma', 'gengamma', 'fisk', 'dweibull', 'logistic']\n",
    "\n",
    "test_data = scipy.stats.gamma.rvs(10., size=100)\n",
    "sse = spi.best_fit_distribution(test_data, dist_list, bins=20, \n",
    "                                save_file='test.jpg')\n",
    "\n",
    "for k in sse:\n",
    "    print (\"distribution = {0:}; SSE = {1:}\".format(k, sse[k]))"
   ]
  },
  {
   "cell_type": "code",
   "execution_count": null,
   "metadata": {},
   "outputs": [],
   "source": []
  }
 ],
 "metadata": {
  "kernelspec": {
   "display_name": "Python 3",
   "language": "python",
   "name": "python3"
  }
 },
 "nbformat": 4,
 "nbformat_minor": 2
}
