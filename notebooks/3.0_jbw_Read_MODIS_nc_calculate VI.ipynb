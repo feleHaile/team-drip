{
 "cells": [
  {
   "cell_type": "code",
   "execution_count": 1,
   "metadata": {
    "collapsed": true
   },
   "outputs": [],
   "source": [
    "import xarray as xr\n",
    "import pandas as pd\n",
    "%matplotlib inline"
   ]
  },
  {
   "cell_type": "code",
   "execution_count": 3,
   "metadata": {},
   "outputs": [
    {
     "data": {
      "text/plain": [
       "<xarray.Dataset>\n",
       "Dimensions:          (time: 92, x: 2400, y: 1680)\n",
       "Coordinates:\n",
       "  * time             (time) datetime64[ns] 2001-01-01 2001-01-05 2001-01-09 ...\n",
       "  * x                (x) float64 1.334e+07 1.334e+07 1.334e+07 1.334e+07 ...\n",
       "  * y                (y) float64 -3.336e+06 -3.336e+06 -3.337e+06 -3.337e+06 ...\n",
       "Data variables:\n",
       "    red_630_690      (time, y, x) float32 ...\n",
       "    nir1_780_900     (time, y, x) float32 ...\n",
       "    blue_450_520     (time, y, x) float32 ...\n",
       "    green_530_610    (time, y, x) float32 ...\n",
       "    nir2_1230_1250   (time, y, x) float32 ...\n",
       "    swir1_1550_1750  (time, y, x) float32 ...\n",
       "    swir2_2090_2350  (time, y, x) float32 ..."
      ]
     },
     "execution_count": 3,
     "metadata": {},
     "output_type": "execute_result"
    }
   ],
   "source": [
    "ds=xr.open_dataset('/g/data/oe9/project/team-drip/h30v12_reflectance_2001.nc')\n",
    "ds\n",
    "\n"
   ]
  },
  {
   "cell_type": "code",
   "execution_count": 20,
   "metadata": {},
   "outputs": [
    {
     "name": "stdout",
     "output_type": "stream",
     "text": [
      "/g/data/oe9/project/team-drip/h30v12_reflectance_2001.nc\n",
      "/g/data/oe9/project/team-drip/h30v12_reflectance_2002.nc\n",
      "/g/data/oe9/project/team-drip/h30v12_reflectance_2003.nc\n",
      "/g/data/oe9/project/team-drip/h30v12_reflectance_2004.nc\n",
      "/g/data/oe9/project/team-drip/h30v12_reflectance_2005.nc\n",
      "/g/data/oe9/project/team-drip/h30v12_reflectance_2006.nc\n",
      "/g/data/oe9/project/team-drip/h30v12_reflectance_2007.nc\n",
      "/g/data/oe9/project/team-drip/h30v12_reflectance_2008.nc\n",
      "/g/data/oe9/project/team-drip/h30v12_reflectance_2009.nc\n",
      "/g/data/oe9/project/team-drip/h30v12_reflectance_2010.nc\n",
      "/g/data/oe9/project/team-drip/h30v12_reflectance_2011.nc\n",
      "/g/data/oe9/project/team-drip/h30v12_reflectance_2012.nc\n",
      "/g/data/oe9/project/team-drip/h30v12_reflectance_2013.nc\n",
      "/g/data/oe9/project/team-drip/h30v12_reflectance_2014.nc\n",
      "/g/data/oe9/project/team-drip/h30v12_reflectance_2015.nc\n",
      "/g/data/oe9/project/team-drip/h30v12_reflectance_2016.nc\n",
      "/g/data/oe9/project/team-drip/h30v12_reflectance_2017.nc\n"
     ]
    }
   ],
   "source": [
    "year=range(2001,2018)\n",
    "\n",
    "for y in year:\n",
    "    fname=('/g/data/oe9/project/team-drip/h30v12_reflectance_{}.nc'.format(y))\n",
    "    print(fname)\n"
   ]
  },
  {
   "cell_type": "code",
   "execution_count": 5,
   "metadata": {
    "scrolled": true
   },
   "outputs": [
    {
     "data": {
      "text/plain": [
       "<xarray.DataArray 'time' (time: 92)>\n",
       "array(['2001-01-01T00:00:00.000000000', '2001-01-05T00:00:00.000000000',\n",
       "       '2001-01-09T00:00:00.000000000', '2001-01-13T00:00:00.000000000',\n",
       "       '2001-01-17T00:00:00.000000000', '2001-01-21T00:00:00.000000000',\n",
       "       '2001-01-25T00:00:00.000000000', '2001-01-29T00:00:00.000000000',\n",
       "       '2001-02-02T00:00:00.000000000', '2001-02-06T00:00:00.000000000',\n",
       "       '2001-02-10T00:00:00.000000000', '2001-02-14T00:00:00.000000000',\n",
       "       '2001-02-18T00:00:00.000000000', '2001-02-22T00:00:00.000000000',\n",
       "       '2001-02-26T00:00:00.000000000', '2001-03-02T00:00:00.000000000',\n",
       "       '2001-03-06T00:00:00.000000000', '2001-03-10T00:00:00.000000000',\n",
       "       '2001-03-14T00:00:00.000000000', '2001-03-18T00:00:00.000000000',\n",
       "       '2001-03-22T00:00:00.000000000', '2001-03-26T00:00:00.000000000',\n",
       "       '2001-03-30T00:00:00.000000000', '2001-04-03T00:00:00.000000000',\n",
       "       '2001-04-07T00:00:00.000000000', '2001-04-11T00:00:00.000000000',\n",
       "       '2001-04-15T00:00:00.000000000', '2001-04-19T00:00:00.000000000',\n",
       "       '2001-04-23T00:00:00.000000000', '2001-04-27T00:00:00.000000000',\n",
       "       '2001-05-01T00:00:00.000000000', '2001-05-05T00:00:00.000000000',\n",
       "       '2001-05-09T00:00:00.000000000', '2001-05-13T00:00:00.000000000',\n",
       "       '2001-05-17T00:00:00.000000000', '2001-05-21T00:00:00.000000000',\n",
       "       '2001-05-25T00:00:00.000000000', '2001-05-29T00:00:00.000000000',\n",
       "       '2001-06-02T00:00:00.000000000', '2001-06-06T00:00:00.000000000',\n",
       "       '2001-06-10T00:00:00.000000000', '2001-06-14T00:00:00.000000000',\n",
       "       '2001-06-18T00:00:00.000000000', '2001-06-22T00:00:00.000000000',\n",
       "       '2001-06-26T00:00:00.000000000', '2001-06-30T00:00:00.000000000',\n",
       "       '2001-07-04T00:00:00.000000000', '2001-07-08T00:00:00.000000000',\n",
       "       '2001-07-12T00:00:00.000000000', '2001-07-16T00:00:00.000000000',\n",
       "       '2001-07-20T00:00:00.000000000', '2001-07-24T00:00:00.000000000',\n",
       "       '2001-07-28T00:00:00.000000000', '2001-08-01T00:00:00.000000000',\n",
       "       '2001-08-05T00:00:00.000000000', '2001-08-09T00:00:00.000000000',\n",
       "       '2001-08-13T00:00:00.000000000', '2001-08-17T00:00:00.000000000',\n",
       "       '2001-08-21T00:00:00.000000000', '2001-08-25T00:00:00.000000000',\n",
       "       '2001-08-29T00:00:00.000000000', '2001-09-02T00:00:00.000000000',\n",
       "       '2001-09-06T00:00:00.000000000', '2001-09-10T00:00:00.000000000',\n",
       "       '2001-09-14T00:00:00.000000000', '2001-09-18T00:00:00.000000000',\n",
       "       '2001-09-22T00:00:00.000000000', '2001-09-26T00:00:00.000000000',\n",
       "       '2001-09-30T00:00:00.000000000', '2001-10-04T00:00:00.000000000',\n",
       "       '2001-10-08T00:00:00.000000000', '2001-10-12T00:00:00.000000000',\n",
       "       '2001-10-16T00:00:00.000000000', '2001-10-20T00:00:00.000000000',\n",
       "       '2001-10-24T00:00:00.000000000', '2001-10-28T00:00:00.000000000',\n",
       "       '2001-11-01T00:00:00.000000000', '2001-11-05T00:00:00.000000000',\n",
       "       '2001-11-09T00:00:00.000000000', '2001-11-13T00:00:00.000000000',\n",
       "       '2001-11-17T00:00:00.000000000', '2001-11-21T00:00:00.000000000',\n",
       "       '2001-11-25T00:00:00.000000000', '2001-11-29T00:00:00.000000000',\n",
       "       '2001-12-03T00:00:00.000000000', '2001-12-07T00:00:00.000000000',\n",
       "       '2001-12-11T00:00:00.000000000', '2001-12-15T00:00:00.000000000',\n",
       "       '2001-12-19T00:00:00.000000000', '2001-12-23T00:00:00.000000000',\n",
       "       '2001-12-27T00:00:00.000000000', '2001-12-31T00:00:00.000000000'], dtype='datetime64[ns]')\n",
       "Coordinates:\n",
       "  * time     (time) datetime64[ns] 2001-01-01 2001-01-05 2001-01-09 ..."
      ]
     },
     "execution_count": 5,
     "metadata": {},
     "output_type": "execute_result"
    }
   ],
   "source": [
    "ds.time"
   ]
  },
  {
   "cell_type": "code",
   "execution_count": null,
   "metadata": {
    "collapsed": true
   },
   "outputs": [],
   "source": []
  },
  {
   "cell_type": "code",
   "execution_count": null,
   "metadata": {
    "collapsed": true
   },
   "outputs": [],
   "source": [
    "ndvi = (ds.nir-ds.red)/(ds.nir+ds.red)\n",
    "ndvi"
   ]
  }
 ],
 "metadata": {
  "kernelspec": {
   "display_name": "Python 3",
   "language": "python",
   "name": "python3"
  },
  "language_info": {
   "codemirror_mode": {
    "name": "ipython",
    "version": 3
   },
   "file_extension": ".py",
   "mimetype": "text/x-python",
   "name": "python",
   "nbconvert_exporter": "python",
   "pygments_lexer": "ipython3",
   "version": "3.6.3"
  }
 },
 "nbformat": 4,
 "nbformat_minor": 2
}
