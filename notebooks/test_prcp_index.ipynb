{
 "cells": [
  {
   "cell_type": "code",
   "execution_count": 7,
   "metadata": {},
   "outputs": [
    {
     "data": {
      "image/png": "[encoded data removed]",
      "text/plain": [
       "<matplotlib.figure.Figure at 0x7f16740bb2e8>"
      ]
     },
     "metadata": {},
     "output_type": "display_data"
    },
    {
     "name": "stdout",
     "output_type": "stream",
     "text": [
      "[  1.18975382e-01  -4.66705743e-01  -5.41412572e-01   3.27437611e-01\n",
      "  -1.59606406e-01   3.92882721e-01   9.66289510e-01   6.05484707e-01\n",
      "  -8.38894693e-01  -6.58627256e+00  -4.03387272e-01   6.78051873e-01\n",
      "  -7.37866152e-02  -7.25184334e-01   1.52845175e+00   1.78434894e+00\n",
      "  -4.59776051e-01   3.98776770e-03   3.75129981e-01   4.84238855e-01\n",
      "  -1.13873677e+00   1.44577623e-02   4.94483163e-01   1.15053958e+00\n",
      "  -4.92599560e-02  -4.90804471e-01  -7.12557396e-01   5.45127819e-01\n",
      "   2.19997003e-02   4.08849018e-01   1.30702090e+00  -1.26321455e+00\n",
      "   1.69220891e+00  -2.85865224e-01  -3.98323366e-01   2.53958091e-01\n",
      "  -2.86439785e-01  -4.48970873e+00  -2.40212812e-01   6.45543819e-01\n",
      "   6.13910264e-01   3.64628916e-01   4.24025722e-01   3.98207678e-01\n",
      "  -1.92563122e-01   4.14790626e-01  -1.02838650e+00   9.41640817e-01\n",
      "   1.09816876e+00   4.00914494e-01   1.47978472e-01  -4.64783997e-01\n",
      "  -1.22459595e+00  -7.72337390e-01  -3.43311129e+00   3.02723136e-01\n",
      "  -1.44384982e-01   4.84616612e-01   1.19219992e+00   1.25369607e+00\n",
      "  -7.67920920e-01  -5.54728531e-01  -1.78679720e+00  -1.39492123e-01\n",
      "   9.19802820e-02   1.02160211e+00  -1.11723361e-01   4.18947127e-01\n",
      "  -4.94707250e-01   1.00752137e+00   9.18265246e-01   5.56200264e-01\n",
      "   2.48257217e-01   2.13960793e-01  -2.76972226e-01  -1.45836400e-01\n",
      "  -2.23174304e+00   1.89840335e-01   7.36093553e-01   7.62968195e-01\n",
      "   8.96312500e-01  -5.79830489e-02   3.45436636e-01   5.91192969e-01\n",
      "  -6.42418044e-01  -2.48935059e-01  -1.55999827e+00  -5.91698274e+00\n",
      "  -2.71590956e-01   1.37611889e+00  -1.63258182e+00   9.69885627e-01\n",
      "   2.93875171e-01   4.63531054e-01  -3.41877518e-02   5.64323593e-01\n",
      "   3.46599905e-01   9.64453258e-01  -1.03606117e+00  -8.50705943e-01\n",
      "   7.37194988e-02   1.50842501e+00   1.62858648e+00   2.65130341e-01\n",
      "   8.68187861e-01   4.63531054e-01   2.39722842e+00   4.13252269e-01\n",
      "  -1.00578736e+00   4.05268962e-01  -9.05675691e-01   1.37571486e+00\n",
      "   1.96669587e+00   9.96179687e-01  -7.37008855e-01  -2.61195821e-01\n",
      "  -2.91810821e-02   4.86691098e-01  -8.13471700e-01   1.07460572e+00\n",
      "  -1.97513751e+00   1.29571976e+00   1.01125109e+00  -3.54809635e-01\n",
      "   2.68549627e-01  -3.96825447e+00   6.18308334e-01   1.02716063e+00\n",
      "   1.63330039e+00   1.64827225e+00  -1.10430568e-01   1.86737078e+00\n",
      "   1.34037911e+00   5.81501743e-01   8.37110723e-01   5.09276123e-01\n",
      "   4.15702782e-01  -1.05409237e+00   4.36222209e-02   8.98565856e-01\n",
      "  -2.53808577e-01   9.41551834e-01  -4.22521500e+00   8.96895078e-01\n",
      "   1.51082938e+00   6.16486802e-01   3.86822508e-01   9.82223460e-01\n",
      "  -3.55078463e-01   1.51126517e+00   1.10810300e+00  -4.49804250e+00\n",
      "  -7.66174852e+00  -5.79830489e-02   7.40959490e-01   2.75604085e-01\n",
      "   1.11468973e+00   1.16775408e+00   1.14262435e+00   5.55567678e-01\n",
      "  -1.26392387e-01   5.09749561e-01   8.83062592e-01  -4.49804250e+00\n",
      "  -5.98469147e-01  -2.97713411e-02   6.00074901e-01  -4.48927911e+00\n",
      "  -6.48342159e-02  -1.00054482e+00   1.03996294e+00  -9.51505121e-01\n",
      "  -6.50969080e-01  -6.72889573e-01   1.35298758e-01   9.78926063e-01\n",
      "   1.33396594e-01  -6.95323390e-01   1.00746185e+00   8.55738695e-01\n",
      "   1.38201496e+00   1.30968593e+00   1.00075767e+00   9.57024577e-01\n",
      "   2.00951103e+00  -3.21108757e-02  -1.52685506e-01   4.84238855e-01\n",
      "   8.39525300e-01   4.69922924e-01   1.77665935e-01   3.19795599e-02\n",
      "  -1.60255125e+00]\n"
     ]
    }
   ],
   "source": [
    "from __future__ import absolute_import, division, print_function, unicode_literals\n",
    "import datetime as dt\n",
    "from dateutil.relativedelta import relativedelta\n",
    "import numpy as np\n",
    "import os\n",
    "import scipy.stats\n",
    "\n",
    "import sys\n",
    "sys.path.append('/home/599/rg6346/standard_precip/')\n",
    "import standard_precip\n",
    "from standard_precip.plot_index import plot_index\n",
    "from standard_precip.spi import SPI \n",
    "\n",
    "def create_datelist(start_date, n_months):\n",
    "    \n",
    "    dates = [start_date + relativedelta(months=i) \n",
    "              for i in range(0, n_months)]\n",
    "    \n",
    "    return np.array(dates)\n",
    "\n",
    "\n",
    "if __name__=='__main__':\n",
    "    # Read precip data from csv\n",
    "    crnt_path = os.path.dirname(os.path.abspath('/home/599/rg6346/standard_precip/'))\n",
    "    precip_file = os.path.join(crnt_path,'standard_precip','data','rainfall_test.csv')\n",
    "    rainfall_data = np.genfromtxt(precip_file, delimiter=',')\n",
    "    \n",
    "    # Initialize SPI class\n",
    "    spi = SPI() \n",
    "    \n",
    "    # Set rolling window parameters\n",
    "    spi.set_rolling_window_params(\n",
    "        span=1, window_type=None, center=True\n",
    "    )\n",
    "    \n",
    "    # Set distribution parameters\n",
    "    spi.set_distribution_params(dist_type='gengamma')\n",
    "    \n",
    "    # Calculate SPI\n",
    "    data = spi.calculate(rainfall_data, starting_month=1)\n",
    "    \n",
    "    # Create date list for plotting\n",
    "    n_dates = np.shape(data)[0]\n",
    "    date_list = create_datelist(dt.date(2000,1,1), n_dates)\n",
    "    \n",
    "    # Plot SPI\n",
    "    plot_index(date_list, data)\n",
    "    print (np.squeeze(data))\n",
    "\n",
    "    \n",
    "    "
   ]
  },
  {
   "cell_type": "code",
   "execution_count": 8,
   "metadata": {},
   "outputs": [
    {
     "ename": "IndentationError",
     "evalue": "unexpected indent (<ipython-input-8-cb4283e0b346>, line 2)",
     "output_type": "error",
     "traceback": [
      "\u001b[0;36m  File \u001b[0;32m\"<ipython-input-8-cb4283e0b346>\"\u001b[0;36m, line \u001b[0;32m2\u001b[0m\n\u001b[0;31m    dist_list = ['gamma', 'gengamma', 'fisk', 'dweibull', 'logistic']\u001b[0m\n\u001b[0m    ^\u001b[0m\n\u001b[0;31mIndentationError\u001b[0m\u001b[0;31m:\u001b[0m unexpected indent\n"
     ]
    }
   ],
   "source": [
    "# Test find best distribution fit\n",
    "    dist_list = ['gamma', 'gengamma', 'fisk', 'dweibull', 'logistic']\n",
    "    \n",
    "    test_data = scipy.stats.gamma.rvs(10., size=100)\n",
    "    sse = spi.best_fit_distribution(test_data, dist_list, bins=20, \n",
    "                                    save_file='test.jpg')\n",
    "    \n",
    "    for k in sse:\n",
    "        print (\"distribution = {0:}; SSE = {1:}\".format(k, sse[k]))"
   ]
  },
  {
   "cell_type": "code",
   "execution_count": null,
   "metadata": {},
   "outputs": [],
   "source": []
  }
 ],
 "metadata": {
  "kernelspec": {
   "display_name": "Python 3",
   "language": "python",
   "name": "python3"
  },
  "language_info": {
   "codemirror_mode": {
    "name": "ipython",
    "version": 3
   },
   "file_extension": ".py",
   "mimetype": "text/x-python",
   "name": "python",
   "nbconvert_exporter": "python",
   "pygments_lexer": "ipython3",
   "version": "3.6.3"
  }
 },
 "nbformat": 4,
 "nbformat_minor": 2
}
