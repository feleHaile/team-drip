{
 "cells": [
  {
   "cell_type": "code",
   "execution_count": 4,
   "metadata": {
    "collapsed": true
   },
   "outputs": [],
   "source": [
    "import os\n",
    "import re\n",
    "import glob\n",
    "import datetime\n",
    "import warnings\n",
    "\n",
    "import numpy as np\n",
    "import pandas as pd\n",
    "import xarray as xr"
   ]
  },
  {
   "cell_type": "code",
   "execution_count": 9,
   "metadata": {},
   "outputs": [
    {
     "name": "stdout",
     "output_type": "stream",
     "text": [
      "505518\n",
      "CPU times: user 6.76 s, sys: 6.36 s, total: 13.1 s\n",
      "Wall time: 7min 53s\n"
     ]
    }
   ],
   "source": [
    "%%time\n",
    "## This section caches all MODIS MCD43A4 file names in the format listed below, where '?' is a wildcard\n",
    "\n",
    "\n",
    "reflectance_file_cache =  sorted(glob.glob(\n",
    "    '/g/data/u39/public/data/modis/lpdaac-tiles-c6/MCD43A4.006/'\n",
    "    '????.??.??/MCD43A4.A???????.h??v??.006.*.hdf'\n",
    "))\n",
    "print(len(reflectance_file_cache))"
   ]
  },
  {
   "cell_type": "code",
   "execution_count": 13,
   "metadata": {
    "collapsed": true
   },
   "outputs": [],
   "source": [
    "## Save .txt file with all MODIS file names\n",
    "with open('/g/data/oe9/modis_tile_file_list.txt', 'w') as f:\n",
    "    f.writelines(l + '\\n' for l in reflectance_file_cache\n",
    "# this .txt file has been saved in git, Rong branch, only run this cell for the first time"
   ]
  },
  {
   "cell_type": "code",
   "execution_count": null,
   "metadata": {
    "collapsed": true
   },
   "outputs": [],
   "source": [
    "## Rename the bands to something useful\n",
    "modis_band_map = {\n",
    "    'Nadir_Reflectance_Band1': 'red_630_690',\n",
    "    'Nadir_Reflectance_Band2': 'nir1_780_900',\n",
    "    'Nadir_Reflectance_Band3': 'blue_450_520',\n",
    "    'Nadir_Reflectance_Band4': 'green_530_610',\n",
    "    'Nadir_Reflectance_Band5': 'nir2_1230_1250',\n",
    "    'Nadir_Reflectance_Band6': 'swir1_1550_1750',\n",
    "    'Nadir_Reflectance_Band7': 'swir2_2090_2350',\n",
    "}\n",
    "\n",
    "## define function 'get_reflectance' whose input is tile ID 'h__v__'\n",
    "## This function searches the cached list for filenames which contain tile 'h__v__\n",
    "## outputs data as a concatenated dataset with dimensions, time, x ,y \n",
    "def get_reflectance(tile):\n",
    "    assert re.match(r'h\\d\\dv\\d\\d', tile), 'tile must be string \"h__v__\"'\n",
    "    files = [f for f in reflectance_file_cache if tile in os.path.basename(f)]\n",
    "    pattern = re.compile(r'MCD43A4.A\\d{4}(?P<day>\\d{3}).h\\d\\dv\\d\\d.006.\\d+.hdf')\n",
    "    dates, parts = [], []\n",
    "    for f in files:\n",
    "        try:\n",
    "            parts.append(xr.open_dataset(f, chunks=2400,autoclose=True))\n",
    "            day, = pattern.match(os.path.basename(f)).groups()\n",
    "            dates.append(datetime.date(int(year), 1, 1) +\n",
    "                         datetime.timedelta(days=int(day) - 1))\n",
    "        except:\n",
    "            warnings.warn('Could not read from ' + f)\n",
    "\n",
    "    dates = pd.to_datetime(dates)\n",
    "    dates.name = 'time'\n",
    "\n",
    "    ds = xr.concat(parts, dates)\n",
    "    out = xr.Dataset()\n",
    "    for i in map(str, range(1, 8)):\n",
    "        key = 'Nadir_Reflectance_Band' + i\n",
    "        data_ok = ds['BRDF_Albedo_Band_Mandatory_Quality_Band' + i] == 0\n",
    "        out[modis_band_map[key]] = ds[key].where(data_ok).astype('f4')\n",
    "\n",
    "    out.rename({'YDim:MOD_Grid_BRDF': 'y',\n",
    "                'XDim:MOD_Grid_BRDF': 'x'}, inplace=True)\n",
    "    out.time.encoding.update(dict(\n",
    "        units='days since 1900-01-01', calendar='gregorian', dtype='i4'))\n",
    "    return out"
   ]
  },
  {
   "cell_type": "code",
   "execution_count": null,
   "metadata": {
    "scrolled": true
   },
   "outputs": [
    {
     "name": "stderr",
     "output_type": "stream",
     "text": [
      "/g/data/oe9/software/anaconda/lib/python3.6/site-packages/ipykernel_launcher.py:27: UserWarning: Could not read from /g/data/u39/public/data/modis/lpdaac-tiles-c6/MCD43A4.006/2000.02.26/MCD43A4.A2000057.h29v12.006.2016101183811.hdf\n",
      "/g/data/oe9/software/anaconda/lib/python3.6/site-packages/ipykernel_launcher.py:27: UserWarning: Could not read from /g/data/u39/public/data/modis/lpdaac-tiles-c6/MCD43A4.006/2000.03.01/MCD43A4.A2000061.h29v12.006.2016101213834.hdf\n",
      "/g/data/oe9/software/anaconda/lib/python3.6/site-packages/ipykernel_launcher.py:27: UserWarning: Could not read from /g/data/u39/public/data/modis/lpdaac-tiles-c6/MCD43A4.006/2000.03.05/MCD43A4.A2000065.h29v12.006.2016101230029.hdf\n",
      "/g/data/oe9/software/anaconda/lib/python3.6/site-packages/ipykernel_launcher.py:27: UserWarning: Could not read from /g/data/u39/public/data/modis/lpdaac-tiles-c6/MCD43A4.006/2000.03.09/MCD43A4.A2000069.h29v12.006.2016102020642.hdf\n",
      "/g/data/oe9/software/anaconda/lib/python3.6/site-packages/ipykernel_launcher.py:27: UserWarning: Could not read from /g/data/u39/public/data/modis/lpdaac-tiles-c6/MCD43A4.006/2000.03.13/MCD43A4.A2000073.h29v12.006.2016102044131.hdf\n",
      "/g/data/oe9/software/anaconda/lib/python3.6/site-packages/ipykernel_launcher.py:27: UserWarning: Could not read from /g/data/u39/public/data/modis/lpdaac-tiles-c6/MCD43A4.006/2000.03.17/MCD43A4.A2000077.h29v12.006.2016102055158.hdf\n",
      "/g/data/oe9/software/anaconda/lib/python3.6/site-packages/ipykernel_launcher.py:27: UserWarning: Could not read from /g/data/u39/public/data/modis/lpdaac-tiles-c6/MCD43A4.006/2000.03.21/MCD43A4.A2000081.h29v12.006.2016102070011.hdf\n",
      "/g/data/oe9/software/anaconda/lib/python3.6/site-packages/ipykernel_launcher.py:27: UserWarning: Could not read from /g/data/u39/public/data/modis/lpdaac-tiles-c6/MCD43A4.006/2000.03.25/MCD43A4.A2000085.h29v12.006.2016102080748.hdf\n",
      "/g/data/oe9/software/anaconda/lib/python3.6/site-packages/ipykernel_launcher.py:27: UserWarning: Could not read from /g/data/u39/public/data/modis/lpdaac-tiles-c6/MCD43A4.006/2000.03.29/MCD43A4.A2000089.h29v12.006.2016102091335.hdf\n",
      "/g/data/oe9/software/anaconda/lib/python3.6/site-packages/ipykernel_launcher.py:27: UserWarning: Could not read from /g/data/u39/public/data/modis/lpdaac-tiles-c6/MCD43A4.006/2000.04.02/MCD43A4.A2000093.h29v12.006.2016102101834.hdf\n",
      "/g/data/oe9/software/anaconda/lib/python3.6/site-packages/ipykernel_launcher.py:27: UserWarning: Could not read from /g/data/u39/public/data/modis/lpdaac-tiles-c6/MCD43A4.006/2000.04.06/MCD43A4.A2000097.h29v12.006.2016102112905.hdf\n",
      "/g/data/oe9/software/anaconda/lib/python3.6/site-packages/ipykernel_launcher.py:27: UserWarning: Could not read from /g/data/u39/public/data/modis/lpdaac-tiles-c6/MCD43A4.006/2000.04.10/MCD43A4.A2000101.h29v12.006.2016102130647.hdf\n",
      "/g/data/oe9/software/anaconda/lib/python3.6/site-packages/ipykernel_launcher.py:27: UserWarning: Could not read from /g/data/u39/public/data/modis/lpdaac-tiles-c6/MCD43A4.006/2000.04.14/MCD43A4.A2000105.h29v12.006.2016102151251.hdf\n",
      "/g/data/oe9/software/anaconda/lib/python3.6/site-packages/ipykernel_launcher.py:27: UserWarning: Could not read from /g/data/u39/public/data/modis/lpdaac-tiles-c6/MCD43A4.006/2000.04.18/MCD43A4.A2000109.h29v12.006.2016102175013.hdf\n",
      "/g/data/oe9/software/anaconda/lib/python3.6/site-packages/ipykernel_launcher.py:27: UserWarning: Could not read from /g/data/u39/public/data/modis/lpdaac-tiles-c6/MCD43A4.006/2000.04.22/MCD43A4.A2000113.h29v12.006.2016102203422.hdf\n",
      "/g/data/oe9/software/anaconda/lib/python3.6/site-packages/ipykernel_launcher.py:27: UserWarning: Could not read from /g/data/u39/public/data/modis/lpdaac-tiles-c6/MCD43A4.006/2000.04.26/MCD43A4.A2000117.h29v12.006.2016102230150.hdf\n",
      "/g/data/oe9/software/anaconda/lib/python3.6/site-packages/ipykernel_launcher.py:27: UserWarning: Could not read from /g/data/u39/public/data/modis/lpdaac-tiles-c6/MCD43A4.006/2000.04.30/MCD43A4.A2000121.h29v12.006.2016103005253.hdf\n",
      "/g/data/oe9/software/anaconda/lib/python3.6/site-packages/ipykernel_launcher.py:27: UserWarning: Could not read from /g/data/u39/public/data/modis/lpdaac-tiles-c6/MCD43A4.006/2000.05.04/MCD43A4.A2000125.h29v12.006.2016103024255.hdf\n",
      "/g/data/oe9/software/anaconda/lib/python3.6/site-packages/ipykernel_launcher.py:27: UserWarning: Could not read from /g/data/u39/public/data/modis/lpdaac-tiles-c6/MCD43A4.006/2000.05.08/MCD43A4.A2000129.h29v12.006.2016103043256.hdf\n",
      "/g/data/oe9/software/anaconda/lib/python3.6/site-packages/ipykernel_launcher.py:27: UserWarning: Could not read from /g/data/u39/public/data/modis/lpdaac-tiles-c6/MCD43A4.006/2000.05.12/MCD43A4.A2000133.h29v12.006.2016103062159.hdf\n",
      "/g/data/oe9/software/anaconda/lib/python3.6/site-packages/ipykernel_launcher.py:27: UserWarning: Could not read from /g/data/u39/public/data/modis/lpdaac-tiles-c6/MCD43A4.006/2000.05.16/MCD43A4.A2000137.h29v12.006.2016103122834.hdf\n",
      "/g/data/oe9/software/anaconda/lib/python3.6/site-packages/ipykernel_launcher.py:27: UserWarning: Could not read from /g/data/u39/public/data/modis/lpdaac-tiles-c6/MCD43A4.006/2000.05.20/MCD43A4.A2000141.h29v12.006.2016103135206.hdf\n",
      "/g/data/oe9/software/anaconda/lib/python3.6/site-packages/ipykernel_launcher.py:27: UserWarning: Could not read from /g/data/u39/public/data/modis/lpdaac-tiles-c6/MCD43A4.006/2000.05.24/MCD43A4.A2000145.h29v12.006.2016103145551.hdf\n",
      "/g/data/oe9/software/anaconda/lib/python3.6/site-packages/ipykernel_launcher.py:27: UserWarning: Could not read from /g/data/u39/public/data/modis/lpdaac-tiles-c6/MCD43A4.006/2000.05.28/MCD43A4.A2000149.h29v12.006.2016103155002.hdf\n",
      "/g/data/oe9/software/anaconda/lib/python3.6/site-packages/ipykernel_launcher.py:27: UserWarning: Could not read from /g/data/u39/public/data/modis/lpdaac-tiles-c6/MCD43A4.006/2000.06.01/MCD43A4.A2000153.h29v12.006.2016103165052.hdf\n",
      "/g/data/oe9/software/anaconda/lib/python3.6/site-packages/ipykernel_launcher.py:27: UserWarning: Could not read from /g/data/u39/public/data/modis/lpdaac-tiles-c6/MCD43A4.006/2000.06.05/MCD43A4.A2000157.h29v12.006.2016103181552.hdf\n",
      "/g/data/oe9/software/anaconda/lib/python3.6/site-packages/ipykernel_launcher.py:27: UserWarning: Could not read from /g/data/u39/public/data/modis/lpdaac-tiles-c6/MCD43A4.006/2000.06.09/MCD43A4.A2000161.h29v12.006.2016103192703.hdf\n",
      "/g/data/oe9/software/anaconda/lib/python3.6/site-packages/ipykernel_launcher.py:27: UserWarning: Could not read from /g/data/u39/public/data/modis/lpdaac-tiles-c6/MCD43A4.006/2000.06.13/MCD43A4.A2000165.h29v12.006.2016103210225.hdf\n",
      "/g/data/oe9/software/anaconda/lib/python3.6/site-packages/ipykernel_launcher.py:27: UserWarning: Could not read from /g/data/u39/public/data/modis/lpdaac-tiles-c6/MCD43A4.006/2000.06.17/MCD43A4.A2000169.h29v12.006.2016103221827.hdf\n",
      "/g/data/oe9/software/anaconda/lib/python3.6/site-packages/ipykernel_launcher.py:27: UserWarning: Could not read from /g/data/u39/public/data/modis/lpdaac-tiles-c6/MCD43A4.006/2000.06.21/MCD43A4.A2000173.h29v12.006.2016103233018.hdf\n",
      "/g/data/oe9/software/anaconda/lib/python3.6/site-packages/ipykernel_launcher.py:27: UserWarning: Could not read from /g/data/u39/public/data/modis/lpdaac-tiles-c6/MCD43A4.006/2000.06.25/MCD43A4.A2000177.h29v12.006.2016104004820.hdf\n",
      "/g/data/oe9/software/anaconda/lib/python3.6/site-packages/ipykernel_launcher.py:27: UserWarning: Could not read from /g/data/u39/public/data/modis/lpdaac-tiles-c6/MCD43A4.006/2000.06.29/MCD43A4.A2000181.h29v12.006.2016104015532.hdf\n",
      "/g/data/oe9/software/anaconda/lib/python3.6/site-packages/ipykernel_launcher.py:27: UserWarning: Could not read from /g/data/u39/public/data/modis/lpdaac-tiles-c6/MCD43A4.006/2000.07.03/MCD43A4.A2000185.h29v12.006.2016104030555.hdf\n",
      "/g/data/oe9/software/anaconda/lib/python3.6/site-packages/ipykernel_launcher.py:27: UserWarning: Could not read from /g/data/u39/public/data/modis/lpdaac-tiles-c6/MCD43A4.006/2000.07.07/MCD43A4.A2000189.h29v12.006.2016104042113.hdf\n",
      "/g/data/oe9/software/anaconda/lib/python3.6/site-packages/ipykernel_launcher.py:27: UserWarning: Could not read from /g/data/u39/public/data/modis/lpdaac-tiles-c6/MCD43A4.006/2000.07.11/MCD43A4.A2000193.h29v12.006.2016104053512.hdf\n",
      "/g/data/oe9/software/anaconda/lib/python3.6/site-packages/ipykernel_launcher.py:27: UserWarning: Could not read from /g/data/u39/public/data/modis/lpdaac-tiles-c6/MCD43A4.006/2000.07.15/MCD43A4.A2000197.h29v12.006.2016104070111.hdf\n"
     ]
    },
    {
     "name": "stderr",
     "output_type": "stream",
     "text": [
      "/g/data/oe9/software/anaconda/lib/python3.6/site-packages/ipykernel_launcher.py:27: UserWarning: Could not read from /g/data/u39/public/data/modis/lpdaac-tiles-c6/MCD43A4.006/2000.07.19/MCD43A4.A2000201.h29v12.006.2016104081238.hdf\n",
      "/g/data/oe9/software/anaconda/lib/python3.6/site-packages/ipykernel_launcher.py:27: UserWarning: Could not read from /g/data/u39/public/data/modis/lpdaac-tiles-c6/MCD43A4.006/2000.07.23/MCD43A4.A2000205.h29v12.006.2016104094406.hdf\n",
      "/g/data/oe9/software/anaconda/lib/python3.6/site-packages/ipykernel_launcher.py:27: UserWarning: Could not read from /g/data/u39/public/data/modis/lpdaac-tiles-c6/MCD43A4.006/2000.07.27/MCD43A4.A2000209.h29v12.006.2016104110613.hdf\n",
      "/g/data/oe9/software/anaconda/lib/python3.6/site-packages/ipykernel_launcher.py:27: UserWarning: Could not read from /g/data/u39/public/data/modis/lpdaac-tiles-c6/MCD43A4.006/2000.07.31/MCD43A4.A2000213.h29v12.006.2016104122228.hdf\n",
      "/g/data/oe9/software/anaconda/lib/python3.6/site-packages/ipykernel_launcher.py:27: UserWarning: Could not read from /g/data/u39/public/data/modis/lpdaac-tiles-c6/MCD43A4.006/2000.08.04/MCD43A4.A2000217.h29v12.006.2016104140918.hdf\n",
      "/g/data/oe9/software/anaconda/lib/python3.6/site-packages/ipykernel_launcher.py:27: UserWarning: Could not read from /g/data/u39/public/data/modis/lpdaac-tiles-c6/MCD43A4.006/2000.08.08/MCD43A4.A2000221.h29v12.006.2016104154630.hdf\n",
      "/g/data/oe9/software/anaconda/lib/python3.6/site-packages/ipykernel_launcher.py:27: UserWarning: Could not read from /g/data/u39/public/data/modis/lpdaac-tiles-c6/MCD43A4.006/2000.08.12/MCD43A4.A2000225.h29v12.006.2016104172450.hdf\n",
      "/g/data/oe9/software/anaconda/lib/python3.6/site-packages/ipykernel_launcher.py:27: UserWarning: Could not read from /g/data/u39/public/data/modis/lpdaac-tiles-c6/MCD43A4.006/2000.08.16/MCD43A4.A2000229.h29v12.006.2016104181916.hdf\n",
      "/g/data/oe9/software/anaconda/lib/python3.6/site-packages/ipykernel_launcher.py:27: UserWarning: Could not read from /g/data/u39/public/data/modis/lpdaac-tiles-c6/MCD43A4.006/2000.08.20/MCD43A4.A2000233.h29v12.006.2016104191705.hdf\n",
      "/g/data/oe9/software/anaconda/lib/python3.6/site-packages/ipykernel_launcher.py:27: UserWarning: Could not read from /g/data/u39/public/data/modis/lpdaac-tiles-c6/MCD43A4.006/2000.08.24/MCD43A4.A2000237.h29v12.006.2016104201905.hdf\n",
      "/g/data/oe9/software/anaconda/lib/python3.6/site-packages/ipykernel_launcher.py:27: UserWarning: Could not read from /g/data/u39/public/data/modis/lpdaac-tiles-c6/MCD43A4.006/2000.08.28/MCD43A4.A2000241.h29v12.006.2016104213047.hdf\n",
      "/g/data/oe9/software/anaconda/lib/python3.6/site-packages/ipykernel_launcher.py:27: UserWarning: Could not read from /g/data/u39/public/data/modis/lpdaac-tiles-c6/MCD43A4.006/2000.09.01/MCD43A4.A2000245.h29v12.006.2016104224723.hdf\n",
      "/g/data/oe9/software/anaconda/lib/python3.6/site-packages/ipykernel_launcher.py:27: UserWarning: Could not read from /g/data/u39/public/data/modis/lpdaac-tiles-c6/MCD43A4.006/2000.09.05/MCD43A4.A2000249.h29v12.006.2016105000139.hdf\n",
      "/g/data/oe9/software/anaconda/lib/python3.6/site-packages/ipykernel_launcher.py:27: UserWarning: Could not read from /g/data/u39/public/data/modis/lpdaac-tiles-c6/MCD43A4.006/2000.09.09/MCD43A4.A2000253.h29v12.006.2016106123027.hdf\n",
      "/g/data/oe9/software/anaconda/lib/python3.6/site-packages/ipykernel_launcher.py:27: UserWarning: Could not read from /g/data/u39/public/data/modis/lpdaac-tiles-c6/MCD43A4.006/2000.09.13/MCD43A4.A2000257.h29v12.006.2016106143754.hdf\n",
      "/g/data/oe9/software/anaconda/lib/python3.6/site-packages/ipykernel_launcher.py:27: UserWarning: Could not read from /g/data/u39/public/data/modis/lpdaac-tiles-c6/MCD43A4.006/2000.09.17/MCD43A4.A2000261.h29v12.006.2016106165207.hdf\n",
      "/g/data/oe9/software/anaconda/lib/python3.6/site-packages/ipykernel_launcher.py:27: UserWarning: Could not read from /g/data/u39/public/data/modis/lpdaac-tiles-c6/MCD43A4.006/2000.09.21/MCD43A4.A2000265.h29v12.006.2016106190021.hdf\n",
      "/g/data/oe9/software/anaconda/lib/python3.6/site-packages/ipykernel_launcher.py:27: UserWarning: Could not read from /g/data/u39/public/data/modis/lpdaac-tiles-c6/MCD43A4.006/2000.09.25/MCD43A4.A2000269.h29v12.006.2016106204719.hdf\n",
      "/g/data/oe9/software/anaconda/lib/python3.6/site-packages/ipykernel_launcher.py:27: UserWarning: Could not read from /g/data/u39/public/data/modis/lpdaac-tiles-c6/MCD43A4.006/2000.09.29/MCD43A4.A2000273.h29v12.006.2016109113241.hdf\n",
      "/g/data/oe9/software/anaconda/lib/python3.6/site-packages/ipykernel_launcher.py:27: UserWarning: Could not read from /g/data/u39/public/data/modis/lpdaac-tiles-c6/MCD43A4.006/2000.10.03/MCD43A4.A2000277.h29v12.006.2016109122400.hdf\n",
      "/g/data/oe9/software/anaconda/lib/python3.6/site-packages/ipykernel_launcher.py:27: UserWarning: Could not read from /g/data/u39/public/data/modis/lpdaac-tiles-c6/MCD43A4.006/2000.10.07/MCD43A4.A2000281.h29v12.006.2016109141450.hdf\n",
      "/g/data/oe9/software/anaconda/lib/python3.6/site-packages/ipykernel_launcher.py:27: UserWarning: Could not read from /g/data/u39/public/data/modis/lpdaac-tiles-c6/MCD43A4.006/2000.10.11/MCD43A4.A2000285.h29v12.006.2016109161739.hdf\n",
      "/g/data/oe9/software/anaconda/lib/python3.6/site-packages/ipykernel_launcher.py:27: UserWarning: Could not read from /g/data/u39/public/data/modis/lpdaac-tiles-c6/MCD43A4.006/2000.10.15/MCD43A4.A2000289.h29v12.006.2016109181138.hdf\n",
      "/g/data/oe9/software/anaconda/lib/python3.6/site-packages/ipykernel_launcher.py:27: UserWarning: Could not read from /g/data/u39/public/data/modis/lpdaac-tiles-c6/MCD43A4.006/2000.10.19/MCD43A4.A2000293.h29v12.006.2016109204752.hdf\n",
      "/g/data/oe9/software/anaconda/lib/python3.6/site-packages/ipykernel_launcher.py:27: UserWarning: Could not read from /g/data/u39/public/data/modis/lpdaac-tiles-c6/MCD43A4.006/2000.10.23/MCD43A4.A2000297.h29v12.006.2016109230225.hdf\n",
      "/g/data/oe9/software/anaconda/lib/python3.6/site-packages/ipykernel_launcher.py:27: UserWarning: Could not read from /g/data/u39/public/data/modis/lpdaac-tiles-c6/MCD43A4.006/2000.10.27/MCD43A4.A2000301.h29v12.006.2016110011227.hdf\n",
      "/g/data/oe9/software/anaconda/lib/python3.6/site-packages/ipykernel_launcher.py:27: UserWarning: Could not read from /g/data/u39/public/data/modis/lpdaac-tiles-c6/MCD43A4.006/2000.10.31/MCD43A4.A2000305.h29v12.006.2016110032813.hdf\n",
      "/g/data/oe9/software/anaconda/lib/python3.6/site-packages/ipykernel_launcher.py:27: UserWarning: Could not read from /g/data/u39/public/data/modis/lpdaac-tiles-c6/MCD43A4.006/2000.11.04/MCD43A4.A2000309.h29v12.006.2016110055243.hdf\n",
      "/g/data/oe9/software/anaconda/lib/python3.6/site-packages/ipykernel_launcher.py:27: UserWarning: Could not read from /g/data/u39/public/data/modis/lpdaac-tiles-c6/MCD43A4.006/2000.11.08/MCD43A4.A2000313.h29v12.006.2016110081858.hdf\n",
      "/g/data/oe9/software/anaconda/lib/python3.6/site-packages/ipykernel_launcher.py:27: UserWarning: Could not read from /g/data/u39/public/data/modis/lpdaac-tiles-c6/MCD43A4.006/2000.11.12/MCD43A4.A2000317.h29v12.006.2016110103054.hdf\n",
      "/g/data/oe9/software/anaconda/lib/python3.6/site-packages/ipykernel_launcher.py:27: UserWarning: Could not read from /g/data/u39/public/data/modis/lpdaac-tiles-c6/MCD43A4.006/2000.11.16/MCD43A4.A2000321.h29v12.006.2016110121752.hdf\n",
      "/g/data/oe9/software/anaconda/lib/python3.6/site-packages/ipykernel_launcher.py:27: UserWarning: Could not read from /g/data/u39/public/data/modis/lpdaac-tiles-c6/MCD43A4.006/2000.11.20/MCD43A4.A2000325.h29v12.006.2016110135807.hdf\n",
      "/g/data/oe9/software/anaconda/lib/python3.6/site-packages/ipykernel_launcher.py:27: UserWarning: Could not read from /g/data/u39/public/data/modis/lpdaac-tiles-c6/MCD43A4.006/2000.11.24/MCD43A4.A2000329.h29v12.006.2016110153600.hdf\n",
      "/g/data/oe9/software/anaconda/lib/python3.6/site-packages/ipykernel_launcher.py:27: UserWarning: Could not read from /g/data/u39/public/data/modis/lpdaac-tiles-c6/MCD43A4.006/2000.11.28/MCD43A4.A2000333.h29v12.006.2016110171609.hdf\n",
      "/g/data/oe9/software/anaconda/lib/python3.6/site-packages/ipykernel_launcher.py:27: UserWarning: Could not read from /g/data/u39/public/data/modis/lpdaac-tiles-c6/MCD43A4.006/2000.12.02/MCD43A4.A2000337.h29v12.006.2016110185133.hdf\n",
      "/g/data/oe9/software/anaconda/lib/python3.6/site-packages/ipykernel_launcher.py:27: UserWarning: Could not read from /g/data/u39/public/data/modis/lpdaac-tiles-c6/MCD43A4.006/2000.12.06/MCD43A4.A2000341.h29v12.006.2016110202501.hdf\n"
     ]
    },
    {
     "name": "stderr",
     "output_type": "stream",
     "text": [
      "/g/data/oe9/software/anaconda/lib/python3.6/site-packages/ipykernel_launcher.py:27: UserWarning: Could not read from /g/data/u39/public/data/modis/lpdaac-tiles-c6/MCD43A4.006/2000.12.10/MCD43A4.A2000345.h29v12.006.2016110214805.hdf\n",
      "/g/data/oe9/software/anaconda/lib/python3.6/site-packages/ipykernel_launcher.py:27: UserWarning: Could not read from /g/data/u39/public/data/modis/lpdaac-tiles-c6/MCD43A4.006/2000.12.14/MCD43A4.A2000349.h29v12.006.2016110230841.hdf\n",
      "/g/data/oe9/software/anaconda/lib/python3.6/site-packages/ipykernel_launcher.py:27: UserWarning: Could not read from /g/data/u39/public/data/modis/lpdaac-tiles-c6/MCD43A4.006/2000.12.18/MCD43A4.A2000353.h29v12.006.2016111003050.hdf\n",
      "/g/data/oe9/software/anaconda/lib/python3.6/site-packages/ipykernel_launcher.py:27: UserWarning: Could not read from /g/data/u39/public/data/modis/lpdaac-tiles-c6/MCD43A4.006/2000.12.22/MCD43A4.A2000357.h29v12.006.2016111014326.hdf\n",
      "/g/data/oe9/software/anaconda/lib/python3.6/site-packages/ipykernel_launcher.py:27: UserWarning: Could not read from /g/data/u39/public/data/modis/lpdaac-tiles-c6/MCD43A4.006/2000.12.26/MCD43A4.A2000361.h29v12.006.2016111024554.hdf\n",
      "/g/data/oe9/software/anaconda/lib/python3.6/site-packages/ipykernel_launcher.py:27: UserWarning: Could not read from /g/data/u39/public/data/modis/lpdaac-tiles-c6/MCD43A4.006/2000.12.30/MCD43A4.A2000365.h29v12.006.2016111034944.hdf\n",
      "/g/data/oe9/software/anaconda/lib/python3.6/site-packages/ipykernel_launcher.py:27: UserWarning: Could not read from /g/data/u39/public/data/modis/lpdaac-tiles-c6/MCD43A4.006/2001.01.01/MCD43A4.A2001001.h29v12.006.2016111200942.hdf\n",
      "/g/data/oe9/software/anaconda/lib/python3.6/site-packages/ipykernel_launcher.py:27: UserWarning: Could not read from /g/data/u39/public/data/modis/lpdaac-tiles-c6/MCD43A4.006/2001.01.05/MCD43A4.A2001005.h29v12.006.2016111220432.hdf\n",
      "/g/data/oe9/software/anaconda/lib/python3.6/site-packages/ipykernel_launcher.py:27: UserWarning: Could not read from /g/data/u39/public/data/modis/lpdaac-tiles-c6/MCD43A4.006/2001.01.09/MCD43A4.A2001009.h29v12.006.2016112000854.hdf\n",
      "/g/data/oe9/software/anaconda/lib/python3.6/site-packages/ipykernel_launcher.py:27: UserWarning: Could not read from /g/data/u39/public/data/modis/lpdaac-tiles-c6/MCD43A4.006/2001.01.13/MCD43A4.A2001013.h29v12.006.2016112022504.hdf\n",
      "/g/data/oe9/software/anaconda/lib/python3.6/site-packages/ipykernel_launcher.py:27: UserWarning: Could not read from /g/data/u39/public/data/modis/lpdaac-tiles-c6/MCD43A4.006/2001.01.17/MCD43A4.A2001017.h29v12.006.2016112063351.hdf\n",
      "/g/data/oe9/software/anaconda/lib/python3.6/site-packages/ipykernel_launcher.py:27: UserWarning: Could not read from /g/data/u39/public/data/modis/lpdaac-tiles-c6/MCD43A4.006/2001.01.21/MCD43A4.A2001021.h29v12.006.2016112094850.hdf\n",
      "/g/data/oe9/software/anaconda/lib/python3.6/site-packages/ipykernel_launcher.py:27: UserWarning: Could not read from /g/data/u39/public/data/modis/lpdaac-tiles-c6/MCD43A4.006/2001.01.25/MCD43A4.A2001025.h29v12.006.2016112122233.hdf\n",
      "/g/data/oe9/software/anaconda/lib/python3.6/site-packages/ipykernel_launcher.py:27: UserWarning: Could not read from /g/data/u39/public/data/modis/lpdaac-tiles-c6/MCD43A4.006/2001.01.29/MCD43A4.A2001029.h29v12.006.2016112141841.hdf\n",
      "/g/data/oe9/software/anaconda/lib/python3.6/site-packages/ipykernel_launcher.py:27: UserWarning: Could not read from /g/data/u39/public/data/modis/lpdaac-tiles-c6/MCD43A4.006/2001.02.02/MCD43A4.A2001033.h29v12.006.2016112153720.hdf\n",
      "/g/data/oe9/software/anaconda/lib/python3.6/site-packages/ipykernel_launcher.py:27: UserWarning: Could not read from /g/data/u39/public/data/modis/lpdaac-tiles-c6/MCD43A4.006/2001.02.06/MCD43A4.A2001037.h29v12.006.2016112164759.hdf\n",
      "/g/data/oe9/software/anaconda/lib/python3.6/site-packages/ipykernel_launcher.py:27: UserWarning: Could not read from /g/data/u39/public/data/modis/lpdaac-tiles-c6/MCD43A4.006/2001.02.10/MCD43A4.A2001041.h29v12.006.2016112191345.hdf\n",
      "/g/data/oe9/software/anaconda/lib/python3.6/site-packages/ipykernel_launcher.py:27: UserWarning: Could not read from /g/data/u39/public/data/modis/lpdaac-tiles-c6/MCD43A4.006/2001.02.14/MCD43A4.A2001045.h29v12.006.2016112210121.hdf\n",
      "/g/data/oe9/software/anaconda/lib/python3.6/site-packages/ipykernel_launcher.py:27: UserWarning: Could not read from /g/data/u39/public/data/modis/lpdaac-tiles-c6/MCD43A4.006/2001.02.18/MCD43A4.A2001049.h29v12.006.2016112225812.hdf\n",
      "/g/data/oe9/software/anaconda/lib/python3.6/site-packages/ipykernel_launcher.py:27: UserWarning: Could not read from /g/data/u39/public/data/modis/lpdaac-tiles-c6/MCD43A4.006/2001.02.22/MCD43A4.A2001053.h29v12.006.2016113003532.hdf\n",
      "/g/data/oe9/software/anaconda/lib/python3.6/site-packages/ipykernel_launcher.py:27: UserWarning: Could not read from /g/data/u39/public/data/modis/lpdaac-tiles-c6/MCD43A4.006/2001.02.26/MCD43A4.A2001057.h29v12.006.2016113020152.hdf\n",
      "/g/data/oe9/software/anaconda/lib/python3.6/site-packages/ipykernel_launcher.py:27: UserWarning: Could not read from /g/data/u39/public/data/modis/lpdaac-tiles-c6/MCD43A4.006/2001.03.02/MCD43A4.A2001061.h29v12.006.2016113031049.hdf\n",
      "/g/data/oe9/software/anaconda/lib/python3.6/site-packages/ipykernel_launcher.py:27: UserWarning: Could not read from /g/data/u39/public/data/modis/lpdaac-tiles-c6/MCD43A4.006/2001.03.06/MCD43A4.A2001065.h29v12.006.2016113040724.hdf\n",
      "/g/data/oe9/software/anaconda/lib/python3.6/site-packages/ipykernel_launcher.py:27: UserWarning: Could not read from /g/data/u39/public/data/modis/lpdaac-tiles-c6/MCD43A4.006/2001.03.10/MCD43A4.A2001069.h29v12.006.2016113050447.hdf\n",
      "/g/data/oe9/software/anaconda/lib/python3.6/site-packages/ipykernel_launcher.py:27: UserWarning: Could not read from /g/data/u39/public/data/modis/lpdaac-tiles-c6/MCD43A4.006/2001.03.14/MCD43A4.A2001073.h29v12.006.2016113054933.hdf\n",
      "/g/data/oe9/software/anaconda/lib/python3.6/site-packages/ipykernel_launcher.py:27: UserWarning: Could not read from /g/data/u39/public/data/modis/lpdaac-tiles-c6/MCD43A4.006/2001.03.18/MCD43A4.A2001077.h29v12.006.2016113064103.hdf\n",
      "/g/data/oe9/software/anaconda/lib/python3.6/site-packages/ipykernel_launcher.py:27: UserWarning: Could not read from /g/data/u39/public/data/modis/lpdaac-tiles-c6/MCD43A4.006/2001.03.22/MCD43A4.A2001081.h29v12.006.2016113073255.hdf\n",
      "/g/data/oe9/software/anaconda/lib/python3.6/site-packages/ipykernel_launcher.py:27: UserWarning: Could not read from /g/data/u39/public/data/modis/lpdaac-tiles-c6/MCD43A4.006/2001.03.26/MCD43A4.A2001085.h29v12.006.2016113110951.hdf\n",
      "/g/data/oe9/software/anaconda/lib/python3.6/site-packages/ipykernel_launcher.py:27: UserWarning: Could not read from /g/data/u39/public/data/modis/lpdaac-tiles-c6/MCD43A4.006/2001.03.30/MCD43A4.A2001089.h29v12.006.2016113132228.hdf\n",
      "/g/data/oe9/software/anaconda/lib/python3.6/site-packages/ipykernel_launcher.py:27: UserWarning: Could not read from /g/data/u39/public/data/modis/lpdaac-tiles-c6/MCD43A4.006/2001.04.03/MCD43A4.A2001093.h29v12.006.2016113153900.hdf\n",
      "/g/data/oe9/software/anaconda/lib/python3.6/site-packages/ipykernel_launcher.py:27: UserWarning: Could not read from /g/data/u39/public/data/modis/lpdaac-tiles-c6/MCD43A4.006/2001.04.07/MCD43A4.A2001097.h29v12.006.2016113172117.hdf\n",
      "/g/data/oe9/software/anaconda/lib/python3.6/site-packages/ipykernel_launcher.py:27: UserWarning: Could not read from /g/data/u39/public/data/modis/lpdaac-tiles-c6/MCD43A4.006/2001.04.11/MCD43A4.A2001101.h29v12.006.2016113190005.hdf\n",
      "/g/data/oe9/software/anaconda/lib/python3.6/site-packages/ipykernel_launcher.py:27: UserWarning: Could not read from /g/data/u39/public/data/modis/lpdaac-tiles-c6/MCD43A4.006/2001.04.15/MCD43A4.A2001105.h29v12.006.2016113203531.hdf\n",
      "/g/data/oe9/software/anaconda/lib/python3.6/site-packages/ipykernel_launcher.py:27: UserWarning: Could not read from /g/data/u39/public/data/modis/lpdaac-tiles-c6/MCD43A4.006/2001.04.19/MCD43A4.A2001109.h29v12.006.2016113220607.hdf\n",
      "/g/data/oe9/software/anaconda/lib/python3.6/site-packages/ipykernel_launcher.py:27: UserWarning: Could not read from /g/data/u39/public/data/modis/lpdaac-tiles-c6/MCD43A4.006/2001.04.23/MCD43A4.A2001113.h29v12.006.2016113232857.hdf\n",
      "/g/data/oe9/software/anaconda/lib/python3.6/site-packages/ipykernel_launcher.py:27: UserWarning: Could not read from /g/data/u39/public/data/modis/lpdaac-tiles-c6/MCD43A4.006/2001.04.27/MCD43A4.A2001117.h29v12.006.2016114004756.hdf\n",
      "/g/data/oe9/software/anaconda/lib/python3.6/site-packages/ipykernel_launcher.py:27: UserWarning: Could not read from /g/data/u39/public/data/modis/lpdaac-tiles-c6/MCD43A4.006/2001.05.01/MCD43A4.A2001121.h29v12.006.2016114015741.hdf\n"
     ]
    },
    {
     "name": "stderr",
     "output_type": "stream",
     "text": [
      "/g/data/oe9/software/anaconda/lib/python3.6/site-packages/ipykernel_launcher.py:27: UserWarning: Could not read from /g/data/u39/public/data/modis/lpdaac-tiles-c6/MCD43A4.006/2001.05.05/MCD43A4.A2001125.h29v12.006.2016114030142.hdf\n",
      "/g/data/oe9/software/anaconda/lib/python3.6/site-packages/ipykernel_launcher.py:27: UserWarning: Could not read from /g/data/u39/public/data/modis/lpdaac-tiles-c6/MCD43A4.006/2001.05.09/MCD43A4.A2001129.h29v12.006.2016114040526.hdf\n",
      "/g/data/oe9/software/anaconda/lib/python3.6/site-packages/ipykernel_launcher.py:27: UserWarning: Could not read from /g/data/u39/public/data/modis/lpdaac-tiles-c6/MCD43A4.006/2001.05.13/MCD43A4.A2001133.h29v12.006.2016114045201.hdf\n",
      "/g/data/oe9/software/anaconda/lib/python3.6/site-packages/ipykernel_launcher.py:27: UserWarning: Could not read from /g/data/u39/public/data/modis/lpdaac-tiles-c6/MCD43A4.006/2001.05.17/MCD43A4.A2001137.h29v12.006.2016114054405.hdf\n",
      "/g/data/oe9/software/anaconda/lib/python3.6/site-packages/ipykernel_launcher.py:27: UserWarning: Could not read from /g/data/u39/public/data/modis/lpdaac-tiles-c6/MCD43A4.006/2001.05.21/MCD43A4.A2001141.h29v12.006.2016114063720.hdf\n",
      "/g/data/oe9/software/anaconda/lib/python3.6/site-packages/ipykernel_launcher.py:27: UserWarning: Could not read from /g/data/u39/public/data/modis/lpdaac-tiles-c6/MCD43A4.006/2001.05.25/MCD43A4.A2001145.h29v12.006.2016114072828.hdf\n",
      "/g/data/oe9/software/anaconda/lib/python3.6/site-packages/ipykernel_launcher.py:27: UserWarning: Could not read from /g/data/u39/public/data/modis/lpdaac-tiles-c6/MCD43A4.006/2001.05.29/MCD43A4.A2001149.h29v12.006.2016114082046.hdf\n",
      "/g/data/oe9/software/anaconda/lib/python3.6/site-packages/ipykernel_launcher.py:27: UserWarning: Could not read from /g/data/u39/public/data/modis/lpdaac-tiles-c6/MCD43A4.006/2001.06.02/MCD43A4.A2001153.h29v12.006.2016116131159.hdf\n",
      "/g/data/oe9/software/anaconda/lib/python3.6/site-packages/ipykernel_launcher.py:27: UserWarning: Could not read from /g/data/u39/public/data/modis/lpdaac-tiles-c6/MCD43A4.006/2001.06.06/MCD43A4.A2001157.h29v12.006.2016116145154.hdf\n",
      "/g/data/oe9/software/anaconda/lib/python3.6/site-packages/ipykernel_launcher.py:27: UserWarning: Could not read from /g/data/u39/public/data/modis/lpdaac-tiles-c6/MCD43A4.006/2001.06.10/MCD43A4.A2001161.h29v12.006.2016116163033.hdf\n",
      "/g/data/oe9/software/anaconda/lib/python3.6/site-packages/ipykernel_launcher.py:27: UserWarning: Could not read from /g/data/u39/public/data/modis/lpdaac-tiles-c6/MCD43A4.006/2001.06.14/MCD43A4.A2001165.h29v12.006.2016116180919.hdf\n",
      "/g/data/oe9/software/anaconda/lib/python3.6/site-packages/ipykernel_launcher.py:27: UserWarning: Could not read from /g/data/u39/public/data/modis/lpdaac-tiles-c6/MCD43A4.006/2001.06.18/MCD43A4.A2001169.h29v12.006.2016116190751.hdf\n",
      "/g/data/oe9/software/anaconda/lib/python3.6/site-packages/ipykernel_launcher.py:27: UserWarning: Could not read from /g/data/u39/public/data/modis/lpdaac-tiles-c6/MCD43A4.006/2001.06.22/MCD43A4.A2001173.h29v12.006.2016116201724.hdf\n",
      "/g/data/oe9/software/anaconda/lib/python3.6/site-packages/ipykernel_launcher.py:27: UserWarning: Could not read from /g/data/u39/public/data/modis/lpdaac-tiles-c6/MCD43A4.006/2001.06.26/MCD43A4.A2001177.h29v12.006.2016116203827.hdf\n",
      "/g/data/oe9/software/anaconda/lib/python3.6/site-packages/ipykernel_launcher.py:27: UserWarning: Could not read from /g/data/u39/public/data/modis/lpdaac-tiles-c6/MCD43A4.006/2001.06.30/MCD43A4.A2001181.h29v12.006.2016116213413.hdf\n",
      "/g/data/oe9/software/anaconda/lib/python3.6/site-packages/ipykernel_launcher.py:27: UserWarning: Could not read from /g/data/u39/public/data/modis/lpdaac-tiles-c6/MCD43A4.006/2001.07.04/MCD43A4.A2001185.h29v12.006.2016116223714.hdf\n",
      "/g/data/oe9/software/anaconda/lib/python3.6/site-packages/ipykernel_launcher.py:27: UserWarning: Could not read from /g/data/u39/public/data/modis/lpdaac-tiles-c6/MCD43A4.006/2001.07.08/MCD43A4.A2001189.h29v12.006.2016116234833.hdf\n",
      "/g/data/oe9/software/anaconda/lib/python3.6/site-packages/ipykernel_launcher.py:27: UserWarning: Could not read from /g/data/u39/public/data/modis/lpdaac-tiles-c6/MCD43A4.006/2001.07.12/MCD43A4.A2001193.h29v12.006.2016117012408.hdf\n",
      "/g/data/oe9/software/anaconda/lib/python3.6/site-packages/ipykernel_launcher.py:27: UserWarning: Could not read from /g/data/u39/public/data/modis/lpdaac-tiles-c6/MCD43A4.006/2001.07.16/MCD43A4.A2001197.h29v12.006.2016117024952.hdf\n",
      "/g/data/oe9/software/anaconda/lib/python3.6/site-packages/ipykernel_launcher.py:27: UserWarning: Could not read from /g/data/u39/public/data/modis/lpdaac-tiles-c6/MCD43A4.006/2001.07.20/MCD43A4.A2001201.h29v12.006.2016117042810.hdf\n",
      "/g/data/oe9/software/anaconda/lib/python3.6/site-packages/ipykernel_launcher.py:27: UserWarning: Could not read from /g/data/u39/public/data/modis/lpdaac-tiles-c6/MCD43A4.006/2001.07.24/MCD43A4.A2001205.h29v12.006.2016117063104.hdf\n",
      "/g/data/oe9/software/anaconda/lib/python3.6/site-packages/ipykernel_launcher.py:27: UserWarning: Could not read from /g/data/u39/public/data/modis/lpdaac-tiles-c6/MCD43A4.006/2001.07.28/MCD43A4.A2001209.h29v12.006.2016117084221.hdf\n",
      "/g/data/oe9/software/anaconda/lib/python3.6/site-packages/ipykernel_launcher.py:27: UserWarning: Could not read from /g/data/u39/public/data/modis/lpdaac-tiles-c6/MCD43A4.006/2001.08.01/MCD43A4.A2001213.h29v12.006.2016117101207.hdf\n",
      "/g/data/oe9/software/anaconda/lib/python3.6/site-packages/ipykernel_launcher.py:27: UserWarning: Could not read from /g/data/u39/public/data/modis/lpdaac-tiles-c6/MCD43A4.006/2001.08.05/MCD43A4.A2001217.h29v12.006.2016117112206.hdf\n",
      "/g/data/oe9/software/anaconda/lib/python3.6/site-packages/ipykernel_launcher.py:27: UserWarning: Could not read from /g/data/u39/public/data/modis/lpdaac-tiles-c6/MCD43A4.006/2001.08.09/MCD43A4.A2001221.h29v12.006.2016117122346.hdf\n",
      "/g/data/oe9/software/anaconda/lib/python3.6/site-packages/ipykernel_launcher.py:27: UserWarning: Could not read from /g/data/u39/public/data/modis/lpdaac-tiles-c6/MCD43A4.006/2001.08.13/MCD43A4.A2001225.h29v12.006.2016117132001.hdf\n",
      "/g/data/oe9/software/anaconda/lib/python3.6/site-packages/ipykernel_launcher.py:27: UserWarning: Could not read from /g/data/u39/public/data/modis/lpdaac-tiles-c6/MCD43A4.006/2001.08.17/MCD43A4.A2001229.h29v12.006.2016117142515.hdf\n",
      "/g/data/oe9/software/anaconda/lib/python3.6/site-packages/ipykernel_launcher.py:27: UserWarning: Could not read from /g/data/u39/public/data/modis/lpdaac-tiles-c6/MCD43A4.006/2001.08.21/MCD43A4.A2001233.h29v12.006.2016117152034.hdf\n",
      "/g/data/oe9/software/anaconda/lib/python3.6/site-packages/ipykernel_launcher.py:27: UserWarning: Could not read from /g/data/u39/public/data/modis/lpdaac-tiles-c6/MCD43A4.006/2001.08.25/MCD43A4.A2001237.h29v12.006.2016117161002.hdf\n",
      "/g/data/oe9/software/anaconda/lib/python3.6/site-packages/ipykernel_launcher.py:27: UserWarning: Could not read from /g/data/u39/public/data/modis/lpdaac-tiles-c6/MCD43A4.006/2001.08.29/MCD43A4.A2001241.h29v12.006.2016117165906.hdf\n",
      "/g/data/oe9/software/anaconda/lib/python3.6/site-packages/ipykernel_launcher.py:27: UserWarning: Could not read from /g/data/u39/public/data/modis/lpdaac-tiles-c6/MCD43A4.006/2001.09.02/MCD43A4.A2001245.h29v12.006.2016117174533.hdf\n",
      "/g/data/oe9/software/anaconda/lib/python3.6/site-packages/ipykernel_launcher.py:27: UserWarning: Could not read from /g/data/u39/public/data/modis/lpdaac-tiles-c6/MCD43A4.006/2001.09.06/MCD43A4.A2001249.h29v12.006.2016117191454.hdf\n",
      "/g/data/oe9/software/anaconda/lib/python3.6/site-packages/ipykernel_launcher.py:27: UserWarning: Could not read from /g/data/u39/public/data/modis/lpdaac-tiles-c6/MCD43A4.006/2001.09.10/MCD43A4.A2001253.h29v12.006.2016117202448.hdf\n",
      "/g/data/oe9/software/anaconda/lib/python3.6/site-packages/ipykernel_launcher.py:27: UserWarning: Could not read from /g/data/u39/public/data/modis/lpdaac-tiles-c6/MCD43A4.006/2001.09.14/MCD43A4.A2001257.h29v12.006.2016117212625.hdf\n",
      "/g/data/oe9/software/anaconda/lib/python3.6/site-packages/ipykernel_launcher.py:27: UserWarning: Could not read from /g/data/u39/public/data/modis/lpdaac-tiles-c6/MCD43A4.006/2001.09.18/MCD43A4.A2001261.h29v12.006.2016118195505.hdf\n",
      "/g/data/oe9/software/anaconda/lib/python3.6/site-packages/ipykernel_launcher.py:27: UserWarning: Could not read from /g/data/u39/public/data/modis/lpdaac-tiles-c6/MCD43A4.006/2001.09.22/MCD43A4.A2001265.h29v12.006.2016118205005.hdf\n"
     ]
    },
    {
     "name": "stderr",
     "output_type": "stream",
     "text": [
      "/g/data/oe9/software/anaconda/lib/python3.6/site-packages/ipykernel_launcher.py:27: UserWarning: Could not read from /g/data/u39/public/data/modis/lpdaac-tiles-c6/MCD43A4.006/2001.09.26/MCD43A4.A2001269.h29v12.006.2016118214413.hdf\n",
      "/g/data/oe9/software/anaconda/lib/python3.6/site-packages/ipykernel_launcher.py:27: UserWarning: Could not read from /g/data/u39/public/data/modis/lpdaac-tiles-c6/MCD43A4.006/2001.09.30/MCD43A4.A2001273.h29v12.006.2016118224051.hdf\n",
      "/g/data/oe9/software/anaconda/lib/python3.6/site-packages/ipykernel_launcher.py:27: UserWarning: Could not read from /g/data/u39/public/data/modis/lpdaac-tiles-c6/MCD43A4.006/2001.10.04/MCD43A4.A2001277.h29v12.006.2016118233257.hdf\n",
      "/g/data/oe9/software/anaconda/lib/python3.6/site-packages/ipykernel_launcher.py:27: UserWarning: Could not read from /g/data/u39/public/data/modis/lpdaac-tiles-c6/MCD43A4.006/2001.10.08/MCD43A4.A2001281.h29v12.006.2016119002806.hdf\n",
      "/g/data/oe9/software/anaconda/lib/python3.6/site-packages/ipykernel_launcher.py:27: UserWarning: Could not read from /g/data/u39/public/data/modis/lpdaac-tiles-c6/MCD43A4.006/2001.10.12/MCD43A4.A2001285.h29v12.006.2016119011629.hdf\n",
      "/g/data/oe9/software/anaconda/lib/python3.6/site-packages/ipykernel_launcher.py:27: UserWarning: Could not read from /g/data/u39/public/data/modis/lpdaac-tiles-c6/MCD43A4.006/2001.10.16/MCD43A4.A2001289.h29v12.006.2016119020650.hdf\n",
      "/g/data/oe9/software/anaconda/lib/python3.6/site-packages/ipykernel_launcher.py:27: UserWarning: Could not read from /g/data/u39/public/data/modis/lpdaac-tiles-c6/MCD43A4.006/2001.10.20/MCD43A4.A2001293.h29v12.006.2016119025639.hdf\n",
      "/g/data/oe9/software/anaconda/lib/python3.6/site-packages/ipykernel_launcher.py:27: UserWarning: Could not read from /g/data/u39/public/data/modis/lpdaac-tiles-c6/MCD43A4.006/2001.10.24/MCD43A4.A2001297.h29v12.006.2016119034428.hdf\n",
      "/g/data/oe9/software/anaconda/lib/python3.6/site-packages/ipykernel_launcher.py:27: UserWarning: Could not read from /g/data/u39/public/data/modis/lpdaac-tiles-c6/MCD43A4.006/2001.10.28/MCD43A4.A2001301.h29v12.006.2016123125507.hdf\n",
      "/g/data/oe9/software/anaconda/lib/python3.6/site-packages/ipykernel_launcher.py:27: UserWarning: Could not read from /g/data/u39/public/data/modis/lpdaac-tiles-c6/MCD43A4.006/2001.11.01/MCD43A4.A2001305.h29v12.006.2016123135118.hdf\n",
      "/g/data/oe9/software/anaconda/lib/python3.6/site-packages/ipykernel_launcher.py:27: UserWarning: Could not read from /g/data/u39/public/data/modis/lpdaac-tiles-c6/MCD43A4.006/2001.11.05/MCD43A4.A2001309.h29v12.006.2016123145016.hdf\n",
      "/g/data/oe9/software/anaconda/lib/python3.6/site-packages/ipykernel_launcher.py:27: UserWarning: Could not read from /g/data/u39/public/data/modis/lpdaac-tiles-c6/MCD43A4.006/2001.11.09/MCD43A4.A2001313.h29v12.006.2016123154325.hdf\n",
      "/g/data/oe9/software/anaconda/lib/python3.6/site-packages/ipykernel_launcher.py:27: UserWarning: Could not read from /g/data/u39/public/data/modis/lpdaac-tiles-c6/MCD43A4.006/2001.11.13/MCD43A4.A2001317.h29v12.006.2016123163345.hdf\n",
      "/g/data/oe9/software/anaconda/lib/python3.6/site-packages/ipykernel_launcher.py:27: UserWarning: Could not read from /g/data/u39/public/data/modis/lpdaac-tiles-c6/MCD43A4.006/2001.11.17/MCD43A4.A2001321.h29v12.006.2016123172653.hdf\n",
      "/g/data/oe9/software/anaconda/lib/python3.6/site-packages/ipykernel_launcher.py:27: UserWarning: Could not read from /g/data/u39/public/data/modis/lpdaac-tiles-c6/MCD43A4.006/2001.11.21/MCD43A4.A2001325.h29v12.006.2016123181346.hdf\n",
      "/g/data/oe9/software/anaconda/lib/python3.6/site-packages/ipykernel_launcher.py:27: UserWarning: Could not read from /g/data/u39/public/data/modis/lpdaac-tiles-c6/MCD43A4.006/2001.11.25/MCD43A4.A2001329.h29v12.006.2016123193259.hdf\n",
      "/g/data/oe9/software/anaconda/lib/python3.6/site-packages/ipykernel_launcher.py:27: UserWarning: Could not read from /g/data/u39/public/data/modis/lpdaac-tiles-c6/MCD43A4.006/2001.11.29/MCD43A4.A2001333.h29v12.006.2016123210749.hdf\n",
      "/g/data/oe9/software/anaconda/lib/python3.6/site-packages/ipykernel_launcher.py:27: UserWarning: Could not read from /g/data/u39/public/data/modis/lpdaac-tiles-c6/MCD43A4.006/2001.12.03/MCD43A4.A2001337.h29v12.006.2016123220702.hdf\n",
      "/g/data/oe9/software/anaconda/lib/python3.6/site-packages/ipykernel_launcher.py:27: UserWarning: Could not read from /g/data/u39/public/data/modis/lpdaac-tiles-c6/MCD43A4.006/2001.12.07/MCD43A4.A2001341.h29v12.006.2016123231520.hdf\n",
      "/g/data/oe9/software/anaconda/lib/python3.6/site-packages/ipykernel_launcher.py:27: UserWarning: Could not read from /g/data/u39/public/data/modis/lpdaac-tiles-c6/MCD43A4.006/2001.12.11/MCD43A4.A2001345.h29v12.006.2016124001702.hdf\n",
      "/g/data/oe9/software/anaconda/lib/python3.6/site-packages/ipykernel_launcher.py:27: UserWarning: Could not read from /g/data/u39/public/data/modis/lpdaac-tiles-c6/MCD43A4.006/2001.12.15/MCD43A4.A2001349.h29v12.006.2016124012023.hdf\n",
      "/g/data/oe9/software/anaconda/lib/python3.6/site-packages/ipykernel_launcher.py:27: UserWarning: Could not read from /g/data/u39/public/data/modis/lpdaac-tiles-c6/MCD43A4.006/2001.12.19/MCD43A4.A2001353.h29v12.006.2016124022216.hdf\n",
      "/g/data/oe9/software/anaconda/lib/python3.6/site-packages/ipykernel_launcher.py:27: UserWarning: Could not read from /g/data/u39/public/data/modis/lpdaac-tiles-c6/MCD43A4.006/2001.12.23/MCD43A4.A2001357.h29v12.006.2016124032731.hdf\n",
      "/g/data/oe9/software/anaconda/lib/python3.6/site-packages/ipykernel_launcher.py:27: UserWarning: Could not read from /g/data/u39/public/data/modis/lpdaac-tiles-c6/MCD43A4.006/2001.12.27/MCD43A4.A2001361.h29v12.006.2016124042415.hdf\n",
      "/g/data/oe9/software/anaconda/lib/python3.6/site-packages/ipykernel_launcher.py:27: UserWarning: Could not read from /g/data/u39/public/data/modis/lpdaac-tiles-c6/MCD43A4.006/2001.12.31/MCD43A4.A2001365.h29v12.006.2016124051647.hdf\n",
      "/g/data/oe9/software/anaconda/lib/python3.6/site-packages/ipykernel_launcher.py:27: UserWarning: Could not read from /g/data/u39/public/data/modis/lpdaac-tiles-c6/MCD43A4.006/2002.01.01/MCD43A4.A2002001.h29v12.006.2016124053007.hdf\n",
      "/g/data/oe9/software/anaconda/lib/python3.6/site-packages/ipykernel_launcher.py:27: UserWarning: Could not read from /g/data/u39/public/data/modis/lpdaac-tiles-c6/MCD43A4.006/2002.01.05/MCD43A4.A2002005.h29v12.006.2016124062243.hdf\n",
      "/g/data/oe9/software/anaconda/lib/python3.6/site-packages/ipykernel_launcher.py:27: UserWarning: Could not read from /g/data/u39/public/data/modis/lpdaac-tiles-c6/MCD43A4.006/2002.01.09/MCD43A4.A2002009.h29v12.006.2016124071807.hdf\n",
      "/g/data/oe9/software/anaconda/lib/python3.6/site-packages/ipykernel_launcher.py:27: UserWarning: Could not read from /g/data/u39/public/data/modis/lpdaac-tiles-c6/MCD43A4.006/2002.01.13/MCD43A4.A2002013.h29v12.006.2016124081422.hdf\n",
      "/g/data/oe9/software/anaconda/lib/python3.6/site-packages/ipykernel_launcher.py:27: UserWarning: Could not read from /g/data/u39/public/data/modis/lpdaac-tiles-c6/MCD43A4.006/2002.01.17/MCD43A4.A2002017.h29v12.006.2016124090734.hdf\n",
      "/g/data/oe9/software/anaconda/lib/python3.6/site-packages/ipykernel_launcher.py:27: UserWarning: Could not read from /g/data/u39/public/data/modis/lpdaac-tiles-c6/MCD43A4.006/2002.01.21/MCD43A4.A2002021.h29v12.006.2016124100127.hdf\n",
      "/g/data/oe9/software/anaconda/lib/python3.6/site-packages/ipykernel_launcher.py:27: UserWarning: Could not read from /g/data/u39/public/data/modis/lpdaac-tiles-c6/MCD43A4.006/2002.01.25/MCD43A4.A2002025.h29v12.006.2016124105251.hdf\n",
      "/g/data/oe9/software/anaconda/lib/python3.6/site-packages/ipykernel_launcher.py:27: UserWarning: Could not read from /g/data/u39/public/data/modis/lpdaac-tiles-c6/MCD43A4.006/2002.01.29/MCD43A4.A2002029.h29v12.006.2016124114627.hdf\n",
      "/g/data/oe9/software/anaconda/lib/python3.6/site-packages/ipykernel_launcher.py:27: UserWarning: Could not read from /g/data/u39/public/data/modis/lpdaac-tiles-c6/MCD43A4.006/2002.02.02/MCD43A4.A2002033.h29v12.006.2016124153410.hdf\n",
      "/g/data/oe9/software/anaconda/lib/python3.6/site-packages/ipykernel_launcher.py:27: UserWarning: Could not read from /g/data/u39/public/data/modis/lpdaac-tiles-c6/MCD43A4.006/2002.02.06/MCD43A4.A2002037.h29v12.006.2016124162103.hdf\n",
      "/g/data/oe9/software/anaconda/lib/python3.6/site-packages/ipykernel_launcher.py:27: UserWarning: Could not read from /g/data/u39/public/data/modis/lpdaac-tiles-c6/MCD43A4.006/2002.02.10/MCD43A4.A2002041.h29v12.006.2016124170603.hdf\n",
      "/g/data/oe9/software/anaconda/lib/python3.6/site-packages/ipykernel_launcher.py:27: UserWarning: Could not read from /g/data/u39/public/data/modis/lpdaac-tiles-c6/MCD43A4.006/2002.02.14/MCD43A4.A2002045.h29v12.006.2016124180142.hdf\n"
     ]
    },
    {
     "name": "stderr",
     "output_type": "stream",
     "text": [
      "/g/data/oe9/software/anaconda/lib/python3.6/site-packages/ipykernel_launcher.py:27: UserWarning: Could not read from /g/data/u39/public/data/modis/lpdaac-tiles-c6/MCD43A4.006/2002.02.18/MCD43A4.A2002049.h29v12.006.2016124185539.hdf\n",
      "/g/data/oe9/software/anaconda/lib/python3.6/site-packages/ipykernel_launcher.py:27: UserWarning: Could not read from /g/data/u39/public/data/modis/lpdaac-tiles-c6/MCD43A4.006/2002.02.22/MCD43A4.A2002053.h29v12.006.2016124194103.hdf\n",
      "/g/data/oe9/software/anaconda/lib/python3.6/site-packages/ipykernel_launcher.py:27: UserWarning: Could not read from /g/data/u39/public/data/modis/lpdaac-tiles-c6/MCD43A4.006/2002.02.26/MCD43A4.A2002057.h29v12.006.2016124205222.hdf\n",
      "/g/data/oe9/software/anaconda/lib/python3.6/site-packages/ipykernel_launcher.py:27: UserWarning: Could not read from /g/data/u39/public/data/modis/lpdaac-tiles-c6/MCD43A4.006/2002.03.02/MCD43A4.A2002061.h29v12.006.2016124220425.hdf\n",
      "/g/data/oe9/software/anaconda/lib/python3.6/site-packages/ipykernel_launcher.py:27: UserWarning: Could not read from /g/data/u39/public/data/modis/lpdaac-tiles-c6/MCD43A4.006/2002.03.06/MCD43A4.A2002065.h29v12.006.2016125135948.hdf\n",
      "/g/data/oe9/software/anaconda/lib/python3.6/site-packages/ipykernel_launcher.py:27: UserWarning: Could not read from /g/data/u39/public/data/modis/lpdaac-tiles-c6/MCD43A4.006/2002.03.10/MCD43A4.A2002069.h29v12.006.2016125150758.hdf\n",
      "/g/data/oe9/software/anaconda/lib/python3.6/site-packages/ipykernel_launcher.py:27: UserWarning: Could not read from /g/data/u39/public/data/modis/lpdaac-tiles-c6/MCD43A4.006/2002.03.14/MCD43A4.A2002073.h29v12.006.2016125155921.hdf\n",
      "/g/data/oe9/software/anaconda/lib/python3.6/site-packages/ipykernel_launcher.py:27: UserWarning: Could not read from /g/data/u39/public/data/modis/lpdaac-tiles-c6/MCD43A4.006/2002.03.18/MCD43A4.A2002077.h29v12.006.2016125164534.hdf\n",
      "/g/data/oe9/software/anaconda/lib/python3.6/site-packages/ipykernel_launcher.py:27: UserWarning: Could not read from /g/data/u39/public/data/modis/lpdaac-tiles-c6/MCD43A4.006/2002.03.22/MCD43A4.A2002081.h29v12.006.2016125173645.hdf\n",
      "/g/data/oe9/software/anaconda/lib/python3.6/site-packages/ipykernel_launcher.py:27: UserWarning: Could not read from /g/data/u39/public/data/modis/lpdaac-tiles-c6/MCD43A4.006/2002.03.26/MCD43A4.A2002085.h29v12.006.2016125182243.hdf\n",
      "/g/data/oe9/software/anaconda/lib/python3.6/site-packages/ipykernel_launcher.py:27: UserWarning: Could not read from /g/data/u39/public/data/modis/lpdaac-tiles-c6/MCD43A4.006/2002.03.30/MCD43A4.A2002089.h29v12.006.2016125191009.hdf\n",
      "/g/data/oe9/software/anaconda/lib/python3.6/site-packages/ipykernel_launcher.py:27: UserWarning: Could not read from /g/data/u39/public/data/modis/lpdaac-tiles-c6/MCD43A4.006/2002.04.03/MCD43A4.A2002093.h29v12.006.2016125200954.hdf\n",
      "/g/data/oe9/software/anaconda/lib/python3.6/site-packages/ipykernel_launcher.py:27: UserWarning: Could not read from /g/data/u39/public/data/modis/lpdaac-tiles-c6/MCD43A4.006/2002.04.07/MCD43A4.A2002097.h29v12.006.2016125210221.hdf\n",
      "/g/data/oe9/software/anaconda/lib/python3.6/site-packages/ipykernel_launcher.py:27: UserWarning: Could not read from /g/data/u39/public/data/modis/lpdaac-tiles-c6/MCD43A4.006/2002.04.11/MCD43A4.A2002101.h29v12.006.2016127131018.hdf\n",
      "/g/data/oe9/software/anaconda/lib/python3.6/site-packages/ipykernel_launcher.py:27: UserWarning: Could not read from /g/data/u39/public/data/modis/lpdaac-tiles-c6/MCD43A4.006/2002.04.15/MCD43A4.A2002105.h29v12.006.2016127144011.hdf\n",
      "/g/data/oe9/software/anaconda/lib/python3.6/site-packages/ipykernel_launcher.py:27: UserWarning: Could not read from /g/data/u39/public/data/modis/lpdaac-tiles-c6/MCD43A4.006/2002.04.19/MCD43A4.A2002109.h29v12.006.2016127154612.hdf\n",
      "/g/data/oe9/software/anaconda/lib/python3.6/site-packages/ipykernel_launcher.py:27: UserWarning: Could not read from /g/data/u39/public/data/modis/lpdaac-tiles-c6/MCD43A4.006/2002.04.23/MCD43A4.A2002113.h29v12.006.2016127170506.hdf\n",
      "/g/data/oe9/software/anaconda/lib/python3.6/site-packages/ipykernel_launcher.py:27: UserWarning: Could not read from /g/data/u39/public/data/modis/lpdaac-tiles-c6/MCD43A4.006/2002.04.27/MCD43A4.A2002117.h29v12.006.2016127183150.hdf\n",
      "/g/data/oe9/software/anaconda/lib/python3.6/site-packages/ipykernel_launcher.py:27: UserWarning: Could not read from /g/data/u39/public/data/modis/lpdaac-tiles-c6/MCD43A4.006/2002.05.01/MCD43A4.A2002121.h29v12.006.2016127202322.hdf\n",
      "/g/data/oe9/software/anaconda/lib/python3.6/site-packages/ipykernel_launcher.py:27: UserWarning: Could not read from /g/data/u39/public/data/modis/lpdaac-tiles-c6/MCD43A4.006/2002.05.05/MCD43A4.A2002125.h29v12.006.2016127220048.hdf\n",
      "/g/data/oe9/software/anaconda/lib/python3.6/site-packages/ipykernel_launcher.py:27: UserWarning: Could not read from /g/data/u39/public/data/modis/lpdaac-tiles-c6/MCD43A4.006/2002.05.09/MCD43A4.A2002129.h29v12.006.2016127231953.hdf\n",
      "/g/data/oe9/software/anaconda/lib/python3.6/site-packages/ipykernel_launcher.py:27: UserWarning: Could not read from /g/data/u39/public/data/modis/lpdaac-tiles-c6/MCD43A4.006/2002.05.13/MCD43A4.A2002133.h29v12.006.2016128004616.hdf\n",
      "/g/data/oe9/software/anaconda/lib/python3.6/site-packages/ipykernel_launcher.py:27: UserWarning: Could not read from /g/data/u39/public/data/modis/lpdaac-tiles-c6/MCD43A4.006/2002.05.17/MCD43A4.A2002137.h29v12.006.2016128020154.hdf\n",
      "/g/data/oe9/software/anaconda/lib/python3.6/site-packages/ipykernel_launcher.py:27: UserWarning: Could not read from /g/data/u39/public/data/modis/lpdaac-tiles-c6/MCD43A4.006/2002.05.21/MCD43A4.A2002141.h29v12.006.2016128031515.hdf\n",
      "/g/data/oe9/software/anaconda/lib/python3.6/site-packages/ipykernel_launcher.py:27: UserWarning: Could not read from /g/data/u39/public/data/modis/lpdaac-tiles-c6/MCD43A4.006/2002.05.25/MCD43A4.A2002145.h29v12.006.2016128043107.hdf\n",
      "/g/data/oe9/software/anaconda/lib/python3.6/site-packages/ipykernel_launcher.py:27: UserWarning: Could not read from /g/data/u39/public/data/modis/lpdaac-tiles-c6/MCD43A4.006/2002.05.29/MCD43A4.A2002149.h29v12.006.2016128060007.hdf\n",
      "/g/data/oe9/software/anaconda/lib/python3.6/site-packages/ipykernel_launcher.py:27: UserWarning: Could not read from /g/data/u39/public/data/modis/lpdaac-tiles-c6/MCD43A4.006/2002.06.02/MCD43A4.A2002153.h29v12.006.2016128073149.hdf\n",
      "/g/data/oe9/software/anaconda/lib/python3.6/site-packages/ipykernel_launcher.py:27: UserWarning: Could not read from /g/data/u39/public/data/modis/lpdaac-tiles-c6/MCD43A4.006/2002.06.06/MCD43A4.A2002157.h29v12.006.2016128090332.hdf\n",
      "/g/data/oe9/software/anaconda/lib/python3.6/site-packages/ipykernel_launcher.py:27: UserWarning: Could not read from /g/data/u39/public/data/modis/lpdaac-tiles-c6/MCD43A4.006/2002.06.10/MCD43A4.A2002161.h29v12.006.2016128102421.hdf\n",
      "/g/data/oe9/software/anaconda/lib/python3.6/site-packages/ipykernel_launcher.py:27: UserWarning: Could not read from /g/data/u39/public/data/modis/lpdaac-tiles-c6/MCD43A4.006/2002.06.14/MCD43A4.A2002165.h29v12.006.2016128113714.hdf\n",
      "/g/data/oe9/software/anaconda/lib/python3.6/site-packages/ipykernel_launcher.py:27: UserWarning: Could not read from /g/data/u39/public/data/modis/lpdaac-tiles-c6/MCD43A4.006/2002.06.18/MCD43A4.A2002169.h29v12.006.2016128125158.hdf\n",
      "/g/data/oe9/software/anaconda/lib/python3.6/site-packages/ipykernel_launcher.py:27: UserWarning: Could not read from /g/data/u39/public/data/modis/lpdaac-tiles-c6/MCD43A4.006/2002.06.22/MCD43A4.A2002173.h29v12.006.2016128140332.hdf\n",
      "/g/data/oe9/software/anaconda/lib/python3.6/site-packages/ipykernel_launcher.py:27: UserWarning: Could not read from /g/data/u39/public/data/modis/lpdaac-tiles-c6/MCD43A4.006/2002.06.26/MCD43A4.A2002177.h29v12.006.2016128151703.hdf\n",
      "/g/data/oe9/software/anaconda/lib/python3.6/site-packages/ipykernel_launcher.py:27: UserWarning: Could not read from /g/data/u39/public/data/modis/lpdaac-tiles-c6/MCD43A4.006/2002.06.30/MCD43A4.A2002181.h29v12.006.2016128162248.hdf\n",
      "/g/data/oe9/software/anaconda/lib/python3.6/site-packages/ipykernel_launcher.py:27: UserWarning: Could not read from /g/data/u39/public/data/modis/lpdaac-tiles-c6/MCD43A4.006/2002.07.04/MCD43A4.A2002185.h29v12.006.2016128172738.hdf\n",
      "/g/data/oe9/software/anaconda/lib/python3.6/site-packages/ipykernel_launcher.py:27: UserWarning: Could not read from /g/data/u39/public/data/modis/lpdaac-tiles-c6/MCD43A4.006/2002.07.08/MCD43A4.A2002189.h29v12.006.2016128182706.hdf\n",
      "/g/data/oe9/software/anaconda/lib/python3.6/site-packages/ipykernel_launcher.py:27: UserWarning: Could not read from /g/data/u39/public/data/modis/lpdaac-tiles-c6/MCD43A4.006/2002.07.12/MCD43A4.A2002193.h29v12.006.2016128193926.hdf\n"
     ]
    },
    {
     "name": "stderr",
     "output_type": "stream",
     "text": [
      "/g/data/oe9/software/anaconda/lib/python3.6/site-packages/ipykernel_launcher.py:27: UserWarning: Could not read from /g/data/u39/public/data/modis/lpdaac-tiles-c6/MCD43A4.006/2002.07.16/MCD43A4.A2002197.h29v12.006.2016128205136.hdf\n",
      "/g/data/oe9/software/anaconda/lib/python3.6/site-packages/ipykernel_launcher.py:27: UserWarning: Could not read from /g/data/u39/public/data/modis/lpdaac-tiles-c6/MCD43A4.006/2002.07.20/MCD43A4.A2002201.h29v12.006.2016128220116.hdf\n",
      "/g/data/oe9/software/anaconda/lib/python3.6/site-packages/ipykernel_launcher.py:27: UserWarning: Could not read from /g/data/u39/public/data/modis/lpdaac-tiles-c6/MCD43A4.006/2002.07.24/MCD43A4.A2002205.h29v12.006.2016131133228.hdf\n",
      "/g/data/oe9/software/anaconda/lib/python3.6/site-packages/ipykernel_launcher.py:27: UserWarning: Could not read from /g/data/u39/public/data/modis/lpdaac-tiles-c6/MCD43A4.006/2002.07.28/MCD43A4.A2002209.h29v12.006.2016131150101.hdf\n",
      "/g/data/oe9/software/anaconda/lib/python3.6/site-packages/ipykernel_launcher.py:27: UserWarning: Could not read from /g/data/u39/public/data/modis/lpdaac-tiles-c6/MCD43A4.006/2002.08.01/MCD43A4.A2002213.h29v12.006.2016131164626.hdf\n",
      "/g/data/oe9/software/anaconda/lib/python3.6/site-packages/ipykernel_launcher.py:27: UserWarning: Could not read from /g/data/u39/public/data/modis/lpdaac-tiles-c6/MCD43A4.006/2002.08.05/MCD43A4.A2002217.h29v12.006.2016131180335.hdf\n"
     ]
    }
   ],
   "source": [
    "%%time\n",
    "ds = get_reflectance('h29v12')\n",
    "ds"
   ]
  },
  {
   "cell_type": "code",
   "execution_count": 11,
   "metadata": {},
   "outputs": [
    {
     "data": {
      "text/plain": [
       "[]"
      ]
     },
     "execution_count": 11,
     "metadata": {},
     "output_type": "execute_result"
    }
   ],
   "source": []
  },
  {
   "cell_type": "code",
   "execution_count": null,
   "metadata": {
    "collapsed": true
   },
   "outputs": [],
   "source": []
  }
 ],
 "metadata": {
  "kernelspec": {
   "display_name": "Python 3",
   "language": "python",
   "name": "python3"
  },
  "language_info": {
   "codemirror_mode": {
    "name": "ipython",
    "version": 3
   },
   "file_extension": ".py",
   "mimetype": "text/x-python",
   "name": "python",
   "nbconvert_exporter": "python",
   "pygments_lexer": "ipython3",
   "version": "3.6.3"
  }
 },
 "nbformat": 4,
 "nbformat_minor": 2
}
