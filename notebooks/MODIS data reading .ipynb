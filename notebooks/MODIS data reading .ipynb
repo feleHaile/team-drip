{
 "cells": [
  {
   "cell_type": "code",
   "execution_count": 2,
   "metadata": {},
   "outputs": [],
   "source": [
    "import xarray as xr\n",
    "import pandas as pd\n",
    "%matplotlib inline"
   ]
  },
  {
   "cell_type": "code",
   "execution_count": 3,
   "metadata": {},
   "outputs": [
    {
     "data": {
      "text/plain": [
       "<xarray.Dataset>\n",
       "Dimensions:                                       (Num_Parameters:MOD_Grid_BRDF: 3, XDim:MOD_Grid_BRDF: 2400, YDim:MOD_Grid_BRDF: 2400)\n",
       "Dimensions without coordinates: Num_Parameters:MOD_Grid_BRDF, XDim:MOD_Grid_BRDF, YDim:MOD_Grid_BRDF\n",
       "Data variables:\n",
       "    BRDF_Albedo_Band_Mandatory_Quality_Band1      (YDim:MOD_Grid_BRDF, XDim:MOD_Grid_BRDF) float64 ...\n",
       "    BRDF_Albedo_Band_Mandatory_Quality_Band2      (YDim:MOD_Grid_BRDF, XDim:MOD_Grid_BRDF) float64 ...\n",
       "    BRDF_Albedo_Band_Mandatory_Quality_Band3      (YDim:MOD_Grid_BRDF, XDim:MOD_Grid_BRDF) float64 ...\n",
       "    BRDF_Albedo_Band_Mandatory_Quality_Band4      (YDim:MOD_Grid_BRDF, XDim:MOD_Grid_BRDF) float64 ...\n",
       "    BRDF_Albedo_Band_Mandatory_Quality_Band5      (YDim:MOD_Grid_BRDF, XDim:MOD_Grid_BRDF) float64 ...\n",
       "    BRDF_Albedo_Band_Mandatory_Quality_Band6      (YDim:MOD_Grid_BRDF, XDim:MOD_Grid_BRDF) float64 ...\n",
       "    BRDF_Albedo_Band_Mandatory_Quality_Band7      (YDim:MOD_Grid_BRDF, XDim:MOD_Grid_BRDF) float64 ...\n",
       "    BRDF_Albedo_Band_Mandatory_Quality_vis        (YDim:MOD_Grid_BRDF, XDim:MOD_Grid_BRDF) float64 ...\n",
       "    BRDF_Albedo_Band_Mandatory_Quality_nir        (YDim:MOD_Grid_BRDF, XDim:MOD_Grid_BRDF) float64 ...\n",
       "    BRDF_Albedo_Band_Mandatory_Quality_shortwave  (YDim:MOD_Grid_BRDF, XDim:MOD_Grid_BRDF) float64 ...\n",
       "    BRDF_Albedo_Parameters_Band1                  (YDim:MOD_Grid_BRDF, XDim:MOD_Grid_BRDF, Num_Parameters:MOD_Grid_BRDF) float64 ...\n",
       "    BRDF_Albedo_Parameters_Band2                  (YDim:MOD_Grid_BRDF, XDim:MOD_Grid_BRDF, Num_Parameters:MOD_Grid_BRDF) float64 ...\n",
       "    BRDF_Albedo_Parameters_Band3                  (YDim:MOD_Grid_BRDF, XDim:MOD_Grid_BRDF, Num_Parameters:MOD_Grid_BRDF) float64 ...\n",
       "    BRDF_Albedo_Parameters_Band4                  (YDim:MOD_Grid_BRDF, XDim:MOD_Grid_BRDF, Num_Parameters:MOD_Grid_BRDF) float64 ...\n",
       "    BRDF_Albedo_Parameters_Band5                  (YDim:MOD_Grid_BRDF, XDim:MOD_Grid_BRDF, Num_Parameters:MOD_Grid_BRDF) float64 ...\n",
       "    BRDF_Albedo_Parameters_Band6                  (YDim:MOD_Grid_BRDF, XDim:MOD_Grid_BRDF, Num_Parameters:MOD_Grid_BRDF) float64 ...\n",
       "    BRDF_Albedo_Parameters_Band7                  (YDim:MOD_Grid_BRDF, XDim:MOD_Grid_BRDF, Num_Parameters:MOD_Grid_BRDF) float64 ...\n",
       "    BRDF_Albedo_Parameters_vis                    (YDim:MOD_Grid_BRDF, XDim:MOD_Grid_BRDF, Num_Parameters:MOD_Grid_BRDF) float64 ...\n",
       "    BRDF_Albedo_Parameters_nir                    (YDim:MOD_Grid_BRDF, XDim:MOD_Grid_BRDF, Num_Parameters:MOD_Grid_BRDF) float64 ...\n",
       "    BRDF_Albedo_Parameters_shortwave              (YDim:MOD_Grid_BRDF, XDim:MOD_Grid_BRDF, Num_Parameters:MOD_Grid_BRDF) float64 ...\n",
       "Attributes:\n",
       "    HDFEOSVersion:                     HDFEOS_V2.17\n",
       "    StructMetadata.0:                  GROUP=SwathStructure\\nEND_GROUP=SwathS...\n",
       "    identifier_product_doi:            10.5067/MODIS/MCD43A1.006\n",
       "    identifier_product_doi_authority:  http://dx.doi.org\n",
       "    CoreMetadata.0:                    \\nGROUP                  = INVENTORYME...\n",
       "    ArchiveMetadata.0:                 \\nGROUP                  = ARCHIVEDMET..."
      ]
     },
     "execution_count": 3,
     "metadata": {},
     "output_type": "execute_result"
    }
   ],
   "source": [
    "ds = xr.open_dataset('/g/data/u39/public/data/modis/lpdaac-tiles-c6/MCD43A1.006/2000.03.09/MCD43A1.A2000069.h27v11.006.2016101230106.hdf')\n",
    "ds "
   ]
  },
  {
   "cell_type": "code",
   "execution_count": 8,
   "metadata": {},
   "outputs": [
    {
     "data": {
      "text/plain": [
       "<xarray.DataArray 'BRDF_Albedo_Parameters_Band1' (YDim:MOD_Grid_BRDF: 2400, XDim:MOD_Grid_BRDF: 2400, Num_Parameters:MOD_Grid_BRDF: 3)>\n",
       "[17280000 values with dtype=float64]\n",
       "Dimensions without coordinates: YDim:MOD_Grid_BRDF, XDim:MOD_Grid_BRDF, Num_Parameters:MOD_Grid_BRDF\n",
       "Attributes:\n",
       "    long_name:         BRDF_Albedo_Parameters_Band1\n",
       "    units:             reflectance, no units\n",
       "    valid_range:       [    0 32767]\n",
       "    scale_factor_err:  0.0\n",
       "    add_offset_err:    0.0\n",
       "    calibrated_nt:     5"
      ]
     },
     "execution_count": 8,
     "metadata": {},
     "output_type": "execute_result"
    }
   ],
   "source": [
    "ds.BRDF_Albedo_Parameters_Band1"
   ]
  },
  {
   "cell_type": "code",
   "execution_count": 18,
   "metadata": {
    "scrolled": true
   },
   "outputs": [
    {
     "ename": "SyntaxError",
     "evalue": "keyword can't be an expression (<ipython-input-18-1d478d04bac4>, line 1)",
     "output_type": "error",
     "traceback": [
      "\u001b[0;36m  File \u001b[0;32m\"<ipython-input-18-1d478d04bac4>\"\u001b[0;36m, line \u001b[0;32m1\u001b[0m\n\u001b[0;31m    ds.BRDF_Albedo_Parameters_Band1.isel('Num_Parameters:MOD_Grid_BRDF'=1).plot.imshow() # selection of time = 0 for red variable\u001b[0m\n\u001b[0m                                        ^\u001b[0m\n\u001b[0;31mSyntaxError\u001b[0m\u001b[0;31m:\u001b[0m keyword can't be an expression\n"
     ]
    }
   ],
   "source": [
    "ds.BRDF_Albedo_Parameters_Band1.isel(Num_Parameters:MOD_Grid_BRDF=1).plot.imshow() # selection of time = 0 for red variable"
   ]
  },
  {
   "cell_type": "code",
   "execution_count": 15,
   "metadata": {},
   "outputs": [
    {
     "data": {
      "text/plain": [
       "('YDim:MOD_Grid_BRDF', 'XDim:MOD_Grid_BRDF', 'Num_Parameters:MOD_Grid_BRDF')"
      ]
     },
     "execution_count": 15,
     "metadata": {},
     "output_type": "execute_result"
    }
   ],
   "source": [
    "ds.BRDF_Albedo_Parameters_Band1.dims"
   ]
  },
  {
   "cell_type": "code",
   "execution_count": 16,
   "metadata": {},
   "outputs": [
    {
     "ename": "NameError",
     "evalue": "name 'MOD_Grid_BRDF' is not defined",
     "output_type": "error",
     "traceback": [
      "\u001b[0;31m---------------------------------------------------------------------------\u001b[0m",
      "\u001b[0;31mNameError\u001b[0m                                 Traceback (most recent call last)",
      "\u001b[0;32m<ipython-input-16-fe6be478a580>\u001b[0m in \u001b[0;36m<module>\u001b[0;34m()\u001b[0m\n\u001b[0;32m----> 1\u001b[0;31m \u001b[0mds\u001b[0m\u001b[0;34m.\u001b[0m\u001b[0mBRDF_Albedo_Parameters_Band1\u001b[0m\u001b[0;34m.\u001b[0m\u001b[0mNum_Parameters\u001b[0m\u001b[0;34m:\u001b[0m\u001b[0mMOD_Grid_BRDF\u001b[0m\u001b[0;34m\u001b[0m\u001b[0m\n\u001b[0m",
      "\u001b[0;31mNameError\u001b[0m: name 'MOD_Grid_BRDF' is not defined"
     ]
    }
   ],
   "source": [
    "ds.BRDF_Albedo_Parameters_Band1.dims"
   ]
  },
  {
   "cell_type": "code",
   "execution_count": null,
   "metadata": {
    "collapsed": true
   },
   "outputs": [],
   "source": []
  }
 ],
 "metadata": {
  "kernelspec": {
   "display_name": "Python 3",
   "language": "python",
   "name": "python3"
  },
  "language_info": {
   "codemirror_mode": {
    "name": "ipython",
    "version": 3
   },
   "file_extension": ".py",
   "mimetype": "text/x-python",
   "name": "python",
   "nbconvert_exporter": "python",
   "pygments_lexer": "ipython3",
   "version": "3.6.3"
  }
 },
 "nbformat": 4,
 "nbformat_minor": 2
}
