{
 "cells": [
  {
   "cell_type": "code",
   "execution_count": 1,
   "metadata": {
    "collapsed": true
   },
   "outputs": [],
   "source": [
    "import os\n",
    "import re\n",
    "import glob\n",
    "import datetime\n",
    "import warnings\n",
    "\n",
    "import numpy as np\n",
    "import pandas as pd\n",
    "import xarray as xr"
   ]
  },
  {
   "cell_type": "code",
   "execution_count": 2,
   "metadata": {},
   "outputs": [
    {
     "data": {
      "text/plain": [
       "504980"
      ]
     },
     "execution_count": 2,
     "metadata": {},
     "output_type": "execute_result"
    }
   ],
   "source": [
    "## This section caches all MODIS MCD43A4 file names in the format listed below, where '?' is a wildcard\n",
    "try:\n",
    "    with open('/g/data/oe9/modis_tile_file_list.txt') as f:\n",
    "        reflectance_file_cache = sorted(l.strip() for l in f.readlines())\n",
    "except:\n",
    "    reflectance_file_cache =  sorted(glob.glob(\n",
    "        '/g/data/u39/public/data/modis/lpdaac-tiles-c6/MCD43A4.006/'\n",
    "        '????.??.??/MCD43A4.A???????.h??v??.006.*.hdf'\n",
    "    ))\n",
    "    with open('/g/data/oe9/modis_tile_file_list.txt', 'w') as f:\n",
    "        f.writelines(l + '\\n' for l in reflectance_file_cache)\n",
    "len(reflectance_file_cache)"
   ]
  },
  {
   "cell_type": "code",
   "execution_count": 17,
   "metadata": {
    "collapsed": true
   },
   "outputs": [],
   "source": [
    "def add_tile_coords(tile, dataset):\n",
    "    scale = 1111950.5196669996\n",
    "\n",
    "    # regex to match string\n",
    "    regex = re.compile('h\\d+v\\d+')\n",
    "    matches = regex.findall(tile)\n",
    "\n",
    "    # extract values from string\n",
    "    extract = re.compile('\\d+')\n",
    "    h, v = extract.findall(matches[0])\n",
    "    h = int(h)\n",
    "    v = int(v)\n",
    "\n",
    "    # calculate start and end values\n",
    "    x_start = scale * (h - 18)\n",
    "    x_end = scale * (h - 17)\n",
    "\n",
    "    y_start = -scale * (v - 9)\n",
    "    y_end = -scale * (v - 8)\n",
    "\n",
    "    dataset['x'] = xr.IndexVariable('x', np.linspace(x_start, x_end, 2400))\n",
    "    dataset['y'] = xr.IndexVariable('y', np.linspace(y_start, y_end, 2400))\n",
    "    return dataset\n"
   ]
  },
  {
   "cell_type": "code",
   "execution_count": 18,
   "metadata": {
    "collapsed": true
   },
   "outputs": [],
   "source": [
    "## Rename the bands to something useful\n",
    "modis_band_map = {\n",
    "    'Nadir_Reflectance_Band1': 'red_630_690',\n",
    "    'Nadir_Reflectance_Band2': 'nir1_780_900',\n",
    "    'Nadir_Reflectance_Band3': 'blue_450_520',\n",
    "    'Nadir_Reflectance_Band4': 'green_530_610',\n",
    "    'Nadir_Reflectance_Band5': 'nir2_1230_1250',\n",
    "    'Nadir_Reflectance_Band6': 'swir1_1550_1750',\n",
    "    'Nadir_Reflectance_Band7': 'swir2_2090_2350',\n",
    "}\n",
    "\n",
    "## define function 'get_reflectance' whose input is tile ID 'h__v__'\n",
    "## This function searches the cached list for filenames which contain tile 'h__v__\n",
    "## outputs data as a concatenated dataset with dimensions, time, x ,y \n",
    "def get_reflectance(tile):\n",
    "    assert re.match(r'h\\d\\dv\\d\\d', tile), 'tile must be string \"h__v__\"'\n",
    "    files = [f for f in reflectance_file_cache if tile in os.path.basename(f)]\n",
    "    pattern = re.compile(r'MCD43A4.A(?P<year>\\d{4})(?P<day>\\d{3}).h\\d\\dv\\d\\d.006.\\d+.hdf')\n",
    "    dates, parts = [], []\n",
    "    for f in files:\n",
    "        assert os.path.isfile(f)\n",
    "        parts.append(xr.open_dataset(f, chunks=2400,autoclose=True))\n",
    "        year, day = pattern.match(os.path.basename(f)).groups()\n",
    "        dates.append(datetime.date(int(year), 1, 1) +\n",
    "                     datetime.timedelta(days=int(day) - 1))\n",
    "\n",
    "    dates = pd.to_datetime(dates)\n",
    "    dates.name = 'time'\n",
    "\n",
    "    ds = xr.concat(parts, dates)\n",
    "    out = xr.Dataset()\n",
    "    for i in map(str, range(1, 8)):\n",
    "        key = 'Nadir_Reflectance_Band' + i\n",
    "        data_ok = ds['BRDF_Albedo_Band_Mandatory_Quality_Band' + i] == 0\n",
    "        out[modis_band_map[key]] = ds[key].where(data_ok).astype('f4')\n",
    "\n",
    "    out.rename({'YDim:MOD_Grid_BRDF': 'y',\n",
    "                'XDim:MOD_Grid_BRDF': 'x'}, inplace=True)\n",
    "    out.time.encoding.update(dict(\n",
    "        units='days since 1900-01-01', calendar='gregorian', dtype='i4'))\n",
    "    for var in out.data_vars:\n",
    "        out[var].encoding.update(dict(\n",
    "            shuffle=True, zlib=True, chunks=dict(x=240, y=240, time=6), dtype='f4',\n",
    "        ))\n",
    "    return add_tile_coords(tile, out)"
   ]
  },
  {
   "cell_type": "code",
   "execution_count": 4,
   "metadata": {},
   "outputs": [
    {
     "name": "stdout",
     "output_type": "stream",
     "text": [
      "CPU times: user 43.6 s, sys: 43.2 s, total: 1min 26s\n",
      "Wall time: 4min 30s\n"
     ]
    }
   ],
   "source": [
    "%%time\n",
    "ds = get_reflectance('h30v12')\n",
    "ds"
   ]
  },
  {
   "cell_type": "code",
   "execution_count": 21,
   "metadata": {},
   "outputs": [
    {
     "data": {
      "text/plain": [
       "<xarray.Dataset>\n",
       "Dimensions:          (time: 1643, x: 2400, y: 2400)\n",
       "Coordinates:\n",
       "  * time             (time) datetime64[ns] 2000-02-26 2000-03-01 2000-03-05 ...\n",
       "  * x                (x) float64 1.334e+07 1.334e+07 1.334e+07 1.334e+07 ...\n",
       "  * y                (y) float64 -3.336e+06 -3.336e+06 -3.337e+06 -3.337e+06 ...\n",
       "Data variables:\n",
       "    red_630_690      (time, y, x) float32 dask.array<shape=(1643, 2400, 2400), chunksize=(1, 2400, 2400)>\n",
       "    nir1_780_900     (time, y, x) float32 dask.array<shape=(1643, 2400, 2400), chunksize=(1, 2400, 2400)>\n",
       "    blue_450_520     (time, y, x) float32 dask.array<shape=(1643, 2400, 2400), chunksize=(1, 2400, 2400)>\n",
       "    green_530_610    (time, y, x) float32 dask.array<shape=(1643, 2400, 2400), chunksize=(1, 2400, 2400)>\n",
       "    nir2_1230_1250   (time, y, x) float32 dask.array<shape=(1643, 2400, 2400), chunksize=(1, 2400, 2400)>\n",
       "    swir1_1550_1750  (time, y, x) float32 dask.array<shape=(1643, 2400, 2400), chunksize=(1, 2400, 2400)>\n",
       "    swir2_2090_2350  (time, y, x) float32 dask.array<shape=(1643, 2400, 2400), chunksize=(1, 2400, 2400)>"
      ]
     },
     "execution_count": 21,
     "metadata": {},
     "output_type": "execute_result"
    }
   ],
   "source": [
    "ds"
   ]
  },
  {
   "cell_type": "code",
   "execution_count": 14,
   "metadata": {},
   "outputs": [
    {
     "data": {
      "text/plain": [
       "264.983053144"
      ]
     },
     "execution_count": 14,
     "metadata": {},
     "output_type": "execute_result"
    }
   ],
   "source": [
    "ds.nbytes/10**9"
   ]
  },
  {
   "cell_type": "code",
   "execution_count": 20,
   "metadata": {},
   "outputs": [
    {
     "data": {
      "text/plain": [
       "<xarray.DataArray 'x' (x: 2400)>\n",
       "array([ 13343406.236004,  13343869.741848,  13344333.247692, ...,\n",
       "        14454429.743983,  14454893.249827,  14455356.755671])\n",
       "Coordinates:\n",
       "  * x        (x) float64 1.334e+07 1.334e+07 1.334e+07 1.334e+07 1.335e+07 ..."
      ]
     },
     "execution_count": 20,
     "metadata": {},
     "output_type": "execute_result"
    }
   ],
   "source": [
    "ds.x"
   ]
  },
  {
   "cell_type": "code",
   "execution_count": 31,
   "metadata": {
    "collapsed": true
   },
   "outputs": [],
   "source": [
    "## netcdf creation\n",
    "## save w/chunks on disk\n",
    "## \n",
    "\n"
   ]
  },
  {
   "cell_type": "code",
   "execution_count": 30,
   "metadata": {},
   "outputs": [
    {
     "name": "stdout",
     "output_type": "stream",
     "text": [
      "'red_630_690' <class 'str'>\n",
      "<xarray.DataArray 'red_630_690' (time: 1643, y: 2400, x: 2400)>\n",
      "dask.array<shape=(1643, 2400, 2400), dtype=float32, chunksize=(1, 2400, 2400)>\n",
      "Coordinates:\n",
      "  * time     (time) datetime64[ns] 2000-02-26 2000-03-01 2000-03-05 ...\n",
      "  * x        (x) float64 1.334e+07 1.334e+07 1.334e+07 1.334e+07 1.335e+07 ...\n",
      "  * y        (y) float64 -3.336e+06 -3.336e+06 -3.337e+06 -3.337e+06 ...\n"
     ]
    },
    {
     "ename": "NameError",
     "evalue": "name 'breaj' is not defined",
     "output_type": "error",
     "traceback": [
      "\u001b[0;31m---------------------------------------------------------------------------\u001b[0m",
      "\u001b[0;31mNameError\u001b[0m                                 Traceback (most recent call last)",
      "\u001b[0;32m<ipython-input-30-6b42424c23bb>\u001b[0m in \u001b[0;36m<module>\u001b[0;34m()\u001b[0m\n\u001b[1;32m      2\u001b[0m     \u001b[0mprint\u001b[0m\u001b[0;34m(\u001b[0m\u001b[0mrepr\u001b[0m\u001b[0;34m(\u001b[0m\u001b[0mvar\u001b[0m\u001b[0;34m)\u001b[0m\u001b[0;34m,\u001b[0m \u001b[0mtype\u001b[0m\u001b[0;34m(\u001b[0m\u001b[0mvar\u001b[0m\u001b[0;34m)\u001b[0m\u001b[0;34m)\u001b[0m\u001b[0;34m\u001b[0m\u001b[0m\n\u001b[1;32m      3\u001b[0m     \u001b[0mprint\u001b[0m\u001b[0;34m(\u001b[0m\u001b[0mds\u001b[0m\u001b[0;34m[\u001b[0m\u001b[0mvar\u001b[0m\u001b[0;34m]\u001b[0m\u001b[0;34m)\u001b[0m\u001b[0;34m\u001b[0m\u001b[0m\n\u001b[0;32m----> 4\u001b[0;31m     \u001b[0mbreaj\u001b[0m\u001b[0;34m\u001b[0m\u001b[0m\n\u001b[0m",
      "\u001b[0;31mNameError\u001b[0m: name 'breaj' is not defined"
     ]
    }
   ],
   "source": [
    "# for var in ds.data_vars:\n",
    "#     print(repr(var), type(var))\n",
    "#     print(ds[var])\n",
    "#     break"
   ]
  },
  {
   "cell_type": "code",
   "execution_count": null,
   "metadata": {
    "collapsed": true
   },
   "outputs": [],
   "source": []
  }
 ],
 "metadata": {
  "kernelspec": {
   "display_name": "Python 3",
   "language": "python",
   "name": "python3"
  },
  "language_info": {
   "codemirror_mode": {
    "name": "ipython",
    "version": 3
   },
   "file_extension": ".py",
   "mimetype": "text/x-python",
   "name": "python",
   "nbconvert_exporter": "python",
   "pygments_lexer": "ipython3",
   "version": "3.6.3"
  }
 },
 "nbformat": 4,
 "nbformat_minor": 2
}
