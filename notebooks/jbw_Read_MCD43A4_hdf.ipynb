{
 "cells": [
  {
   "cell_type": "code",
   "execution_count": 1,
   "metadata": {
    "collapsed": true
   },
   "outputs": [],
   "source": [
    "import os\n",
    "import re\n",
    "import glob\n",
    "import datetime\n",
    "import warnings\n",
    "\n",
    "import numpy as np\n",
    "import pandas as pd\n",
    "import xarray as xr"
   ]
  },
  {
   "cell_type": "code",
   "execution_count": 2,
   "metadata": {},
   "outputs": [
    {
     "data": {
      "text/plain": [
       "504980"
      ]
     },
     "execution_count": 2,
     "metadata": {},
     "output_type": "execute_result"
    }
   ],
   "source": [
    "## This section caches all MODIS MCD43A4 file names in the format listed below, where '?' is a wildcard\n",
    "try:\n",
    "    with open('/g/data/oe9/modis_tile_file_list.txt') as f:\n",
    "        reflectance_file_cache = sorted(l.strip() for l in f.readlines())\n",
    "except:\n",
    "    reflectance_file_cache =  sorted(glob.glob(\n",
    "        '/g/data/u39/public/data/modis/lpdaac-tiles-c6/MCD43A4.006/'\n",
    "        '????.??.??/MCD43A4.A???????.h??v??.006.*.hdf'\n",
    "    ))\n",
    "    with open('/g/data/oe9/modis_tile_file_list.txt', 'w') as f:\n",
    "        f.writelines(l + '\\n' for l in reflectance_file_cache)\n",
    "len(reflectance_file_cache)"
   ]
  },
  {
   "cell_type": "code",
   "execution_count": 3,
   "metadata": {
    "collapsed": true
   },
   "outputs": [],
   "source": [
    "## Rename the bands to something useful\n",
    "modis_band_map = {\n",
    "    'Nadir_Reflectance_Band1': 'red_630_690',\n",
    "    'Nadir_Reflectance_Band2': 'nir1_780_900',\n",
    "    'Nadir_Reflectance_Band3': 'blue_450_520',\n",
    "    'Nadir_Reflectance_Band4': 'green_530_610',\n",
    "    'Nadir_Reflectance_Band5': 'nir2_1230_1250',\n",
    "    'Nadir_Reflectance_Band6': 'swir1_1550_1750',\n",
    "    'Nadir_Reflectance_Band7': 'swir2_2090_2350',\n",
    "}\n",
    "\n",
    "## define function 'get_reflectance' whose input is tile ID 'h__v__'\n",
    "## This function searches the cached list for filenames which contain tile 'h__v__\n",
    "## outputs data as a concatenated dataset with dimensions, time, x ,y \n",
    "def get_reflectance(tile):\n",
    "    assert re.match(r'h\\d\\dv\\d\\d', tile), 'tile must be string \"h__v__\"'\n",
    "    files = [f for f in reflectance_file_cache if tile in os.path.basename(f)]\n",
    "    pattern = re.compile(r'MCD43A4.A(?P<year>\\d{4})(?P<day>\\d{3}).h\\d\\dv\\d\\d.006.\\d+.hdf')\n",
    "    dates, parts = [], []\n",
    "    for f in files:\n",
    "        assert os.path.isfile(f)\n",
    "        parts.append(xr.open_dataset(f, chunks=2400,autoclose=True))\n",
    "        year, day = pattern.match(os.path.basename(f)).groups()\n",
    "        dates.append(datetime.date(int(year), 1, 1) +\n",
    "                     datetime.timedelta(days=int(day) - 1))\n",
    "\n",
    "    dates = pd.to_datetime(dates)\n",
    "    dates.name = 'time'\n",
    "\n",
    "    ds = xr.concat(parts, dates)\n",
    "    out = xr.Dataset()\n",
    "    for i in map(str, range(1, 8)):\n",
    "        key = 'Nadir_Reflectance_Band' + i\n",
    "        data_ok = ds['BRDF_Albedo_Band_Mandatory_Quality_Band' + i] == 0\n",
    "        out[modis_band_map[key]] = ds[key].where(data_ok).astype('f4')\n",
    "\n",
    "    out.rename({'YDim:MOD_Grid_BRDF': 'y',\n",
    "                'XDim:MOD_Grid_BRDF': 'x'}, inplace=True)\n",
    "    out.time.encoding.update(dict(\n",
    "        units='days since 1900-01-01', calendar='gregorian', dtype='i4'))\n",
    "    return out"
   ]
  },
  {
   "cell_type": "code",
   "execution_count": 4,
   "metadata": {},
   "outputs": [
    {
     "name": "stdout",
     "output_type": "stream",
     "text": [
      "CPU times: user 43.6 s, sys: 43.2 s, total: 1min 26s\n",
      "Wall time: 4min 30s\n"
     ]
    }
   ],
   "source": [
    "%%time\n",
    "ds = get_reflectance('h30v12')\n",
    "ds"
   ]
  },
  {
   "cell_type": "code",
   "execution_count": 5,
   "metadata": {},
   "outputs": [
    {
     "data": {
      "text/plain": [
       "<xarray.Dataset>\n",
       "Dimensions:          (time: 1643, x: 2400, y: 2400)\n",
       "Coordinates:\n",
       "  * time             (time) datetime64[ns] 2000-02-26 2000-03-01 2000-03-05 ...\n",
       "Dimensions without coordinates: x, y\n",
       "Data variables:\n",
       "    red_630_690      (time, y, x) float32 dask.array<shape=(1643, 2400, 2400), chunksize=(1, 2400, 2400)>\n",
       "    nir1_780_900     (time, y, x) float32 dask.array<shape=(1643, 2400, 2400), chunksize=(1, 2400, 2400)>\n",
       "    blue_450_520     (time, y, x) float32 dask.array<shape=(1643, 2400, 2400), chunksize=(1, 2400, 2400)>\n",
       "    green_530_610    (time, y, x) float32 dask.array<shape=(1643, 2400, 2400), chunksize=(1, 2400, 2400)>\n",
       "    nir2_1230_1250   (time, y, x) float32 dask.array<shape=(1643, 2400, 2400), chunksize=(1, 2400, 2400)>\n",
       "    swir1_1550_1750  (time, y, x) float32 dask.array<shape=(1643, 2400, 2400), chunksize=(1, 2400, 2400)>\n",
       "    swir2_2090_2350  (time, y, x) float32 dask.array<shape=(1643, 2400, 2400), chunksize=(1, 2400, 2400)>"
      ]
     },
     "execution_count": 5,
     "metadata": {},
     "output_type": "execute_result"
    }
   ],
   "source": [
    "ds"
   ]
  },
  {
   "cell_type": "code",
   "execution_count": 6,
   "metadata": {},
   "outputs": [
    {
     "data": {
      "text/plain": [
       "<xarray.DataArray 'x' (x: 2400)>\n",
       "array([   0,    1,    2, ..., 2397, 2398, 2399])\n",
       "Dimensions without coordinates: x"
      ]
     },
     "execution_count": 6,
     "metadata": {},
     "output_type": "execute_result"
    }
   ],
   "source": [
    "ds.x"
   ]
  },
  {
   "cell_type": "code",
   "execution_count": null,
   "metadata": {
    "collapsed": true
   },
   "outputs": [],
   "source": []
  }
 ],
 "metadata": {
  "kernelspec": {
   "display_name": "Python 3",
   "language": "python",
   "name": "python3"
  },
  "language_info": {
   "codemirror_mode": {
    "name": "ipython",
    "version": 3
   },
   "file_extension": ".py",
   "mimetype": "text/x-python",
   "name": "python",
   "nbconvert_exporter": "python",
   "pygments_lexer": "ipython3",
   "version": "3.6.3"
  }
 },
 "nbformat": 4,
 "nbformat_minor": 2
}
