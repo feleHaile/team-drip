{
 "cells": [
  {
   "cell_type": "markdown",
   "metadata": {},
   "source": [
    "## Accessing Data Cube\n",
    "To begin, run following in terminal:\n",
    "$ module load agdc-py3-prod\n",
    "\n",
    "\n",
    "\n",
    "Then run 'jupyter notebook' from same terminal.\n"
   ]
  },
  {
   "cell_type": "code",
   "execution_count": 1,
   "metadata": {},
   "outputs": [],
   "source": [
    "%matplotlib inline\n",
    "import datacube\n",
    "import pandas\n",
    "pandas.set_option('display.max_colwidth', 200)\n",
    "pandas.set_option('display.max_rows', None)\n",
    "from datacube.storage.masking import mask_invalid_data"
   ]
  },
  {
   "cell_type": "code",
   "execution_count": 2,
   "metadata": {},
   "outputs": [
    {
     "data": {
      "text/plain": [
       "Datacube<index=Index<db=PostgresDb<engine=Engine(postgresql://jbw156@130.56.244.105:6432/datacube)>>>"
      ]
     },
     "execution_count": 2,
     "metadata": {},
     "output_type": "execute_result"
    }
   ],
   "source": [
    "#app is a note to let GA know what we are doing with it, user-defined\n",
    "#when loading data, #make sure data is on same coordinate scale or convert \n",
    "dc=datacube.Datacube(app='learn-data-access')\n",
    "dc"
   ]
  },
  {
   "cell_type": "code",
   "execution_count": 3,
   "metadata": {},
   "outputs": [
    {
     "data": {
      "text/plain": [
       "['name',\n",
       " 'description',\n",
       " 'gqa_ref_source',\n",
       " 'gqa_error_message',\n",
       " 'gqa',\n",
       " 'lon',\n",
       " 'format',\n",
       " 'gqa_iterative_stddev_xy',\n",
       " 'gqa_stddev_xy',\n",
       " 'instrument',\n",
       " 'product_type',\n",
       " 'gqa_final_gcp_count',\n",
       " 'gqa_abs_iterative_mean_xy',\n",
       " 'gqa_cep90',\n",
       " 'gqa_abs_xy',\n",
       " 'sat_path',\n",
       " 'orbit',\n",
       " 'gqa_iterative_mean_xy',\n",
       " 'sat_row',\n",
       " 'time',\n",
       " 'ancillary_quality',\n",
       " 'gqa_mean_xy',\n",
       " 'gsi',\n",
       " 'lat',\n",
       " 'platform',\n",
       " 'crs',\n",
       " 'resolution',\n",
       " 'tile_size',\n",
       " 'spatial_dimensions']"
      ]
     },
     "execution_count": 3,
     "metadata": {},
     "output_type": "execute_result"
    }
   ],
   "source": [
    "products = dc.list_products()\n",
    "products.columns.tolist()\n"
   ]
  },
  {
   "cell_type": "code",
   "execution_count": 5,
   "metadata": {},
   "outputs": [
    {
     "data": {
      "text/html": [
       "<div>\n",
       "<style scoped>\n",
       "    .dataframe tbody tr th:only-of-type {\n",
       "        vertical-align: middle;\n",
       "    }\n",
       "\n",
       "    .dataframe tbody tr th {\n",
       "        vertical-align: top;\n",
       "    }\n",
       "\n",
       "    .dataframe thead th {\n",
       "        text-align: right;\n",
       "    }\n",
       "</style>\n",
       "<table border=\"1\" class=\"dataframe\">\n",
       "  <thead>\n",
       "    <tr style=\"text-align: right;\">\n",
       "      <th></th>\n",
       "      <th>name</th>\n",
       "      <th>description</th>\n",
       "      <th>platform</th>\n",
       "      <th>product_type</th>\n",
       "      <th>instrument</th>\n",
       "      <th>crs</th>\n",
       "      <th>resolution</th>\n",
       "    </tr>\n",
       "    <tr>\n",
       "      <th>id</th>\n",
       "      <th></th>\n",
       "      <th></th>\n",
       "      <th></th>\n",
       "      <th></th>\n",
       "      <th></th>\n",
       "      <th></th>\n",
       "      <th></th>\n",
       "    </tr>\n",
       "  </thead>\n",
       "  <tbody>\n",
       "    <tr>\n",
       "      <th>6</th>\n",
       "      <td>ls5_nbar_albers</td>\n",
       "      <td>Landsat 5 Surface Reflectance NBAR 25 metre, 100km tile, Australian Albers Equal Area projection (EPSG:3577)</td>\n",
       "      <td>LANDSAT_5</td>\n",
       "      <td>nbar</td>\n",
       "      <td>TM</td>\n",
       "      <td>EPSG:3577</td>\n",
       "      <td>[-25, 25]</td>\n",
       "    </tr>\n",
       "    <tr>\n",
       "      <th>21</th>\n",
       "      <td>ls7_nbar_albers</td>\n",
       "      <td>Landsat 7 Surface Reflectance NBAR 25 metre, 100km tile, Australian Albers Equal Area projection (EPSG:3577)</td>\n",
       "      <td>LANDSAT_7</td>\n",
       "      <td>nbar</td>\n",
       "      <td>ETM</td>\n",
       "      <td>EPSG:3577</td>\n",
       "      <td>[-25, 25]</td>\n",
       "    </tr>\n",
       "    <tr>\n",
       "      <th>19</th>\n",
       "      <td>ls8_nbar_albers</td>\n",
       "      <td>Landsat 8 Surface Reflectance NBAR 25 metre, 100km tile, Australian Albers Equal Area projection (EPSG:3577)</td>\n",
       "      <td>LANDSAT_8</td>\n",
       "      <td>nbar</td>\n",
       "      <td>OLI_TIRS</td>\n",
       "      <td>EPSG:3577</td>\n",
       "      <td>[-25, 25]</td>\n",
       "    </tr>\n",
       "    <tr>\n",
       "      <th>60</th>\n",
       "      <td>ls8_nbar_oli_albers</td>\n",
       "      <td>Landsat 8 Surface Reflectance NBAR 25 metre, 100km tile, Australian Albers Equal Area projection (EPSG:3577)</td>\n",
       "      <td>LANDSAT_8</td>\n",
       "      <td>nbar</td>\n",
       "      <td>OLI</td>\n",
       "      <td>EPSG:3577</td>\n",
       "      <td>[-25, 25]</td>\n",
       "    </tr>\n",
       "  </tbody>\n",
       "</table>\n",
       "</div>"
      ],
      "text/plain": [
       "                   name  \\\n",
       "id                        \n",
       "6       ls5_nbar_albers   \n",
       "21      ls7_nbar_albers   \n",
       "19      ls8_nbar_albers   \n",
       "60  ls8_nbar_oli_albers   \n",
       "\n",
       "                                                                                                     description  \\\n",
       "id                                                                                                                 \n",
       "6   Landsat 5 Surface Reflectance NBAR 25 metre, 100km tile, Australian Albers Equal Area projection (EPSG:3577)   \n",
       "21  Landsat 7 Surface Reflectance NBAR 25 metre, 100km tile, Australian Albers Equal Area projection (EPSG:3577)   \n",
       "19  Landsat 8 Surface Reflectance NBAR 25 metre, 100km tile, Australian Albers Equal Area projection (EPSG:3577)   \n",
       "60  Landsat 8 Surface Reflectance NBAR 25 metre, 100km tile, Australian Albers Equal Area projection (EPSG:3577)   \n",
       "\n",
       "     platform product_type instrument        crs resolution  \n",
       "id                                                           \n",
       "6   LANDSAT_5         nbar         TM  EPSG:3577  [-25, 25]  \n",
       "21  LANDSAT_7         nbar        ETM  EPSG:3577  [-25, 25]  \n",
       "19  LANDSAT_8         nbar   OLI_TIRS  EPSG:3577  [-25, 25]  \n",
       "60  LANDSAT_8         nbar        OLI  EPSG:3577  [-25, 25]  "
      ]
     },
     "execution_count": 5,
     "metadata": {},
     "output_type": "execute_result"
    }
   ],
   "source": [
    "display_columns = ['name', 'description', 'platform', 'product_type', 'instrument', 'crs', 'resolution']\n",
    "# #list only nbar products\n",
    "nbar_list = products[products['product_type'] == 'nbar'][display_columns].dropna()\n",
    "# productlist = products[display_columns].dropna()\n",
    "nbar_list"
   ]
  },
  {
   "cell_type": "code",
   "execution_count": 6,
   "metadata": {},
   "outputs": [
    {
     "data": {
      "text/plain": [
       "['aliases',\n",
       " 'dtype',\n",
       " 'flags_definition',\n",
       " 'name',\n",
       " 'nodata',\n",
       " 'spectral_definition',\n",
       " 'units']"
      ]
     },
     "execution_count": 6,
     "metadata": {},
     "output_type": "execute_result"
    }
   ],
   "source": [
    "measurements = dc.list_measurements()\n",
    "measurements.columns.tolist()"
   ]
  },
  {
   "cell_type": "code",
   "execution_count": 7,
   "metadata": {},
   "outputs": [
    {
     "data": {
      "text/html": [
       "<div>\n",
       "<style scoped>\n",
       "    .dataframe tbody tr th:only-of-type {\n",
       "        vertical-align: middle;\n",
       "    }\n",
       "\n",
       "    .dataframe tbody tr th {\n",
       "        vertical-align: top;\n",
       "    }\n",
       "\n",
       "    .dataframe thead th {\n",
       "        text-align: right;\n",
       "    }\n",
       "</style>\n",
       "<table border=\"1\" class=\"dataframe\">\n",
       "  <thead>\n",
       "    <tr style=\"text-align: right;\">\n",
       "      <th></th>\n",
       "      <th>units</th>\n",
       "      <th>nodata</th>\n",
       "      <th>aliases</th>\n",
       "    </tr>\n",
       "    <tr>\n",
       "      <th>measurement</th>\n",
       "      <th></th>\n",
       "      <th></th>\n",
       "      <th></th>\n",
       "    </tr>\n",
       "  </thead>\n",
       "  <tbody>\n",
       "    <tr>\n",
       "      <th>coastal_aerosol</th>\n",
       "      <td>1</td>\n",
       "      <td>-999</td>\n",
       "      <td>[band_1, coastal_aerosol]</td>\n",
       "    </tr>\n",
       "    <tr>\n",
       "      <th>blue</th>\n",
       "      <td>1</td>\n",
       "      <td>-999</td>\n",
       "      <td>[band_2, blue]</td>\n",
       "    </tr>\n",
       "    <tr>\n",
       "      <th>green</th>\n",
       "      <td>1</td>\n",
       "      <td>-999</td>\n",
       "      <td>[band_3, green]</td>\n",
       "    </tr>\n",
       "    <tr>\n",
       "      <th>red</th>\n",
       "      <td>1</td>\n",
       "      <td>-999</td>\n",
       "      <td>[band_4, red]</td>\n",
       "    </tr>\n",
       "    <tr>\n",
       "      <th>nir</th>\n",
       "      <td>1</td>\n",
       "      <td>-999</td>\n",
       "      <td>[band_5, nir]</td>\n",
       "    </tr>\n",
       "    <tr>\n",
       "      <th>swir1</th>\n",
       "      <td>1</td>\n",
       "      <td>-999</td>\n",
       "      <td>[band_6, swir1]</td>\n",
       "    </tr>\n",
       "    <tr>\n",
       "      <th>swir2</th>\n",
       "      <td>1</td>\n",
       "      <td>-999</td>\n",
       "      <td>[band_7, swir2]</td>\n",
       "    </tr>\n",
       "  </tbody>\n",
       "</table>\n",
       "</div>"
      ],
      "text/plain": [
       "                units nodata                    aliases\n",
       "measurement                                            \n",
       "coastal_aerosol     1   -999  [band_1, coastal_aerosol]\n",
       "blue                1   -999             [band_2, blue]\n",
       "green               1   -999            [band_3, green]\n",
       "red                 1   -999              [band_4, red]\n",
       "nir                 1   -999              [band_5, nir]\n",
       "swir1               1   -999            [band_6, swir1]\n",
       "swir2               1   -999            [band_7, swir2]"
      ]
     },
     "execution_count": 7,
     "metadata": {},
     "output_type": "execute_result"
    }
   ],
   "source": [
    "display_columns = ['units', 'nodata', 'aliases']\n",
    "# display meausrements for one product\n",
    "measurements[display_columns].loc['ls8_nbar_albers']\n"
   ]
  },
  {
   "cell_type": "code",
   "execution_count": 8,
   "metadata": {},
   "outputs": [
    {
     "data": {
      "text/html": [
       "<div>\n",
       "<style scoped>\n",
       "    .dataframe tbody tr th:only-of-type {\n",
       "        vertical-align: middle;\n",
       "    }\n",
       "\n",
       "    .dataframe tbody tr th {\n",
       "        vertical-align: top;\n",
       "    }\n",
       "\n",
       "    .dataframe thead th {\n",
       "        text-align: right;\n",
       "    }\n",
       "</style>\n",
       "<table border=\"1\" class=\"dataframe\">\n",
       "  <thead>\n",
       "    <tr style=\"text-align: right;\">\n",
       "      <th></th>\n",
       "      <th></th>\n",
       "      <th>units</th>\n",
       "      <th>nodata</th>\n",
       "      <th>aliases</th>\n",
       "    </tr>\n",
       "    <tr>\n",
       "      <th>product</th>\n",
       "      <th>measurement</th>\n",
       "      <th></th>\n",
       "      <th></th>\n",
       "      <th></th>\n",
       "    </tr>\n",
       "  </thead>\n",
       "  <tbody>\n",
       "    <tr>\n",
       "      <th rowspan=\"6\" valign=\"top\">ls5_nbar_albers</th>\n",
       "      <th>blue</th>\n",
       "      <td>1</td>\n",
       "      <td>-999</td>\n",
       "      <td>[band_1, blue]</td>\n",
       "    </tr>\n",
       "    <tr>\n",
       "      <th>green</th>\n",
       "      <td>1</td>\n",
       "      <td>-999</td>\n",
       "      <td>[band_2, green]</td>\n",
       "    </tr>\n",
       "    <tr>\n",
       "      <th>red</th>\n",
       "      <td>1</td>\n",
       "      <td>-999</td>\n",
       "      <td>[band_3, red]</td>\n",
       "    </tr>\n",
       "    <tr>\n",
       "      <th>nir</th>\n",
       "      <td>1</td>\n",
       "      <td>-999</td>\n",
       "      <td>[band_4, nir]</td>\n",
       "    </tr>\n",
       "    <tr>\n",
       "      <th>swir1</th>\n",
       "      <td>1</td>\n",
       "      <td>-999</td>\n",
       "      <td>[band_5, swir1]</td>\n",
       "    </tr>\n",
       "    <tr>\n",
       "      <th>swir2</th>\n",
       "      <td>1</td>\n",
       "      <td>-999</td>\n",
       "      <td>[band_7, swir2]</td>\n",
       "    </tr>\n",
       "    <tr>\n",
       "      <th rowspan=\"6\" valign=\"top\">ls7_nbar_albers</th>\n",
       "      <th>blue</th>\n",
       "      <td>1</td>\n",
       "      <td>-999</td>\n",
       "      <td>[band_1, blue]</td>\n",
       "    </tr>\n",
       "    <tr>\n",
       "      <th>green</th>\n",
       "      <td>1</td>\n",
       "      <td>-999</td>\n",
       "      <td>[band_2, green]</td>\n",
       "    </tr>\n",
       "    <tr>\n",
       "      <th>red</th>\n",
       "      <td>1</td>\n",
       "      <td>-999</td>\n",
       "      <td>[band_3, red]</td>\n",
       "    </tr>\n",
       "    <tr>\n",
       "      <th>nir</th>\n",
       "      <td>1</td>\n",
       "      <td>-999</td>\n",
       "      <td>[band_4, nir]</td>\n",
       "    </tr>\n",
       "    <tr>\n",
       "      <th>swir1</th>\n",
       "      <td>1</td>\n",
       "      <td>-999</td>\n",
       "      <td>[band_5, swir1]</td>\n",
       "    </tr>\n",
       "    <tr>\n",
       "      <th>swir2</th>\n",
       "      <td>1</td>\n",
       "      <td>-999</td>\n",
       "      <td>[band_7, swir2]</td>\n",
       "    </tr>\n",
       "    <tr>\n",
       "      <th rowspan=\"7\" valign=\"top\">ls8_nbar_albers</th>\n",
       "      <th>coastal_aerosol</th>\n",
       "      <td>1</td>\n",
       "      <td>-999</td>\n",
       "      <td>[band_1, coastal_aerosol]</td>\n",
       "    </tr>\n",
       "    <tr>\n",
       "      <th>blue</th>\n",
       "      <td>1</td>\n",
       "      <td>-999</td>\n",
       "      <td>[band_2, blue]</td>\n",
       "    </tr>\n",
       "    <tr>\n",
       "      <th>green</th>\n",
       "      <td>1</td>\n",
       "      <td>-999</td>\n",
       "      <td>[band_3, green]</td>\n",
       "    </tr>\n",
       "    <tr>\n",
       "      <th>red</th>\n",
       "      <td>1</td>\n",
       "      <td>-999</td>\n",
       "      <td>[band_4, red]</td>\n",
       "    </tr>\n",
       "    <tr>\n",
       "      <th>nir</th>\n",
       "      <td>1</td>\n",
       "      <td>-999</td>\n",
       "      <td>[band_5, nir]</td>\n",
       "    </tr>\n",
       "    <tr>\n",
       "      <th>swir1</th>\n",
       "      <td>1</td>\n",
       "      <td>-999</td>\n",
       "      <td>[band_6, swir1]</td>\n",
       "    </tr>\n",
       "    <tr>\n",
       "      <th>swir2</th>\n",
       "      <td>1</td>\n",
       "      <td>-999</td>\n",
       "      <td>[band_7, swir2]</td>\n",
       "    </tr>\n",
       "    <tr>\n",
       "      <th rowspan=\"7\" valign=\"top\">ls8_nbar_oli_albers</th>\n",
       "      <th>coastal_aerosol</th>\n",
       "      <td>1</td>\n",
       "      <td>-999</td>\n",
       "      <td>[band_1, coastal_aerosol]</td>\n",
       "    </tr>\n",
       "    <tr>\n",
       "      <th>blue</th>\n",
       "      <td>1</td>\n",
       "      <td>-999</td>\n",
       "      <td>[band_2, blue]</td>\n",
       "    </tr>\n",
       "    <tr>\n",
       "      <th>green</th>\n",
       "      <td>1</td>\n",
       "      <td>-999</td>\n",
       "      <td>[band_3, green]</td>\n",
       "    </tr>\n",
       "    <tr>\n",
       "      <th>red</th>\n",
       "      <td>1</td>\n",
       "      <td>-999</td>\n",
       "      <td>[band_4, red]</td>\n",
       "    </tr>\n",
       "    <tr>\n",
       "      <th>nir</th>\n",
       "      <td>1</td>\n",
       "      <td>-999</td>\n",
       "      <td>[band_5, nir]</td>\n",
       "    </tr>\n",
       "    <tr>\n",
       "      <th>swir1</th>\n",
       "      <td>1</td>\n",
       "      <td>-999</td>\n",
       "      <td>[band_6, swir1]</td>\n",
       "    </tr>\n",
       "    <tr>\n",
       "      <th>swir2</th>\n",
       "      <td>1</td>\n",
       "      <td>-999</td>\n",
       "      <td>[band_7, swir2]</td>\n",
       "    </tr>\n",
       "  </tbody>\n",
       "</table>\n",
       "</div>"
      ],
      "text/plain": [
       "                                    units nodata                    aliases\n",
       "product             measurement                                            \n",
       "ls5_nbar_albers     blue                1   -999             [band_1, blue]\n",
       "                    green               1   -999            [band_2, green]\n",
       "                    red                 1   -999              [band_3, red]\n",
       "                    nir                 1   -999              [band_4, nir]\n",
       "                    swir1               1   -999            [band_5, swir1]\n",
       "                    swir2               1   -999            [band_7, swir2]\n",
       "ls7_nbar_albers     blue                1   -999             [band_1, blue]\n",
       "                    green               1   -999            [band_2, green]\n",
       "                    red                 1   -999              [band_3, red]\n",
       "                    nir                 1   -999              [band_4, nir]\n",
       "                    swir1               1   -999            [band_5, swir1]\n",
       "                    swir2               1   -999            [band_7, swir2]\n",
       "ls8_nbar_albers     coastal_aerosol     1   -999  [band_1, coastal_aerosol]\n",
       "                    blue                1   -999             [band_2, blue]\n",
       "                    green               1   -999            [band_3, green]\n",
       "                    red                 1   -999              [band_4, red]\n",
       "                    nir                 1   -999              [band_5, nir]\n",
       "                    swir1               1   -999            [band_6, swir1]\n",
       "                    swir2               1   -999            [band_7, swir2]\n",
       "ls8_nbar_oli_albers coastal_aerosol     1   -999  [band_1, coastal_aerosol]\n",
       "                    blue                1   -999             [band_2, blue]\n",
       "                    green               1   -999            [band_3, green]\n",
       "                    red                 1   -999              [band_4, red]\n",
       "                    nir                 1   -999              [band_5, nir]\n",
       "                    swir1               1   -999            [band_6, swir1]\n",
       "                    swir2               1   -999            [band_7, swir2]"
      ]
     },
     "execution_count": 8,
     "metadata": {},
     "output_type": "execute_result"
    }
   ],
   "source": [
    "#display measurements in all nbar products\n",
    "m_list = nbar_list.name.tolist() #list of nbar measurements\n",
    "measurements[display_columns].loc[m_list]"
   ]
  },
  {
   "cell_type": "code",
   "execution_count": 28,
   "metadata": {},
   "outputs": [],
   "source": [
    "query = {\n",
    "    'time': ('2013-01-01', '2014-12-31'),\n",
    "    'lat': (-35.2, -35.3),\n",
    "    'lon': (149.0, 149.1),\n",
    "}\n",
    "#for landsat, even 1x1 degree for 4 yrs is too much data"
   ]
  },
  {
   "cell_type": "code",
   "execution_count": 29,
   "metadata": {},
   "outputs": [],
   "source": [
    "# attempt landsat\n",
    "#2 stars unpack the limits of our query, we load specific measurements from a product\n",
    "data = dc.load(product='ls8_nbar_albers', measurements=['red','nir'], **query)\n",
    "#mask invalid data removes clouds/shadows\n"
   ]
  },
  {
   "cell_type": "code",
   "execution_count": 30,
   "metadata": {},
   "outputs": [
    {
     "data": {
      "text/plain": [
       "<xarray.Dataset>\n",
       "Dimensions:  (time: 110, x: 420, y: 490)\n",
       "Coordinates:\n",
       "  * time     (time) datetime64[ns] 2013-04-18T23:52:06 2013-04-18T23:52:30 ...\n",
       "  * y        (y) float64 -3.947e+06 -3.947e+06 -3.947e+06 -3.947e+06 ...\n",
       "  * x        (x) float64 1.539e+06 1.539e+06 1.539e+06 1.539e+06 1.539e+06 ...\n",
       "Data variables:\n",
       "    red      (time, y, x) float64 1.561e+03 1.516e+03 1.638e+03 1.687e+03 ...\n",
       "    nir      (time, y, x) float64 3.378e+03 3.378e+03 3.568e+03 3.637e+03 ...\n",
       "Attributes:\n",
       "    crs:      EPSG:3577"
      ]
     },
     "execution_count": 30,
     "metadata": {},
     "output_type": "execute_result"
    }
   ],
   "source": [
    "data = mask_invalid_data(data)\n",
    "data"
   ]
  },
  {
   "cell_type": "code",
   "execution_count": 31,
   "metadata": {
    "scrolled": true
   },
   "outputs": [
    {
     "data": {
      "text/plain": [
       "<xarray.DataArray 'time' (time: 110)>\n",
       "array(['2013-04-18T23:52:06.000000000', '2013-04-18T23:52:30.000000000',\n",
       "       '2013-04-25T23:58:13.500000000', '2013-05-20T23:52:19.000000000',\n",
       "       '2013-05-20T23:52:43.000000000', '2013-05-27T23:58:31.500000000',\n",
       "       '2013-06-05T23:52:20.000000000', '2013-06-05T23:52:44.000000000',\n",
       "       '2013-06-12T23:58:28.000000000', '2013-06-21T23:52:12.000000000',\n",
       "       '2013-06-21T23:52:36.000000000', '2013-06-28T23:58:26.000000000',\n",
       "       '2013-07-07T23:52:17.000000000', '2013-07-07T23:52:41.000000000',\n",
       "       '2013-07-14T23:58:27.000000000', '2013-07-23T23:52:15.500000000',\n",
       "       '2013-07-23T23:52:39.000000000', '2013-07-30T23:58:28.000000000',\n",
       "       '2013-08-08T23:52:18.000000000', '2013-08-08T23:52:42.000000000',\n",
       "       '2013-08-15T23:58:28.500000000', '2013-08-24T23:52:20.000000000',\n",
       "       '2013-08-24T23:52:44.000000000', '2013-08-31T23:58:31.000000000',\n",
       "       '2013-09-09T23:52:18.000000000', '2013-09-09T23:52:42.000000000',\n",
       "       '2013-09-16T23:58:26.000000000', '2013-09-25T23:52:10.000000000',\n",
       "       '2013-09-25T23:52:34.000000000', '2013-10-11T23:52:10.000000000',\n",
       "       '2013-10-11T23:52:34.000000000', '2013-10-27T23:52:00.000000000',\n",
       "       '2013-10-27T23:52:14.013319000', '2013-11-03T23:58:13.000000000',\n",
       "       '2013-11-12T23:52:01.000000000', '2013-11-12T23:52:24.500000000',\n",
       "       '2013-11-19T23:58:06.000000000', '2013-11-28T23:51:54.500000000',\n",
       "       '2013-11-28T23:52:18.500000000', '2013-12-05T23:58:05.500000000',\n",
       "       '2013-12-14T23:51:50.000000000', '2013-12-14T23:52:14.000000000',\n",
       "       '2013-12-21T23:57:56.000000000', '2013-12-30T23:51:42.000000000',\n",
       "       '2013-12-30T23:52:06.000000000', '2014-01-06T23:57:47.000000000',\n",
       "       '2014-01-15T23:51:26.000000000', '2014-01-15T23:51:50.000000000',\n",
       "       '2014-01-22T23:57:36.000000000', '2014-01-31T23:51:21.000000000',\n",
       "       '2014-01-31T23:51:45.000000000', '2014-02-07T23:57:26.000000000',\n",
       "       '2014-02-16T23:51:07.000000000', '2014-02-16T23:51:31.000000000',\n",
       "       '2014-02-23T23:57:13.000000000', '2014-03-04T23:50:51.500000000',\n",
       "       '2014-03-04T23:51:15.500000000', '2014-03-11T23:57:01.000000000',\n",
       "       '2014-03-20T23:50:42.000000000', '2014-03-20T23:51:06.000000000',\n",
       "       '2014-03-27T23:56:42.500000000', '2014-04-05T23:50:27.000000000',\n",
       "       '2014-04-05T23:50:51.000000000', '2014-04-12T23:56:30.000000000',\n",
       "       '2014-04-21T23:50:10.500000000', '2014-04-21T23:50:34.500000000',\n",
       "       '2014-04-28T23:56:15.000000000', '2014-05-07T23:49:54.500000000',\n",
       "       '2014-05-07T23:50:18.500000000', '2014-05-14T23:56:01.000000000',\n",
       "       '2014-05-23T23:49:47.000000000', '2014-05-23T23:50:11.000000000',\n",
       "       '2014-05-30T23:56:04.000000000', '2014-06-08T23:49:58.000000000',\n",
       "       '2014-06-08T23:50:22.000000000', '2014-06-15T23:56:11.000000000',\n",
       "       '2014-06-24T23:50:00.000000000', '2014-06-24T23:50:24.000000000',\n",
       "       '2014-07-01T23:56:15.000000000', '2014-07-10T23:50:09.000000000',\n",
       "       '2014-07-10T23:50:33.000000000', '2014-07-17T23:56:21.000000000',\n",
       "       '2014-07-26T23:50:12.000000000', '2014-07-26T23:50:36.000000000',\n",
       "       '2014-08-02T23:56:27.500000000', '2014-08-11T23:50:20.500000000',\n",
       "       '2014-08-11T23:50:44.500000000', '2014-08-18T23:56:33.000000000',\n",
       "       '2014-08-27T23:50:22.000000000', '2014-08-27T23:50:46.000000000',\n",
       "       '2014-09-03T23:56:35.000000000', '2014-09-12T23:50:26.000000000',\n",
       "       '2014-09-12T23:50:50.000000000', '2014-09-19T23:56:35.000000000',\n",
       "       '2014-09-28T23:50:25.500000000', '2014-09-28T23:50:49.500000000',\n",
       "       '2014-10-05T23:56:40.000000000', '2014-10-21T23:56:42.000000000',\n",
       "       '2014-10-30T23:50:27.500000000', '2014-10-30T23:50:51.000000000',\n",
       "       '2014-11-06T23:56:42.000000000', '2014-11-15T23:50:30.000000000',\n",
       "       '2014-11-15T23:50:54.000000000', '2014-11-22T23:56:38.500000000',\n",
       "       '2014-12-01T23:50:29.000000000', '2014-12-01T23:50:53.000000000',\n",
       "       '2014-12-08T23:56:35.000000000', '2014-12-17T23:50:25.000000000',\n",
       "       '2014-12-17T23:50:49.000000000', '2014-12-24T23:56:34.500000000'], dtype='datetime64[ns]')\n",
       "Coordinates:\n",
       "  * time     (time) datetime64[ns] 2013-04-18T23:52:06 2013-04-18T23:52:30 ...\n",
       "Attributes:\n",
       "    units:    seconds since 1970-01-01 00:00:00"
      ]
     },
     "execution_count": 31,
     "metadata": {},
     "output_type": "execute_result"
    }
   ],
   "source": [
    "data.time"
   ]
  },
  {
   "cell_type": "code",
   "execution_count": 23,
   "metadata": {},
   "outputs": [
    {
     "ename": "MemoryError",
     "evalue": "",
     "output_type": "error",
     "traceback": [
      "\u001b[0;31m---------------------------------------------------------------------------\u001b[0m",
      "\u001b[0;31mMemoryError\u001b[0m                               Traceback (most recent call last)",
      "\u001b[0;32m<ipython-input-23-bdb6273b5d36>\u001b[0m in \u001b[0;36m<module>\u001b[0;34m()\u001b[0m\n\u001b[0;32m----> 1\u001b[0;31m \u001b[0mndvi\u001b[0m \u001b[0;34m=\u001b[0m \u001b[0;34m(\u001b[0m\u001b[0mdata\u001b[0m\u001b[0;34m.\u001b[0m\u001b[0mnir\u001b[0m\u001b[0;34m-\u001b[0m\u001b[0mdata\u001b[0m\u001b[0;34m.\u001b[0m\u001b[0mred\u001b[0m\u001b[0;34m)\u001b[0m\u001b[0;34m/\u001b[0m\u001b[0;34m(\u001b[0m\u001b[0mdata\u001b[0m\u001b[0;34m.\u001b[0m\u001b[0mnir\u001b[0m\u001b[0;34m+\u001b[0m\u001b[0mdata\u001b[0m\u001b[0;34m.\u001b[0m\u001b[0mred\u001b[0m\u001b[0;34m)\u001b[0m\u001b[0;34m\u001b[0m\u001b[0m\n\u001b[0m\u001b[1;32m      2\u001b[0m \u001b[0mndvi\u001b[0m\u001b[0;34m\u001b[0m\u001b[0m\n",
      "\u001b[0;32m/g/data/v10/public/modules/agdc-py3-env/20171214/envs/agdc/lib/python3.6/site-packages/xarray/core/dataarray.py\u001b[0m in \u001b[0;36mfunc\u001b[0;34m(self, other)\u001b[0m\n\u001b[1;32m   1631\u001b[0m \u001b[0;34m\u001b[0m\u001b[0m\n\u001b[1;32m   1632\u001b[0m             variable = (f(self.variable, other_variable)\n\u001b[0;32m-> 1633\u001b[0;31m                         \u001b[0;32mif\u001b[0m \u001b[0;32mnot\u001b[0m \u001b[0mreflexive\u001b[0m\u001b[0;34m\u001b[0m\u001b[0m\n\u001b[0m\u001b[1;32m   1634\u001b[0m                         else f(other_variable, self.variable))\n\u001b[1;32m   1635\u001b[0m             \u001b[0mcoords\u001b[0m \u001b[0;34m=\u001b[0m \u001b[0mself\u001b[0m\u001b[0;34m.\u001b[0m\u001b[0mcoords\u001b[0m\u001b[0;34m.\u001b[0m\u001b[0m_merge_raw\u001b[0m\u001b[0;34m(\u001b[0m\u001b[0mother_coords\u001b[0m\u001b[0;34m)\u001b[0m\u001b[0;34m\u001b[0m\u001b[0m\n",
      "\u001b[0;32m/g/data/v10/public/modules/agdc-py3-env/20171214/envs/agdc/lib/python3.6/site-packages/xarray/core/variable.py\u001b[0m in \u001b[0;36mfunc\u001b[0;34m(self, other)\u001b[0m\n\u001b[1;32m   1403\u001b[0m             \u001b[0;32mwith\u001b[0m \u001b[0mnp\u001b[0m\u001b[0;34m.\u001b[0m\u001b[0merrstate\u001b[0m\u001b[0;34m(\u001b[0m\u001b[0mall\u001b[0m\u001b[0;34m=\u001b[0m\u001b[0;34m'ignore'\u001b[0m\u001b[0;34m)\u001b[0m\u001b[0;34m:\u001b[0m\u001b[0;34m\u001b[0m\u001b[0m\n\u001b[1;32m   1404\u001b[0m                 new_data = (f(self_data, other_data)\n\u001b[0;32m-> 1405\u001b[0;31m                             \u001b[0;32mif\u001b[0m \u001b[0;32mnot\u001b[0m \u001b[0mreflexive\u001b[0m\u001b[0;34m\u001b[0m\u001b[0m\n\u001b[0m\u001b[1;32m   1406\u001b[0m                             else f(other_data, self_data))\n\u001b[1;32m   1407\u001b[0m             \u001b[0mresult\u001b[0m \u001b[0;34m=\u001b[0m \u001b[0mVariable\u001b[0m\u001b[0;34m(\u001b[0m\u001b[0mdims\u001b[0m\u001b[0;34m,\u001b[0m \u001b[0mnew_data\u001b[0m\u001b[0;34m)\u001b[0m\u001b[0;34m\u001b[0m\u001b[0m\n",
      "\u001b[0;31mMemoryError\u001b[0m: "
     ]
    }
   ],
   "source": [
    "ndvi = (data.nir-data.red)/(data.nir+data.red)\n",
    "ndvi"
   ]
  },
  {
   "cell_type": "code",
   "execution_count": 21,
   "metadata": {},
   "outputs": [
    {
     "data": {
      "text/plain": [
       "<matplotlib.image.AxesImage at 0x7f44aa1d19b0>"
      ]
     },
     "execution_count": 21,
     "metadata": {},
     "output_type": "execute_result"
    },
    {
     "data": {
      "image/png": "[encoded data removed]",
      "text/plain": [
       "<matplotlib.figure.Figure at 0x7f44a675f908>"
      ]
     },
     "metadata": {},
     "output_type": "display_data"
    }
   ],
   "source": [
    "data.green.isel(time=6).plot.imshow(robust=True) "
   ]
  },
  {
   "cell_type": "code",
   "execution_count": 25,
   "metadata": {},
   "outputs": [
    {
     "data": {
      "text/plain": [
       "<xarray.Dataset>\n",
       "Dimensions:  ()\n",
       "Data variables:\n",
       "    *empty*"
      ]
     },
     "execution_count": 25,
     "metadata": {},
     "output_type": "execute_result"
    }
   ],
   "source": [
    "# ## attempt MODIS\n",
    "# #2 stars unpack the limits of our query, we load specific measurements from a product\n",
    "# data = dc.load(product='modis_mcd43a3_tile', measurements=['BRDF_Albedo_Band_Mandatory_Quality_Band1', 'Nadir_reflectance_Band2', 'Nadir_reflectance_Band3'], **query)\n",
    "# #mask invalid data removes clouds/shadows\n",
    "# data = mask_invalid_data(data)\n",
    "# data"
   ]
  },
  {
   "cell_type": "code",
   "execution_count": null,
   "metadata": {
    "collapsed": true
   },
   "outputs": [],
   "source": []
  }
 ],
 "metadata": {
  "kernelspec": {
   "display_name": "Python 3",
   "language": "python",
   "name": "python3"
  },
  "language_info": {
   "codemirror_mode": {
    "name": "ipython",
    "version": 3
   },
   "file_extension": ".py",
   "mimetype": "text/x-python",
   "name": "python",
   "nbconvert_exporter": "python",
   "pygments_lexer": "ipython3",
   "version": "3.6.3"
  }
 },
 "nbformat": 4,
 "nbformat_minor": 2
}
